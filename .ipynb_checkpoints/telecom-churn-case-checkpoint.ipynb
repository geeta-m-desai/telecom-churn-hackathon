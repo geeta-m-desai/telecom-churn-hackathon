{
 "cells": [
  {
   "cell_type": "markdown",
   "id": "e293fb5f",
   "metadata": {
    "papermill": {
     "duration": 0.073134,
     "end_time": "2022-05-10T14:34:34.247796",
     "exception": false,
     "start_time": "2022-05-10T14:34:34.174662",
     "status": "completed"
    },
    "tags": []
   },
   "source": [
    "### Telecom Churn Prediction"
   ]
  },
  {
   "cell_type": "markdown",
   "id": "16aac3ab",
   "metadata": {
    "papermill": {
     "duration": 0.067777,
     "end_time": "2022-05-10T14:34:34.661120",
     "exception": false,
     "start_time": "2022-05-10T14:34:34.593343",
     "status": "completed"
    },
    "tags": []
   },
   "source": [
    "# Business Goal\n",
    "\n",
    "In this project, we will analyse customer-level data of a leading telecom firm, build predictive models to identify customers at high risk of churn and identify the main indicators of churn."
   ]
  },
  {
   "cell_type": "markdown",
   "id": "52e9363a",
   "metadata": {
    "papermill": {
     "duration": 0.069162,
     "end_time": "2022-05-10T14:34:34.798609",
     "exception": false,
     "start_time": "2022-05-10T14:34:34.729447",
     "status": "completed"
    },
    "tags": []
   },
   "source": [
    "# 1. Loading dependencies & datasets\n",
    "\n",
    "Lets start by loading dependencies. "
   ]
  },
  {
   "cell_type": "code",
   "execution_count": 3,
   "id": "f876f665",
   "metadata": {
    "execution": {
     "iopub.execute_input": "2022-05-10T14:34:34.939683Z",
     "iopub.status.busy": "2022-05-10T14:34:34.939173Z",
     "iopub.status.idle": "2022-05-10T14:34:36.717960Z",
     "shell.execute_reply": "2022-05-10T14:34:36.716984Z"
    },
    "papermill": {
     "duration": 1.853813,
     "end_time": "2022-05-10T14:34:36.720932",
     "exception": false,
     "start_time": "2022-05-10T14:34:34.867119",
     "status": "completed"
    },
    "tags": []
   },
   "outputs": [],
   "source": [
    "#Data Structures\n",
    "import pandas as pd\n",
    "import numpy as np\n",
    "import re\n",
    "import os\n",
    "\n",
    "### For installing missingno library, type this command in terminal\n",
    "#pip install missingno\n",
    "\n",
    "import missingno as msno\n",
    "\n",
    "#Sklearn\n",
    "from sklearn.impute import SimpleImputer\n",
    "from sklearn.preprocessing import StandardScaler\n",
    "from sklearn.model_selection import train_test_split\n",
    "from sklearn.ensemble import RandomForestClassifier\n",
    "from sklearn.decomposition import PCA\n",
    "from sklearn.manifold import TSNE\n",
    "from sklearn.linear_model import LogisticRegression\n",
    "from sklearn.pipeline import Pipeline\n",
    "from sklearn.model_selection import GridSearchCV\n",
    "from sklearn.metrics import confusion_matrix, precision_score, recall_score\n",
    "\n",
    "#Plotting\n",
    "import matplotlib.pyplot as plt\n",
    "from mpl_toolkits.mplot3d import Axes3D\n",
    "import seaborn as sns\n",
    "\n",
    "#Others\n",
    "import warnings\n",
    "warnings.filterwarnings('ignore')\n",
    "\n",
    "%matplotlib inline"
   ]
  },
  {
   "cell_type": "markdown",
   "id": "fe37e467",
   "metadata": {
    "papermill": {
     "duration": 0.068537,
     "end_time": "2022-05-10T14:34:36.860662",
     "exception": false,
     "start_time": "2022-05-10T14:34:36.792125",
     "status": "completed"
    },
    "tags": []
   },
   "source": [
    "Loading the datasets and the test data file."
   ]
  },
  {
   "cell_type": "code",
   "execution_count": 4,
   "id": "594ad53c",
   "metadata": {
    "execution": {
     "iopub.execute_input": "2022-05-10T14:34:37.151016Z",
     "iopub.status.busy": "2022-05-10T14:34:37.150645Z",
     "iopub.status.idle": "2022-05-10T14:34:40.582665Z",
     "shell.execute_reply": "2022-05-10T14:34:40.580755Z"
    },
    "papermill": {
     "duration": 3.504953,
     "end_time": "2022-05-10T14:34:40.585147",
     "exception": false,
     "start_time": "2022-05-10T14:34:37.080194",
     "status": "completed"
    },
    "tags": []
   },
   "outputs": [
    {
     "name": "stdout",
     "output_type": "stream",
     "text": [
      "(69999, 172)\n",
      "(30000, 171)\n",
      "(30000, 2)\n",
      "(36, 2)\n"
     ]
    }
   ],
   "source": [
    "data = pd.read_csv(\"train (1).csv\")\n",
    "unseen = pd.read_csv(\"test (1).csv\")\n",
    "sample = pd.read_csv(\"sample (2).csv\")\n",
    "data_dict = pd.read_csv(\"data_dictionary (1).csv\")\n",
    "\n",
    "print(data.shape)\n",
    "print(unseen.shape)\n",
    "print(sample.shape)\n",
    "print(data_dict.shape)"
   ]
  },
  {
   "cell_type": "code",
   "execution_count": 5,
   "id": "9206c293",
   "metadata": {},
   "outputs": [
    {
     "data": {
      "text/html": [
       "<div>\n",
       "<style scoped>\n",
       "    .dataframe tbody tr th:only-of-type {\n",
       "        vertical-align: middle;\n",
       "    }\n",
       "\n",
       "    .dataframe tbody tr th {\n",
       "        vertical-align: top;\n",
       "    }\n",
       "\n",
       "    .dataframe thead th {\n",
       "        text-align: right;\n",
       "    }\n",
       "</style>\n",
       "<table border=\"1\" class=\"dataframe\">\n",
       "  <thead>\n",
       "    <tr style=\"text-align: right;\">\n",
       "      <th></th>\n",
       "      <th>id</th>\n",
       "      <th>circle_id</th>\n",
       "      <th>loc_og_t2o_mou</th>\n",
       "      <th>std_og_t2o_mou</th>\n",
       "      <th>loc_ic_t2o_mou</th>\n",
       "      <th>last_date_of_month_6</th>\n",
       "      <th>last_date_of_month_7</th>\n",
       "      <th>last_date_of_month_8</th>\n",
       "      <th>arpu_6</th>\n",
       "      <th>arpu_7</th>\n",
       "      <th>...</th>\n",
       "      <th>sachet_3g_7</th>\n",
       "      <th>sachet_3g_8</th>\n",
       "      <th>fb_user_6</th>\n",
       "      <th>fb_user_7</th>\n",
       "      <th>fb_user_8</th>\n",
       "      <th>aon</th>\n",
       "      <th>aug_vbc_3g</th>\n",
       "      <th>jul_vbc_3g</th>\n",
       "      <th>jun_vbc_3g</th>\n",
       "      <th>churn_probability</th>\n",
       "    </tr>\n",
       "  </thead>\n",
       "  <tbody>\n",
       "    <tr>\n",
       "      <th>0</th>\n",
       "      <td>0</td>\n",
       "      <td>109</td>\n",
       "      <td>0.0</td>\n",
       "      <td>0.0</td>\n",
       "      <td>0.0</td>\n",
       "      <td>6/30/2014</td>\n",
       "      <td>7/31/2014</td>\n",
       "      <td>8/31/2014</td>\n",
       "      <td>31.277</td>\n",
       "      <td>87.009</td>\n",
       "      <td>...</td>\n",
       "      <td>0</td>\n",
       "      <td>0</td>\n",
       "      <td>NaN</td>\n",
       "      <td>NaN</td>\n",
       "      <td>NaN</td>\n",
       "      <td>1958</td>\n",
       "      <td>0.0</td>\n",
       "      <td>0.0</td>\n",
       "      <td>0.0</td>\n",
       "      <td>0</td>\n",
       "    </tr>\n",
       "    <tr>\n",
       "      <th>1</th>\n",
       "      <td>1</td>\n",
       "      <td>109</td>\n",
       "      <td>0.0</td>\n",
       "      <td>0.0</td>\n",
       "      <td>0.0</td>\n",
       "      <td>6/30/2014</td>\n",
       "      <td>7/31/2014</td>\n",
       "      <td>8/31/2014</td>\n",
       "      <td>0.000</td>\n",
       "      <td>122.787</td>\n",
       "      <td>...</td>\n",
       "      <td>0</td>\n",
       "      <td>0</td>\n",
       "      <td>NaN</td>\n",
       "      <td>1.0</td>\n",
       "      <td>NaN</td>\n",
       "      <td>710</td>\n",
       "      <td>0.0</td>\n",
       "      <td>0.0</td>\n",
       "      <td>0.0</td>\n",
       "      <td>0</td>\n",
       "    </tr>\n",
       "    <tr>\n",
       "      <th>2</th>\n",
       "      <td>2</td>\n",
       "      <td>109</td>\n",
       "      <td>0.0</td>\n",
       "      <td>0.0</td>\n",
       "      <td>0.0</td>\n",
       "      <td>6/30/2014</td>\n",
       "      <td>7/31/2014</td>\n",
       "      <td>8/31/2014</td>\n",
       "      <td>60.806</td>\n",
       "      <td>103.176</td>\n",
       "      <td>...</td>\n",
       "      <td>0</td>\n",
       "      <td>0</td>\n",
       "      <td>NaN</td>\n",
       "      <td>NaN</td>\n",
       "      <td>NaN</td>\n",
       "      <td>882</td>\n",
       "      <td>0.0</td>\n",
       "      <td>0.0</td>\n",
       "      <td>0.0</td>\n",
       "      <td>0</td>\n",
       "    </tr>\n",
       "    <tr>\n",
       "      <th>3</th>\n",
       "      <td>3</td>\n",
       "      <td>109</td>\n",
       "      <td>0.0</td>\n",
       "      <td>0.0</td>\n",
       "      <td>0.0</td>\n",
       "      <td>6/30/2014</td>\n",
       "      <td>7/31/2014</td>\n",
       "      <td>8/31/2014</td>\n",
       "      <td>156.362</td>\n",
       "      <td>205.260</td>\n",
       "      <td>...</td>\n",
       "      <td>0</td>\n",
       "      <td>0</td>\n",
       "      <td>NaN</td>\n",
       "      <td>NaN</td>\n",
       "      <td>NaN</td>\n",
       "      <td>982</td>\n",
       "      <td>0.0</td>\n",
       "      <td>0.0</td>\n",
       "      <td>0.0</td>\n",
       "      <td>0</td>\n",
       "    </tr>\n",
       "    <tr>\n",
       "      <th>4</th>\n",
       "      <td>4</td>\n",
       "      <td>109</td>\n",
       "      <td>0.0</td>\n",
       "      <td>0.0</td>\n",
       "      <td>0.0</td>\n",
       "      <td>6/30/2014</td>\n",
       "      <td>7/31/2014</td>\n",
       "      <td>8/31/2014</td>\n",
       "      <td>240.708</td>\n",
       "      <td>128.191</td>\n",
       "      <td>...</td>\n",
       "      <td>1</td>\n",
       "      <td>0</td>\n",
       "      <td>1.0</td>\n",
       "      <td>1.0</td>\n",
       "      <td>1.0</td>\n",
       "      <td>647</td>\n",
       "      <td>0.0</td>\n",
       "      <td>0.0</td>\n",
       "      <td>0.0</td>\n",
       "      <td>0</td>\n",
       "    </tr>\n",
       "  </tbody>\n",
       "</table>\n",
       "<p>5 rows × 172 columns</p>\n",
       "</div>"
      ],
      "text/plain": [
       "   id  circle_id  loc_og_t2o_mou  std_og_t2o_mou  loc_ic_t2o_mou  \\\n",
       "0   0        109             0.0             0.0             0.0   \n",
       "1   1        109             0.0             0.0             0.0   \n",
       "2   2        109             0.0             0.0             0.0   \n",
       "3   3        109             0.0             0.0             0.0   \n",
       "4   4        109             0.0             0.0             0.0   \n",
       "\n",
       "  last_date_of_month_6 last_date_of_month_7 last_date_of_month_8   arpu_6  \\\n",
       "0            6/30/2014            7/31/2014            8/31/2014   31.277   \n",
       "1            6/30/2014            7/31/2014            8/31/2014    0.000   \n",
       "2            6/30/2014            7/31/2014            8/31/2014   60.806   \n",
       "3            6/30/2014            7/31/2014            8/31/2014  156.362   \n",
       "4            6/30/2014            7/31/2014            8/31/2014  240.708   \n",
       "\n",
       "    arpu_7  ...  sachet_3g_7  sachet_3g_8  fb_user_6  fb_user_7  fb_user_8  \\\n",
       "0   87.009  ...            0            0        NaN        NaN        NaN   \n",
       "1  122.787  ...            0            0        NaN        1.0        NaN   \n",
       "2  103.176  ...            0            0        NaN        NaN        NaN   \n",
       "3  205.260  ...            0            0        NaN        NaN        NaN   \n",
       "4  128.191  ...            1            0        1.0        1.0        1.0   \n",
       "\n",
       "    aon  aug_vbc_3g  jul_vbc_3g  jun_vbc_3g  churn_probability  \n",
       "0  1958         0.0         0.0         0.0                  0  \n",
       "1   710         0.0         0.0         0.0                  0  \n",
       "2   882         0.0         0.0         0.0                  0  \n",
       "3   982         0.0         0.0         0.0                  0  \n",
       "4   647         0.0         0.0         0.0                  0  \n",
       "\n",
       "[5 rows x 172 columns]"
      ]
     },
     "execution_count": 5,
     "metadata": {},
     "output_type": "execute_result"
    }
   ],
   "source": [
    "#Observe the data \n",
    "data.head(5)"
   ]
  },
  {
   "cell_type": "code",
   "execution_count": 6,
   "id": "b2590418",
   "metadata": {
    "execution": {
     "iopub.execute_input": "2022-05-10T14:34:41.673133Z",
     "iopub.status.busy": "2022-05-10T14:34:41.672482Z",
     "iopub.status.idle": "2022-05-10T14:34:41.698793Z",
     "shell.execute_reply": "2022-05-10T14:34:41.697715Z"
    },
    "papermill": {
     "duration": 0.10057,
     "end_time": "2022-05-10T14:34:41.701577",
     "exception": false,
     "start_time": "2022-05-10T14:34:41.601007",
     "status": "completed"
    },
    "tags": []
   },
   "outputs": [
    {
     "name": "stdout",
     "output_type": "stream",
     "text": [
      "<class 'pandas.core.frame.DataFrame'>\n",
      "RangeIndex: 69999 entries, 0 to 69998\n",
      "Data columns (total 172 columns):\n",
      " #    Column                    Dtype  \n",
      "---   ------                    -----  \n",
      " 0    id                        int64  \n",
      " 1    circle_id                 int64  \n",
      " 2    loc_og_t2o_mou            float64\n",
      " 3    std_og_t2o_mou            float64\n",
      " 4    loc_ic_t2o_mou            float64\n",
      " 5    last_date_of_month_6      object \n",
      " 6    last_date_of_month_7      object \n",
      " 7    last_date_of_month_8      object \n",
      " 8    arpu_6                    float64\n",
      " 9    arpu_7                    float64\n",
      " 10   arpu_8                    float64\n",
      " 11   onnet_mou_6               float64\n",
      " 12   onnet_mou_7               float64\n",
      " 13   onnet_mou_8               float64\n",
      " 14   offnet_mou_6              float64\n",
      " 15   offnet_mou_7              float64\n",
      " 16   offnet_mou_8              float64\n",
      " 17   roam_ic_mou_6             float64\n",
      " 18   roam_ic_mou_7             float64\n",
      " 19   roam_ic_mou_8             float64\n",
      " 20   roam_og_mou_6             float64\n",
      " 21   roam_og_mou_7             float64\n",
      " 22   roam_og_mou_8             float64\n",
      " 23   loc_og_t2t_mou_6          float64\n",
      " 24   loc_og_t2t_mou_7          float64\n",
      " 25   loc_og_t2t_mou_8          float64\n",
      " 26   loc_og_t2m_mou_6          float64\n",
      " 27   loc_og_t2m_mou_7          float64\n",
      " 28   loc_og_t2m_mou_8          float64\n",
      " 29   loc_og_t2f_mou_6          float64\n",
      " 30   loc_og_t2f_mou_7          float64\n",
      " 31   loc_og_t2f_mou_8          float64\n",
      " 32   loc_og_t2c_mou_6          float64\n",
      " 33   loc_og_t2c_mou_7          float64\n",
      " 34   loc_og_t2c_mou_8          float64\n",
      " 35   loc_og_mou_6              float64\n",
      " 36   loc_og_mou_7              float64\n",
      " 37   loc_og_mou_8              float64\n",
      " 38   std_og_t2t_mou_6          float64\n",
      " 39   std_og_t2t_mou_7          float64\n",
      " 40   std_og_t2t_mou_8          float64\n",
      " 41   std_og_t2m_mou_6          float64\n",
      " 42   std_og_t2m_mou_7          float64\n",
      " 43   std_og_t2m_mou_8          float64\n",
      " 44   std_og_t2f_mou_6          float64\n",
      " 45   std_og_t2f_mou_7          float64\n",
      " 46   std_og_t2f_mou_8          float64\n",
      " 47   std_og_t2c_mou_6          float64\n",
      " 48   std_og_t2c_mou_7          float64\n",
      " 49   std_og_t2c_mou_8          float64\n",
      " 50   std_og_mou_6              float64\n",
      " 51   std_og_mou_7              float64\n",
      " 52   std_og_mou_8              float64\n",
      " 53   isd_og_mou_6              float64\n",
      " 54   isd_og_mou_7              float64\n",
      " 55   isd_og_mou_8              float64\n",
      " 56   spl_og_mou_6              float64\n",
      " 57   spl_og_mou_7              float64\n",
      " 58   spl_og_mou_8              float64\n",
      " 59   og_others_6               float64\n",
      " 60   og_others_7               float64\n",
      " 61   og_others_8               float64\n",
      " 62   total_og_mou_6            float64\n",
      " 63   total_og_mou_7            float64\n",
      " 64   total_og_mou_8            float64\n",
      " 65   loc_ic_t2t_mou_6          float64\n",
      " 66   loc_ic_t2t_mou_7          float64\n",
      " 67   loc_ic_t2t_mou_8          float64\n",
      " 68   loc_ic_t2m_mou_6          float64\n",
      " 69   loc_ic_t2m_mou_7          float64\n",
      " 70   loc_ic_t2m_mou_8          float64\n",
      " 71   loc_ic_t2f_mou_6          float64\n",
      " 72   loc_ic_t2f_mou_7          float64\n",
      " 73   loc_ic_t2f_mou_8          float64\n",
      " 74   loc_ic_mou_6              float64\n",
      " 75   loc_ic_mou_7              float64\n",
      " 76   loc_ic_mou_8              float64\n",
      " 77   std_ic_t2t_mou_6          float64\n",
      " 78   std_ic_t2t_mou_7          float64\n",
      " 79   std_ic_t2t_mou_8          float64\n",
      " 80   std_ic_t2m_mou_6          float64\n",
      " 81   std_ic_t2m_mou_7          float64\n",
      " 82   std_ic_t2m_mou_8          float64\n",
      " 83   std_ic_t2f_mou_6          float64\n",
      " 84   std_ic_t2f_mou_7          float64\n",
      " 85   std_ic_t2f_mou_8          float64\n",
      " 86   std_ic_t2o_mou_6          float64\n",
      " 87   std_ic_t2o_mou_7          float64\n",
      " 88   std_ic_t2o_mou_8          float64\n",
      " 89   std_ic_mou_6              float64\n",
      " 90   std_ic_mou_7              float64\n",
      " 91   std_ic_mou_8              float64\n",
      " 92   total_ic_mou_6            float64\n",
      " 93   total_ic_mou_7            float64\n",
      " 94   total_ic_mou_8            float64\n",
      " 95   spl_ic_mou_6              float64\n",
      " 96   spl_ic_mou_7              float64\n",
      " 97   spl_ic_mou_8              float64\n",
      " 98   isd_ic_mou_6              float64\n",
      " 99   isd_ic_mou_7              float64\n",
      " 100  isd_ic_mou_8              float64\n",
      " 101  ic_others_6               float64\n",
      " 102  ic_others_7               float64\n",
      " 103  ic_others_8               float64\n",
      " 104  total_rech_num_6          int64  \n",
      " 105  total_rech_num_7          int64  \n",
      " 106  total_rech_num_8          int64  \n",
      " 107  total_rech_amt_6          int64  \n",
      " 108  total_rech_amt_7          int64  \n",
      " 109  total_rech_amt_8          int64  \n",
      " 110  max_rech_amt_6            int64  \n",
      " 111  max_rech_amt_7            int64  \n",
      " 112  max_rech_amt_8            int64  \n",
      " 113  date_of_last_rech_6       object \n",
      " 114  date_of_last_rech_7       object \n",
      " 115  date_of_last_rech_8       object \n",
      " 116  last_day_rch_amt_6        int64  \n",
      " 117  last_day_rch_amt_7        int64  \n",
      " 118  last_day_rch_amt_8        int64  \n",
      " 119  date_of_last_rech_data_6  object \n",
      " 120  date_of_last_rech_data_7  object \n",
      " 121  date_of_last_rech_data_8  object \n",
      " 122  total_rech_data_6         float64\n",
      " 123  total_rech_data_7         float64\n",
      " 124  total_rech_data_8         float64\n",
      " 125  max_rech_data_6           float64\n",
      " 126  max_rech_data_7           float64\n",
      " 127  max_rech_data_8           float64\n",
      " 128  count_rech_2g_6           float64\n",
      " 129  count_rech_2g_7           float64\n",
      " 130  count_rech_2g_8           float64\n",
      " 131  count_rech_3g_6           float64\n",
      " 132  count_rech_3g_7           float64\n",
      " 133  count_rech_3g_8           float64\n",
      " 134  av_rech_amt_data_6        float64\n",
      " 135  av_rech_amt_data_7        float64\n",
      " 136  av_rech_amt_data_8        float64\n",
      " 137  vol_2g_mb_6               float64\n",
      " 138  vol_2g_mb_7               float64\n",
      " 139  vol_2g_mb_8               float64\n",
      " 140  vol_3g_mb_6               float64\n",
      " 141  vol_3g_mb_7               float64\n",
      " 142  vol_3g_mb_8               float64\n",
      " 143  arpu_3g_6                 float64\n",
      " 144  arpu_3g_7                 float64\n",
      " 145  arpu_3g_8                 float64\n",
      " 146  arpu_2g_6                 float64\n",
      " 147  arpu_2g_7                 float64\n",
      " 148  arpu_2g_8                 float64\n",
      " 149  night_pck_user_6          float64\n",
      " 150  night_pck_user_7          float64\n",
      " 151  night_pck_user_8          float64\n",
      " 152  monthly_2g_6              int64  \n",
      " 153  monthly_2g_7              int64  \n",
      " 154  monthly_2g_8              int64  \n",
      " 155  sachet_2g_6               int64  \n",
      " 156  sachet_2g_7               int64  \n",
      " 157  sachet_2g_8               int64  \n",
      " 158  monthly_3g_6              int64  \n",
      " 159  monthly_3g_7              int64  \n",
      " 160  monthly_3g_8              int64  \n",
      " 161  sachet_3g_6               int64  \n",
      " 162  sachet_3g_7               int64  \n",
      " 163  sachet_3g_8               int64  \n",
      " 164  fb_user_6                 float64\n",
      " 165  fb_user_7                 float64\n",
      " 166  fb_user_8                 float64\n",
      " 167  aon                       int64  \n",
      " 168  aug_vbc_3g                float64\n",
      " 169  jul_vbc_3g                float64\n",
      " 170  jun_vbc_3g                float64\n",
      " 171  churn_probability         int64  \n",
      "dtypes: float64(135), int64(28), object(9)\n",
      "memory usage: 91.9+ MB\n"
     ]
    }
   ],
   "source": [
    "#Observe more information on data like data types and null values\n",
    "data.info(verbose=1)"
   ]
  },
  {
   "cell_type": "markdown",
   "id": "4abe91aa",
   "metadata": {},
   "source": [
    "#Add some of the dervied columns like average daily usage and average 3d gain. These columns seem more importnat from business perspective"
   ]
  },
  {
   "cell_type": "code",
   "execution_count": 7,
   "id": "204cdc23",
   "metadata": {},
   "outputs": [],
   "source": [
    "data['avg_daily_usage']=(data['total_og_mou_6']+data['total_og_mou_7']+data['total_og_mou_8'])/data['aon'].round(0)"
   ]
  },
  {
   "cell_type": "code",
   "execution_count": 8,
   "id": "e3a24f48",
   "metadata": {},
   "outputs": [],
   "source": [
    "data['avg_3g_gain']=(((data['vol_3g_mb_6']-data['vol_3g_mb_7'])-data['vol_3g_mb_8'])/3).round(0)"
   ]
  },
  {
   "cell_type": "markdown",
   "id": "7d100e6f",
   "metadata": {},
   "source": [
    "Average 2d gain did not contobute much on model when tested Hence commented the same."
   ]
  },
  {
   "cell_type": "code",
   "execution_count": 9,
   "id": "7f18f4c4",
   "metadata": {},
   "outputs": [],
   "source": [
    "#data['avg_2g_gain']=(((data['vol_2g_mb_6']-data['vol_2g_mb_7'])-data['vol_2g_mb_8'])/3).round(0)"
   ]
  },
  {
   "cell_type": "markdown",
   "id": "4ab29d2c",
   "metadata": {},
   "source": [
    "#Consider all total related columns, revenue columns , volume columns. Date columns are not needed as there is no histrical data of users"
   ]
  },
  {
   "cell_type": "code",
   "execution_count": 10,
   "id": "9e37a07b",
   "metadata": {
    "execution": {
     "iopub.execute_input": "2022-05-10T14:34:41.175826Z",
     "iopub.status.busy": "2022-05-10T14:34:41.174692Z",
     "iopub.status.idle": "2022-05-10T14:34:41.211470Z",
     "shell.execute_reply": "2022-05-10T14:34:41.210506Z"
    },
    "papermill": {
     "duration": 0.110452,
     "end_time": "2022-05-10T14:34:41.214068",
     "exception": false,
     "start_time": "2022-05-10T14:34:41.103616",
     "status": "completed"
    },
    "tags": []
   },
   "outputs": [],
   "source": [
    "ids = ['id','circle_id']\n",
    "total_amounts = [i for i in list(data.columns) if re.search('total.+amt',i)]\n",
    "total_outgoing_minutes = [i for i in list(data.columns) if re.search('total.+og.+mou',i)]\n",
    "offnetwork_minutes = [i for i in list(data.columns) if re.search('offnet',i)]\n",
    "average_revenue_3g = [i for i in list(data.columns) if re.search('arpu.+3g',i)]\n",
    "average_revenue_2g = [i for i in list(data.columns) if re.search('arpu.+2g',i)]\n",
    "volume_3g = [i for i in list(data.columns) if re.search('vol.+3g',i)]\n",
    "volume_2g = [i for i in list(data.columns) if re.search('vol.+2g',i)]\n",
    "age_on_network = [i for i in list(data.columns) if re.search('aon',i)]\n",
    "avg_daily_usage=[i for i in list(data.columns) if re.search('avg_daily_usage',i)]\n",
    "avg_3g_gain=[i for i in list(data.columns) if re.search('avg_3g_gain',i)]\n",
    "#avg_2g_gain=[i for i in list(data.columns) if re.search('avg_2g_gain',i)]\n",
    "\n",
    "#Storing them in a single flat list\n",
    "variables = [*ids,             \n",
    "             *total_amounts, \n",
    "             *total_outgoing_minutes, \n",
    "             *offnetwork_minutes, \n",
    "             *average_revenue_3g, \n",
    "             *average_revenue_2g,\n",
    "             *volume_3g,\n",
    "             *volume_2g,\n",
    "             *age_on_network,\n",
    "             *avg_daily_usage,\n",
    "             *avg_3g_gain,\n",
    "             'churn_probability']\n",
    "\n",
    "data = data[variables].set_index('id')"
   ]
  },
  {
   "cell_type": "markdown",
   "id": "74973328",
   "metadata": {
    "papermill": {
     "duration": 0.073745,
     "end_time": "2022-05-10T14:34:41.846415",
     "exception": false,
     "start_time": "2022-05-10T14:34:41.772670",
     "status": "completed"
    },
    "tags": []
   },
   "source": [
    "Let's also summarize the features using the df.describe method:"
   ]
  },
  {
   "cell_type": "code",
   "execution_count": 11,
   "id": "f4af326c",
   "metadata": {
    "execution": {
     "iopub.execute_input": "2022-05-10T14:34:41.991632Z",
     "iopub.status.busy": "2022-05-10T14:34:41.990611Z",
     "iopub.status.idle": "2022-05-10T14:34:42.149922Z",
     "shell.execute_reply": "2022-05-10T14:34:42.148853Z"
    },
    "papermill": {
     "duration": 0.233986,
     "end_time": "2022-05-10T14:34:42.152459",
     "exception": false,
     "start_time": "2022-05-10T14:34:41.918473",
     "status": "completed"
    },
    "tags": []
   },
   "outputs": [
    {
     "data": {
      "text/html": [
       "<div>\n",
       "<style scoped>\n",
       "    .dataframe tbody tr th:only-of-type {\n",
       "        vertical-align: middle;\n",
       "    }\n",
       "\n",
       "    .dataframe tbody tr th {\n",
       "        vertical-align: top;\n",
       "    }\n",
       "\n",
       "    .dataframe thead th {\n",
       "        text-align: right;\n",
       "    }\n",
       "</style>\n",
       "<table border=\"1\" class=\"dataframe\">\n",
       "  <thead>\n",
       "    <tr style=\"text-align: right;\">\n",
       "      <th></th>\n",
       "      <th>circle_id</th>\n",
       "      <th>total_rech_amt_6</th>\n",
       "      <th>total_rech_amt_7</th>\n",
       "      <th>total_rech_amt_8</th>\n",
       "      <th>total_og_mou_6</th>\n",
       "      <th>total_og_mou_7</th>\n",
       "      <th>total_og_mou_8</th>\n",
       "      <th>offnet_mou_6</th>\n",
       "      <th>offnet_mou_7</th>\n",
       "      <th>offnet_mou_8</th>\n",
       "      <th>...</th>\n",
       "      <th>vol_3g_mb_6</th>\n",
       "      <th>vol_3g_mb_7</th>\n",
       "      <th>vol_3g_mb_8</th>\n",
       "      <th>vol_2g_mb_6</th>\n",
       "      <th>vol_2g_mb_7</th>\n",
       "      <th>vol_2g_mb_8</th>\n",
       "      <th>aon</th>\n",
       "      <th>avg_daily_usage</th>\n",
       "      <th>avg_3g_gain</th>\n",
       "      <th>churn_probability</th>\n",
       "    </tr>\n",
       "  </thead>\n",
       "  <tbody>\n",
       "    <tr>\n",
       "      <th>count</th>\n",
       "      <td>69999.0</td>\n",
       "      <td>69999.000000</td>\n",
       "      <td>69999.000000</td>\n",
       "      <td>69999.000000</td>\n",
       "      <td>69999.000000</td>\n",
       "      <td>69999.000000</td>\n",
       "      <td>69999.000000</td>\n",
       "      <td>67231.000000</td>\n",
       "      <td>67312.000000</td>\n",
       "      <td>66296.000000</td>\n",
       "      <td>...</td>\n",
       "      <td>69999.000000</td>\n",
       "      <td>69999.000000</td>\n",
       "      <td>69999.000000</td>\n",
       "      <td>69999.000000</td>\n",
       "      <td>69999.000000</td>\n",
       "      <td>69999.000000</td>\n",
       "      <td>69999.000000</td>\n",
       "      <td>69999.000000</td>\n",
       "      <td>69999.000000</td>\n",
       "      <td>69999.000000</td>\n",
       "    </tr>\n",
       "    <tr>\n",
       "      <th>mean</th>\n",
       "      <td>109.0</td>\n",
       "      <td>328.139788</td>\n",
       "      <td>322.376363</td>\n",
       "      <td>323.846355</td>\n",
       "      <td>306.451436</td>\n",
       "      <td>310.572674</td>\n",
       "      <td>304.513065</td>\n",
       "      <td>198.874771</td>\n",
       "      <td>197.153383</td>\n",
       "      <td>196.543577</td>\n",
       "      <td>...</td>\n",
       "      <td>122.171882</td>\n",
       "      <td>128.934444</td>\n",
       "      <td>135.486541</td>\n",
       "      <td>51.773924</td>\n",
       "      <td>51.240204</td>\n",
       "      <td>50.127506</td>\n",
       "      <td>1220.639709</td>\n",
       "      <td>1.446863</td>\n",
       "      <td>-47.417106</td>\n",
       "      <td>0.101887</td>\n",
       "    </tr>\n",
       "    <tr>\n",
       "      <th>std</th>\n",
       "      <td>0.0</td>\n",
       "      <td>404.211068</td>\n",
       "      <td>411.070120</td>\n",
       "      <td>426.181405</td>\n",
       "      <td>465.502866</td>\n",
       "      <td>479.131770</td>\n",
       "      <td>477.936832</td>\n",
       "      <td>316.818355</td>\n",
       "      <td>322.482226</td>\n",
       "      <td>324.089234</td>\n",
       "      <td>...</td>\n",
       "      <td>554.869965</td>\n",
       "      <td>554.096072</td>\n",
       "      <td>568.310234</td>\n",
       "      <td>212.513909</td>\n",
       "      <td>211.114667</td>\n",
       "      <td>213.101403</td>\n",
       "      <td>952.426321</td>\n",
       "      <td>2.855884</td>\n",
       "      <td>252.718832</td>\n",
       "      <td>0.302502</td>\n",
       "    </tr>\n",
       "    <tr>\n",
       "      <th>min</th>\n",
       "      <td>109.0</td>\n",
       "      <td>0.000000</td>\n",
       "      <td>0.000000</td>\n",
       "      <td>0.000000</td>\n",
       "      <td>0.000000</td>\n",
       "      <td>0.000000</td>\n",
       "      <td>0.000000</td>\n",
       "      <td>0.000000</td>\n",
       "      <td>0.000000</td>\n",
       "      <td>0.000000</td>\n",
       "      <td>...</td>\n",
       "      <td>0.000000</td>\n",
       "      <td>0.000000</td>\n",
       "      <td>0.000000</td>\n",
       "      <td>0.000000</td>\n",
       "      <td>0.000000</td>\n",
       "      <td>0.000000</td>\n",
       "      <td>180.000000</td>\n",
       "      <td>0.000000</td>\n",
       "      <td>-13427.000000</td>\n",
       "      <td>0.000000</td>\n",
       "    </tr>\n",
       "    <tr>\n",
       "      <th>25%</th>\n",
       "      <td>109.0</td>\n",
       "      <td>110.000000</td>\n",
       "      <td>100.000000</td>\n",
       "      <td>90.000000</td>\n",
       "      <td>44.780000</td>\n",
       "      <td>42.910000</td>\n",
       "      <td>38.710000</td>\n",
       "      <td>34.860000</td>\n",
       "      <td>32.240000</td>\n",
       "      <td>31.575000</td>\n",
       "      <td>...</td>\n",
       "      <td>0.000000</td>\n",
       "      <td>0.000000</td>\n",
       "      <td>0.000000</td>\n",
       "      <td>0.000000</td>\n",
       "      <td>0.000000</td>\n",
       "      <td>0.000000</td>\n",
       "      <td>468.000000</td>\n",
       "      <td>0.173900</td>\n",
       "      <td>0.000000</td>\n",
       "      <td>0.000000</td>\n",
       "    </tr>\n",
       "    <tr>\n",
       "      <th>50%</th>\n",
       "      <td>109.0</td>\n",
       "      <td>229.000000</td>\n",
       "      <td>220.000000</td>\n",
       "      <td>225.000000</td>\n",
       "      <td>145.280000</td>\n",
       "      <td>141.230000</td>\n",
       "      <td>138.360000</td>\n",
       "      <td>96.480000</td>\n",
       "      <td>91.885000</td>\n",
       "      <td>91.800000</td>\n",
       "      <td>...</td>\n",
       "      <td>0.000000</td>\n",
       "      <td>0.000000</td>\n",
       "      <td>0.000000</td>\n",
       "      <td>0.000000</td>\n",
       "      <td>0.000000</td>\n",
       "      <td>0.000000</td>\n",
       "      <td>868.000000</td>\n",
       "      <td>0.491472</td>\n",
       "      <td>0.000000</td>\n",
       "      <td>0.000000</td>\n",
       "    </tr>\n",
       "    <tr>\n",
       "      <th>75%</th>\n",
       "      <td>109.0</td>\n",
       "      <td>438.000000</td>\n",
       "      <td>430.000000</td>\n",
       "      <td>436.000000</td>\n",
       "      <td>374.305000</td>\n",
       "      <td>380.045000</td>\n",
       "      <td>370.895000</td>\n",
       "      <td>232.990000</td>\n",
       "      <td>227.630000</td>\n",
       "      <td>229.345000</td>\n",
       "      <td>...</td>\n",
       "      <td>0.000000</td>\n",
       "      <td>0.000000</td>\n",
       "      <td>0.000000</td>\n",
       "      <td>0.000000</td>\n",
       "      <td>0.000000</td>\n",
       "      <td>0.000000</td>\n",
       "      <td>1813.000000</td>\n",
       "      <td>1.477867</td>\n",
       "      <td>0.000000</td>\n",
       "      <td>0.000000</td>\n",
       "    </tr>\n",
       "    <tr>\n",
       "      <th>max</th>\n",
       "      <td>109.0</td>\n",
       "      <td>35190.000000</td>\n",
       "      <td>40335.000000</td>\n",
       "      <td>45320.000000</td>\n",
       "      <td>10674.030000</td>\n",
       "      <td>8285.640000</td>\n",
       "      <td>14043.060000</td>\n",
       "      <td>8362.360000</td>\n",
       "      <td>7043.980000</td>\n",
       "      <td>14007.340000</td>\n",
       "      <td>...</td>\n",
       "      <td>45735.400000</td>\n",
       "      <td>28144.120000</td>\n",
       "      <td>30036.060000</td>\n",
       "      <td>10285.900000</td>\n",
       "      <td>7873.550000</td>\n",
       "      <td>11117.610000</td>\n",
       "      <td>4337.000000</td>\n",
       "      <td>76.822110</td>\n",
       "      <td>8517.000000</td>\n",
       "      <td>1.000000</td>\n",
       "    </tr>\n",
       "  </tbody>\n",
       "</table>\n",
       "<p>8 rows × 26 columns</p>\n",
       "</div>"
      ],
      "text/plain": [
       "       circle_id  total_rech_amt_6  total_rech_amt_7  total_rech_amt_8  \\\n",
       "count    69999.0      69999.000000      69999.000000      69999.000000   \n",
       "mean       109.0        328.139788        322.376363        323.846355   \n",
       "std          0.0        404.211068        411.070120        426.181405   \n",
       "min        109.0          0.000000          0.000000          0.000000   \n",
       "25%        109.0        110.000000        100.000000         90.000000   \n",
       "50%        109.0        229.000000        220.000000        225.000000   \n",
       "75%        109.0        438.000000        430.000000        436.000000   \n",
       "max        109.0      35190.000000      40335.000000      45320.000000   \n",
       "\n",
       "       total_og_mou_6  total_og_mou_7  total_og_mou_8  offnet_mou_6  \\\n",
       "count    69999.000000    69999.000000    69999.000000  67231.000000   \n",
       "mean       306.451436      310.572674      304.513065    198.874771   \n",
       "std        465.502866      479.131770      477.936832    316.818355   \n",
       "min          0.000000        0.000000        0.000000      0.000000   \n",
       "25%         44.780000       42.910000       38.710000     34.860000   \n",
       "50%        145.280000      141.230000      138.360000     96.480000   \n",
       "75%        374.305000      380.045000      370.895000    232.990000   \n",
       "max      10674.030000     8285.640000    14043.060000   8362.360000   \n",
       "\n",
       "       offnet_mou_7  offnet_mou_8  ...   vol_3g_mb_6   vol_3g_mb_7  \\\n",
       "count  67312.000000  66296.000000  ...  69999.000000  69999.000000   \n",
       "mean     197.153383    196.543577  ...    122.171882    128.934444   \n",
       "std      322.482226    324.089234  ...    554.869965    554.096072   \n",
       "min        0.000000      0.000000  ...      0.000000      0.000000   \n",
       "25%       32.240000     31.575000  ...      0.000000      0.000000   \n",
       "50%       91.885000     91.800000  ...      0.000000      0.000000   \n",
       "75%      227.630000    229.345000  ...      0.000000      0.000000   \n",
       "max     7043.980000  14007.340000  ...  45735.400000  28144.120000   \n",
       "\n",
       "        vol_3g_mb_8   vol_2g_mb_6   vol_2g_mb_7   vol_2g_mb_8           aon  \\\n",
       "count  69999.000000  69999.000000  69999.000000  69999.000000  69999.000000   \n",
       "mean     135.486541     51.773924     51.240204     50.127506   1220.639709   \n",
       "std      568.310234    212.513909    211.114667    213.101403    952.426321   \n",
       "min        0.000000      0.000000      0.000000      0.000000    180.000000   \n",
       "25%        0.000000      0.000000      0.000000      0.000000    468.000000   \n",
       "50%        0.000000      0.000000      0.000000      0.000000    868.000000   \n",
       "75%        0.000000      0.000000      0.000000      0.000000   1813.000000   \n",
       "max    30036.060000  10285.900000   7873.550000  11117.610000   4337.000000   \n",
       "\n",
       "       avg_daily_usage   avg_3g_gain  churn_probability  \n",
       "count     69999.000000  69999.000000       69999.000000  \n",
       "mean          1.446863    -47.417106           0.101887  \n",
       "std           2.855884    252.718832           0.302502  \n",
       "min           0.000000 -13427.000000           0.000000  \n",
       "25%           0.173900      0.000000           0.000000  \n",
       "50%           0.491472      0.000000           0.000000  \n",
       "75%           1.477867      0.000000           0.000000  \n",
       "max          76.822110   8517.000000           1.000000  \n",
       "\n",
       "[8 rows x 26 columns]"
      ]
     },
     "execution_count": 11,
     "metadata": {},
     "output_type": "execute_result"
    }
   ],
   "source": [
    "data.describe(include=\"all\")"
   ]
  },
  {
   "cell_type": "markdown",
   "id": "2c7e1930",
   "metadata": {
    "papermill": {
     "duration": 0.072245,
     "end_time": "2022-05-10T14:34:42.296929",
     "exception": false,
     "start_time": "2022-05-10T14:34:42.224684",
     "status": "completed"
    },
    "tags": []
   },
   "source": [
    "# 2. Create X, y and then Train test split\n",
    "\n",
    "Lets create X and y datasets and skip \"circle_id\" since it has only 1 unique value"
   ]
  },
  {
   "cell_type": "code",
   "execution_count": 12,
   "id": "07741ed5",
   "metadata": {
    "execution": {
     "iopub.execute_input": "2022-05-10T14:34:42.442608Z",
     "iopub.status.busy": "2022-05-10T14:34:42.442278Z",
     "iopub.status.idle": "2022-05-10T14:34:42.448766Z",
     "shell.execute_reply": "2022-05-10T14:34:42.447768Z"
    },
    "papermill": {
     "duration": 0.082014,
     "end_time": "2022-05-10T14:34:42.450864",
     "exception": false,
     "start_time": "2022-05-10T14:34:42.368850",
     "status": "completed"
    },
    "tags": []
   },
   "outputs": [
    {
     "data": {
      "text/plain": [
       "array([109])"
      ]
     },
     "execution_count": 12,
     "metadata": {},
     "output_type": "execute_result"
    }
   ],
   "source": [
    "data['circle_id'].unique()"
   ]
  },
  {
   "cell_type": "code",
   "execution_count": 13,
   "id": "f31e964b",
   "metadata": {
    "execution": {
     "iopub.execute_input": "2022-05-10T14:34:42.600871Z",
     "iopub.status.busy": "2022-05-10T14:34:42.600244Z",
     "iopub.status.idle": "2022-05-10T14:34:42.618902Z",
     "shell.execute_reply": "2022-05-10T14:34:42.618237Z"
    },
    "papermill": {
     "duration": 0.096702,
     "end_time": "2022-05-10T14:34:42.620933",
     "exception": false,
     "start_time": "2022-05-10T14:34:42.524231",
     "status": "completed"
    },
    "tags": []
   },
   "outputs": [
    {
     "data": {
      "text/plain": [
       "((69999, 24), (69999,))"
      ]
     },
     "execution_count": 13,
     "metadata": {},
     "output_type": "execute_result"
    }
   ],
   "source": [
    "X = data.drop(['circle_id'],1).iloc[:,:-1]\n",
    "y = data.iloc[:,-1]\n",
    "\n",
    "X.shape, y.shape"
   ]
  },
  {
   "cell_type": "markdown",
   "id": "43d2226d",
   "metadata": {
    "papermill": {
     "duration": 0.073737,
     "end_time": "2022-05-10T14:34:42.768895",
     "exception": false,
     "start_time": "2022-05-10T14:34:42.695158",
     "status": "completed"
    },
    "tags": []
   },
   "source": [
    "Splitting train and test data to avoid any contamination of the test data"
   ]
  },
  {
   "cell_type": "code",
   "execution_count": 14,
   "id": "81b840b3",
   "metadata": {
    "execution": {
     "iopub.execute_input": "2022-05-10T14:34:42.942993Z",
     "iopub.status.busy": "2022-05-10T14:34:42.942672Z",
     "iopub.status.idle": "2022-05-10T14:34:42.972232Z",
     "shell.execute_reply": "2022-05-10T14:34:42.971257Z"
    },
    "papermill": {
     "duration": 0.112783,
     "end_time": "2022-05-10T14:34:42.974515",
     "exception": false,
     "start_time": "2022-05-10T14:34:42.861732",
     "status": "completed"
    },
    "tags": []
   },
   "outputs": [
    {
     "data": {
      "text/plain": [
       "((55999, 24), (14000, 24), (55999,), (14000,))"
      ]
     },
     "execution_count": 14,
     "metadata": {},
     "output_type": "execute_result"
    }
   ],
   "source": [
    "X_train, X_test, y_train, y_test = train_test_split(X, y, test_size=0.2)\n",
    "\n",
    "X_train.shape, X_test.shape, y_train.shape, y_test.shape"
   ]
  },
  {
   "cell_type": "code",
   "execution_count": 15,
   "id": "b655671d",
   "metadata": {
    "execution": {
     "iopub.execute_input": "2022-05-10T14:34:43.126105Z",
     "iopub.status.busy": "2022-05-10T14:34:43.125076Z",
     "iopub.status.idle": "2022-05-10T14:34:43.154261Z",
     "shell.execute_reply": "2022-05-10T14:34:43.153332Z"
    },
    "papermill": {
     "duration": 0.105821,
     "end_time": "2022-05-10T14:34:43.156670",
     "exception": false,
     "start_time": "2022-05-10T14:34:43.050849",
     "status": "completed"
    },
    "tags": []
   },
   "outputs": [
    {
     "data": {
      "text/html": [
       "<div>\n",
       "<style scoped>\n",
       "    .dataframe tbody tr th:only-of-type {\n",
       "        vertical-align: middle;\n",
       "    }\n",
       "\n",
       "    .dataframe tbody tr th {\n",
       "        vertical-align: top;\n",
       "    }\n",
       "\n",
       "    .dataframe thead th {\n",
       "        text-align: right;\n",
       "    }\n",
       "</style>\n",
       "<table border=\"1\" class=\"dataframe\">\n",
       "  <thead>\n",
       "    <tr style=\"text-align: right;\">\n",
       "      <th></th>\n",
       "      <th>total_rech_amt_6</th>\n",
       "      <th>total_rech_amt_7</th>\n",
       "      <th>total_rech_amt_8</th>\n",
       "      <th>total_og_mou_6</th>\n",
       "      <th>total_og_mou_7</th>\n",
       "      <th>total_og_mou_8</th>\n",
       "      <th>offnet_mou_6</th>\n",
       "      <th>offnet_mou_7</th>\n",
       "      <th>offnet_mou_8</th>\n",
       "      <th>arpu_3g_6</th>\n",
       "      <th>...</th>\n",
       "      <th>arpu_2g_8</th>\n",
       "      <th>vol_3g_mb_6</th>\n",
       "      <th>vol_3g_mb_7</th>\n",
       "      <th>vol_3g_mb_8</th>\n",
       "      <th>vol_2g_mb_6</th>\n",
       "      <th>vol_2g_mb_7</th>\n",
       "      <th>vol_2g_mb_8</th>\n",
       "      <th>aon</th>\n",
       "      <th>avg_daily_usage</th>\n",
       "      <th>avg_3g_gain</th>\n",
       "    </tr>\n",
       "    <tr>\n",
       "      <th>id</th>\n",
       "      <th></th>\n",
       "      <th></th>\n",
       "      <th></th>\n",
       "      <th></th>\n",
       "      <th></th>\n",
       "      <th></th>\n",
       "      <th></th>\n",
       "      <th></th>\n",
       "      <th></th>\n",
       "      <th></th>\n",
       "      <th></th>\n",
       "      <th></th>\n",
       "      <th></th>\n",
       "      <th></th>\n",
       "      <th></th>\n",
       "      <th></th>\n",
       "      <th></th>\n",
       "      <th></th>\n",
       "      <th></th>\n",
       "      <th></th>\n",
       "      <th></th>\n",
       "    </tr>\n",
       "  </thead>\n",
       "  <tbody>\n",
       "    <tr>\n",
       "      <th>26547</th>\n",
       "      <td>501</td>\n",
       "      <td>254</td>\n",
       "      <td>308</td>\n",
       "      <td>76.14</td>\n",
       "      <td>189.29</td>\n",
       "      <td>90.53</td>\n",
       "      <td>54.16</td>\n",
       "      <td>133.58</td>\n",
       "      <td>79.38</td>\n",
       "      <td>0.0</td>\n",
       "      <td>...</td>\n",
       "      <td>29.4</td>\n",
       "      <td>0.0</td>\n",
       "      <td>0.0</td>\n",
       "      <td>0.0</td>\n",
       "      <td>327.24</td>\n",
       "      <td>190.71</td>\n",
       "      <td>302.06</td>\n",
       "      <td>525</td>\n",
       "      <td>0.678019</td>\n",
       "      <td>0.0</td>\n",
       "    </tr>\n",
       "    <tr>\n",
       "      <th>15955</th>\n",
       "      <td>150</td>\n",
       "      <td>30</td>\n",
       "      <td>197</td>\n",
       "      <td>107.84</td>\n",
       "      <td>38.48</td>\n",
       "      <td>180.33</td>\n",
       "      <td>52.89</td>\n",
       "      <td>19.23</td>\n",
       "      <td>153.11</td>\n",
       "      <td>NaN</td>\n",
       "      <td>...</td>\n",
       "      <td>NaN</td>\n",
       "      <td>0.0</td>\n",
       "      <td>0.0</td>\n",
       "      <td>0.0</td>\n",
       "      <td>0.00</td>\n",
       "      <td>0.00</td>\n",
       "      <td>0.00</td>\n",
       "      <td>2747</td>\n",
       "      <td>0.118912</td>\n",
       "      <td>0.0</td>\n",
       "    </tr>\n",
       "    <tr>\n",
       "      <th>33998</th>\n",
       "      <td>690</td>\n",
       "      <td>676</td>\n",
       "      <td>678</td>\n",
       "      <td>323.74</td>\n",
       "      <td>359.13</td>\n",
       "      <td>369.51</td>\n",
       "      <td>411.89</td>\n",
       "      <td>339.06</td>\n",
       "      <td>369.48</td>\n",
       "      <td>NaN</td>\n",
       "      <td>...</td>\n",
       "      <td>NaN</td>\n",
       "      <td>0.0</td>\n",
       "      <td>0.0</td>\n",
       "      <td>0.0</td>\n",
       "      <td>0.00</td>\n",
       "      <td>0.00</td>\n",
       "      <td>0.00</td>\n",
       "      <td>2294</td>\n",
       "      <td>0.458753</td>\n",
       "      <td>0.0</td>\n",
       "    </tr>\n",
       "    <tr>\n",
       "      <th>60271</th>\n",
       "      <td>218</td>\n",
       "      <td>158</td>\n",
       "      <td>238</td>\n",
       "      <td>246.28</td>\n",
       "      <td>176.39</td>\n",
       "      <td>290.76</td>\n",
       "      <td>238.71</td>\n",
       "      <td>163.69</td>\n",
       "      <td>285.63</td>\n",
       "      <td>NaN</td>\n",
       "      <td>...</td>\n",
       "      <td>NaN</td>\n",
       "      <td>0.0</td>\n",
       "      <td>0.0</td>\n",
       "      <td>0.0</td>\n",
       "      <td>0.00</td>\n",
       "      <td>0.00</td>\n",
       "      <td>0.00</td>\n",
       "      <td>1195</td>\n",
       "      <td>0.597013</td>\n",
       "      <td>0.0</td>\n",
       "    </tr>\n",
       "    <tr>\n",
       "      <th>23505</th>\n",
       "      <td>440</td>\n",
       "      <td>140</td>\n",
       "      <td>0</td>\n",
       "      <td>630.04</td>\n",
       "      <td>136.31</td>\n",
       "      <td>0.00</td>\n",
       "      <td>171.41</td>\n",
       "      <td>19.91</td>\n",
       "      <td>1.28</td>\n",
       "      <td>NaN</td>\n",
       "      <td>...</td>\n",
       "      <td>NaN</td>\n",
       "      <td>0.0</td>\n",
       "      <td>0.0</td>\n",
       "      <td>0.0</td>\n",
       "      <td>0.00</td>\n",
       "      <td>0.00</td>\n",
       "      <td>0.00</td>\n",
       "      <td>334</td>\n",
       "      <td>2.294461</td>\n",
       "      <td>0.0</td>\n",
       "    </tr>\n",
       "  </tbody>\n",
       "</table>\n",
       "<p>5 rows × 24 columns</p>\n",
       "</div>"
      ],
      "text/plain": [
       "       total_rech_amt_6  total_rech_amt_7  total_rech_amt_8  total_og_mou_6  \\\n",
       "id                                                                            \n",
       "26547               501               254               308           76.14   \n",
       "15955               150                30               197          107.84   \n",
       "33998               690               676               678          323.74   \n",
       "60271               218               158               238          246.28   \n",
       "23505               440               140                 0          630.04   \n",
       "\n",
       "       total_og_mou_7  total_og_mou_8  offnet_mou_6  offnet_mou_7  \\\n",
       "id                                                                  \n",
       "26547          189.29           90.53         54.16        133.58   \n",
       "15955           38.48          180.33         52.89         19.23   \n",
       "33998          359.13          369.51        411.89        339.06   \n",
       "60271          176.39          290.76        238.71        163.69   \n",
       "23505          136.31            0.00        171.41         19.91   \n",
       "\n",
       "       offnet_mou_8  arpu_3g_6  ...  arpu_2g_8  vol_3g_mb_6  vol_3g_mb_7  \\\n",
       "id                              ...                                        \n",
       "26547         79.38        0.0  ...       29.4          0.0          0.0   \n",
       "15955        153.11        NaN  ...        NaN          0.0          0.0   \n",
       "33998        369.48        NaN  ...        NaN          0.0          0.0   \n",
       "60271        285.63        NaN  ...        NaN          0.0          0.0   \n",
       "23505          1.28        NaN  ...        NaN          0.0          0.0   \n",
       "\n",
       "       vol_3g_mb_8  vol_2g_mb_6  vol_2g_mb_7  vol_2g_mb_8   aon  \\\n",
       "id                                                                \n",
       "26547          0.0       327.24       190.71       302.06   525   \n",
       "15955          0.0         0.00         0.00         0.00  2747   \n",
       "33998          0.0         0.00         0.00         0.00  2294   \n",
       "60271          0.0         0.00         0.00         0.00  1195   \n",
       "23505          0.0         0.00         0.00         0.00   334   \n",
       "\n",
       "       avg_daily_usage  avg_3g_gain  \n",
       "id                                   \n",
       "26547         0.678019          0.0  \n",
       "15955         0.118912          0.0  \n",
       "33998         0.458753          0.0  \n",
       "60271         0.597013          0.0  \n",
       "23505         2.294461          0.0  \n",
       "\n",
       "[5 rows x 24 columns]"
      ]
     },
     "execution_count": 15,
     "metadata": {},
     "output_type": "execute_result"
    }
   ],
   "source": [
    "X_train.head()"
   ]
  },
  {
   "cell_type": "markdown",
   "id": "5d6d87a3",
   "metadata": {
    "papermill": {
     "duration": 0.073395,
     "end_time": "2022-05-10T14:34:43.305959",
     "exception": false,
     "start_time": "2022-05-10T14:34:43.232564",
     "status": "completed"
    },
    "tags": []
   },
   "source": [
    "# 3. Handling Missing data\n",
    "\n",
    "Lets analyse the missing data. We can use missingno library for visualizations."
   ]
  },
  {
   "cell_type": "code",
   "execution_count": 16,
   "id": "5244710c",
   "metadata": {
    "execution": {
     "iopub.execute_input": "2022-05-10T14:34:43.454880Z",
     "iopub.status.busy": "2022-05-10T14:34:43.453965Z",
     "iopub.status.idle": "2022-05-10T14:34:45.175057Z",
     "shell.execute_reply": "2022-05-10T14:34:45.173955Z"
    },
    "papermill": {
     "duration": 1.798346,
     "end_time": "2022-05-10T14:34:45.177713",
     "exception": false,
     "start_time": "2022-05-10T14:34:43.379367",
     "status": "completed"
    },
    "tags": []
   },
   "outputs": [
    {
     "data": {
      "text/plain": [
       "<AxesSubplot:>"
      ]
     },
     "execution_count": 16,
     "metadata": {},
     "output_type": "execute_result"
    },
    {
     "data": {
      "image/png": "[encoded data removed]",
      "text/plain": [
       "<Figure size 1800x720 with 3 Axes>"
      ]
     },
     "metadata": {
      "needs_background": "light"
     },
     "output_type": "display_data"
    }
   ],
   "source": [
    "msno.bar(X_train)"
   ]
  },
  {
   "cell_type": "code",
   "execution_count": 17,
   "id": "801977e3",
   "metadata": {
    "execution": {
     "iopub.execute_input": "2022-05-10T14:34:45.332086Z",
     "iopub.status.busy": "2022-05-10T14:34:45.331266Z",
     "iopub.status.idle": "2022-05-10T14:34:46.537411Z",
     "shell.execute_reply": "2022-05-10T14:34:46.536436Z"
    },
    "papermill": {
     "duration": 1.28747,
     "end_time": "2022-05-10T14:34:46.541536",
     "exception": false,
     "start_time": "2022-05-10T14:34:45.254066",
     "status": "completed"
    },
    "tags": []
   },
   "outputs": [
    {
     "data": {
      "text/plain": [
       "<AxesSubplot:>"
      ]
     },
     "execution_count": 17,
     "metadata": {},
     "output_type": "execute_result"
    },
    {
     "data": {
      "image/png": "[encoded data removed]",
      "text/plain": [
       "<Figure size 1800x720 with 2 Axes>"
      ]
     },
     "metadata": {
      "needs_background": "light"
     },
     "output_type": "display_data"
    }
   ],
   "source": [
    "msno.matrix(X_train)"
   ]
  },
  {
   "cell_type": "markdown",
   "id": "2d58dc02",
   "metadata": {
    "papermill": {
     "duration": 0.084695,
     "end_time": "2022-05-10T14:34:46.708079",
     "exception": false,
     "start_time": "2022-05-10T14:34:46.623384",
     "status": "completed"
    },
    "tags": []
   },
   "source": [
    "Lets also calculate the % missing data for each column:"
   ]
  },
  {
   "cell_type": "code",
   "execution_count": 18,
   "id": "cf69f991",
   "metadata": {
    "execution": {
     "iopub.execute_input": "2022-05-10T14:34:46.870457Z",
     "iopub.status.busy": "2022-05-10T14:34:46.869545Z",
     "iopub.status.idle": "2022-05-10T14:34:46.882943Z",
     "shell.execute_reply": "2022-05-10T14:34:46.882255Z"
    },
    "papermill": {
     "duration": 0.097321,
     "end_time": "2022-05-10T14:34:46.884885",
     "exception": false,
     "start_time": "2022-05-10T14:34:46.787564",
     "status": "completed"
    },
    "tags": []
   },
   "outputs": [
    {
     "data": {
      "text/plain": [
       "total_rech_amt_6     0.000000\n",
       "total_rech_amt_7     0.000000\n",
       "total_rech_amt_8     0.000000\n",
       "total_og_mou_6       0.000000\n",
       "total_og_mou_7       0.000000\n",
       "total_og_mou_8       0.000000\n",
       "offnet_mou_6         4.014357\n",
       "offnet_mou_7         3.955428\n",
       "offnet_mou_8         5.351881\n",
       "arpu_3g_6           74.838836\n",
       "arpu_3g_7           74.495973\n",
       "arpu_3g_8           73.703102\n",
       "arpu_2g_6           74.838836\n",
       "arpu_2g_7           74.495973\n",
       "arpu_2g_8           73.703102\n",
       "vol_3g_mb_6          0.000000\n",
       "vol_3g_mb_7          0.000000\n",
       "vol_3g_mb_8          0.000000\n",
       "vol_2g_mb_6          0.000000\n",
       "vol_2g_mb_7          0.000000\n",
       "vol_2g_mb_8          0.000000\n",
       "aon                  0.000000\n",
       "avg_daily_usage      0.000000\n",
       "avg_3g_gain          0.000000\n",
       "dtype: float64"
      ]
     },
     "execution_count": 18,
     "metadata": {},
     "output_type": "execute_result"
    }
   ],
   "source": [
    "missing_data_percent = 100*X_train.isnull().sum()/len(y_train)\n",
    "missing_data_percent"
   ]
  },
  {
   "cell_type": "markdown",
   "id": "4583e8db",
   "metadata": {
    "papermill": {
     "duration": 0.078636,
     "end_time": "2022-05-10T14:34:47.045398",
     "exception": false,
     "start_time": "2022-05-10T14:34:46.966762",
     "status": "completed"
    },
    "tags": []
   },
   "source": [
    "Since too much missing information would make a column not really a great predictor for churn, we drop these columns and keep only the ones which have less than 40% missing data."
   ]
  },
  {
   "cell_type": "code",
   "execution_count": 19,
   "id": "56705c61",
   "metadata": {
    "execution": {
     "iopub.execute_input": "2022-05-10T14:34:47.207067Z",
     "iopub.status.busy": "2022-05-10T14:34:47.206667Z",
     "iopub.status.idle": "2022-05-10T14:34:47.214414Z",
     "shell.execute_reply": "2022-05-10T14:34:47.213603Z"
    },
    "papermill": {
     "duration": 0.091686,
     "end_time": "2022-05-10T14:34:47.216265",
     "exception": false,
     "start_time": "2022-05-10T14:34:47.124579",
     "status": "completed"
    },
    "tags": []
   },
   "outputs": [
    {
     "data": {
      "text/plain": [
       "Index(['total_rech_amt_6', 'total_rech_amt_7', 'total_rech_amt_8',\n",
       "       'total_og_mou_6', 'total_og_mou_7', 'total_og_mou_8', 'offnet_mou_6',\n",
       "       'offnet_mou_7', 'offnet_mou_8', 'vol_3g_mb_6', 'vol_3g_mb_7',\n",
       "       'vol_3g_mb_8', 'vol_2g_mb_6', 'vol_2g_mb_7', 'vol_2g_mb_8', 'aon',\n",
       "       'avg_daily_usage', 'avg_3g_gain'],\n",
       "      dtype='object')"
      ]
     },
     "execution_count": 19,
     "metadata": {},
     "output_type": "execute_result"
    }
   ],
   "source": [
    "new_vars = missing_data_percent[missing_data_percent.le(40)].index\n",
    "new_vars"
   ]
  },
  {
   "cell_type": "code",
   "execution_count": 20,
   "id": "b4fb9488",
   "metadata": {
    "execution": {
     "iopub.execute_input": "2022-05-10T14:34:47.375679Z",
     "iopub.status.busy": "2022-05-10T14:34:47.375162Z",
     "iopub.status.idle": "2022-05-10T14:34:47.384475Z",
     "shell.execute_reply": "2022-05-10T14:34:47.383868Z"
    },
    "papermill": {
     "duration": 0.091495,
     "end_time": "2022-05-10T14:34:47.386611",
     "exception": false,
     "start_time": "2022-05-10T14:34:47.295116",
     "status": "completed"
    },
    "tags": []
   },
   "outputs": [
    {
     "data": {
      "text/plain": [
       "(55999, 18)"
      ]
     },
     "execution_count": 20,
     "metadata": {},
     "output_type": "execute_result"
    }
   ],
   "source": [
    "X_train_filtered = X_train[new_vars]\n",
    "X_train_filtered.shape"
   ]
  },
  {
   "cell_type": "code",
   "execution_count": 21,
   "id": "749f4b4f",
   "metadata": {
    "execution": {
     "iopub.execute_input": "2022-05-10T14:34:47.706500Z",
     "iopub.status.busy": "2022-05-10T14:34:47.705768Z",
     "iopub.status.idle": "2022-05-10T14:34:47.716087Z",
     "shell.execute_reply": "2022-05-10T14:34:47.715207Z"
    },
    "papermill": {
     "duration": 0.094983,
     "end_time": "2022-05-10T14:34:47.718327",
     "exception": false,
     "start_time": "2022-05-10T14:34:47.623344",
     "status": "completed"
    },
    "tags": []
   },
   "outputs": [
    {
     "data": {
      "text/plain": [
       "Index(['offnet_mou_6', 'offnet_mou_7', 'offnet_mou_8'], dtype='object')"
      ]
     },
     "execution_count": 21,
     "metadata": {},
     "output_type": "execute_result"
    }
   ],
   "source": [
    "missing_data_percent = X_train_filtered.isnull().any()\n",
    "impute_cols = missing_data_percent[missing_data_percent.gt(0)].index\n",
    "impute_cols"
   ]
  },
  {
   "cell_type": "code",
   "execution_count": 22,
   "id": "7d34396b",
   "metadata": {
    "execution": {
     "iopub.execute_input": "2022-05-10T14:34:47.880930Z",
     "iopub.status.busy": "2022-05-10T14:34:47.880558Z",
     "iopub.status.idle": "2022-05-10T14:34:47.894307Z",
     "shell.execute_reply": "2022-05-10T14:34:47.893151Z"
    },
    "papermill": {
     "duration": 0.09885,
     "end_time": "2022-05-10T14:34:47.896654",
     "exception": false,
     "start_time": "2022-05-10T14:34:47.797804",
     "status": "completed"
    },
    "tags": []
   },
   "outputs": [],
   "source": [
    "imp = SimpleImputer(strategy='constant', fill_value=0)\n",
    "X_train_filtered[impute_cols] = imp.fit_transform(X_train_filtered[impute_cols])"
   ]
  },
  {
   "cell_type": "code",
   "execution_count": 23,
   "id": "6ba4228a",
   "metadata": {
    "execution": {
     "iopub.execute_input": "2022-05-10T14:34:48.058698Z",
     "iopub.status.busy": "2022-05-10T14:34:48.058341Z",
     "iopub.status.idle": "2022-05-10T14:34:49.473673Z",
     "shell.execute_reply": "2022-05-10T14:34:49.472569Z"
    },
    "papermill": {
     "duration": 1.49985,
     "end_time": "2022-05-10T14:34:49.475949",
     "exception": false,
     "start_time": "2022-05-10T14:34:47.976099",
     "status": "completed"
    },
    "tags": []
   },
   "outputs": [
    {
     "data": {
      "text/plain": [
       "<AxesSubplot:>"
      ]
     },
     "execution_count": 23,
     "metadata": {},
     "output_type": "execute_result"
    },
    {
     "data": {
      "image/png": "[encoded data removed]",
      "text/plain": [
       "<Figure size 1800x720 with 3 Axes>"
      ]
     },
     "metadata": {
      "needs_background": "light"
     },
     "output_type": "display_data"
    }
   ],
   "source": [
    "msno.bar(X_train_filtered)"
   ]
  },
  {
   "cell_type": "code",
   "execution_count": 24,
   "id": "6c4c529f",
   "metadata": {
    "execution": {
     "iopub.execute_input": "2022-05-10T14:34:49.642868Z",
     "iopub.status.busy": "2022-05-10T14:34:49.642495Z",
     "iopub.status.idle": "2022-05-10T14:34:49.750291Z",
     "shell.execute_reply": "2022-05-10T14:34:49.749595Z"
    },
    "papermill": {
     "duration": 0.194537,
     "end_time": "2022-05-10T14:34:49.752473",
     "exception": false,
     "start_time": "2022-05-10T14:34:49.557936",
     "status": "completed"
    },
    "tags": []
   },
   "outputs": [
    {
     "data": {
      "text/html": [
       "<div>\n",
       "<style scoped>\n",
       "    .dataframe tbody tr th:only-of-type {\n",
       "        vertical-align: middle;\n",
       "    }\n",
       "\n",
       "    .dataframe tbody tr th {\n",
       "        vertical-align: top;\n",
       "    }\n",
       "\n",
       "    .dataframe thead th {\n",
       "        text-align: right;\n",
       "    }\n",
       "</style>\n",
       "<table border=\"1\" class=\"dataframe\">\n",
       "  <thead>\n",
       "    <tr style=\"text-align: right;\">\n",
       "      <th></th>\n",
       "      <th>total_rech_amt_6</th>\n",
       "      <th>total_rech_amt_7</th>\n",
       "      <th>total_rech_amt_8</th>\n",
       "      <th>total_og_mou_6</th>\n",
       "      <th>total_og_mou_7</th>\n",
       "      <th>total_og_mou_8</th>\n",
       "      <th>offnet_mou_6</th>\n",
       "      <th>offnet_mou_7</th>\n",
       "      <th>offnet_mou_8</th>\n",
       "      <th>vol_3g_mb_6</th>\n",
       "      <th>vol_3g_mb_7</th>\n",
       "      <th>vol_3g_mb_8</th>\n",
       "      <th>vol_2g_mb_6</th>\n",
       "      <th>vol_2g_mb_7</th>\n",
       "      <th>vol_2g_mb_8</th>\n",
       "      <th>aon</th>\n",
       "      <th>avg_daily_usage</th>\n",
       "      <th>avg_3g_gain</th>\n",
       "    </tr>\n",
       "  </thead>\n",
       "  <tbody>\n",
       "    <tr>\n",
       "      <th>count</th>\n",
       "      <td>55999.000000</td>\n",
       "      <td>55999.000000</td>\n",
       "      <td>55999.000000</td>\n",
       "      <td>55999.000000</td>\n",
       "      <td>55999.000000</td>\n",
       "      <td>55999.000000</td>\n",
       "      <td>55999.000000</td>\n",
       "      <td>55999.000000</td>\n",
       "      <td>55999.000000</td>\n",
       "      <td>55999.000000</td>\n",
       "      <td>55999.000000</td>\n",
       "      <td>55999.000000</td>\n",
       "      <td>55999.000000</td>\n",
       "      <td>55999.000000</td>\n",
       "      <td>55999.000000</td>\n",
       "      <td>55999.000000</td>\n",
       "      <td>55999.000000</td>\n",
       "      <td>55999.000000</td>\n",
       "    </tr>\n",
       "    <tr>\n",
       "      <th>mean</th>\n",
       "      <td>328.307755</td>\n",
       "      <td>321.241611</td>\n",
       "      <td>323.778871</td>\n",
       "      <td>306.547003</td>\n",
       "      <td>309.876045</td>\n",
       "      <td>304.303618</td>\n",
       "      <td>191.402761</td>\n",
       "      <td>189.563544</td>\n",
       "      <td>186.743635</td>\n",
       "      <td>121.328168</td>\n",
       "      <td>128.202733</td>\n",
       "      <td>135.834292</td>\n",
       "      <td>51.559826</td>\n",
       "      <td>51.026651</td>\n",
       "      <td>49.957407</td>\n",
       "      <td>1220.832872</td>\n",
       "      <td>1.446303</td>\n",
       "      <td>-47.570349</td>\n",
       "    </tr>\n",
       "    <tr>\n",
       "      <th>std</th>\n",
       "      <td>403.798777</td>\n",
       "      <td>412.231619</td>\n",
       "      <td>422.568310</td>\n",
       "      <td>465.808887</td>\n",
       "      <td>475.932533</td>\n",
       "      <td>475.471608</td>\n",
       "      <td>315.029090</td>\n",
       "      <td>318.919251</td>\n",
       "      <td>317.256183</td>\n",
       "      <td>559.671996</td>\n",
       "      <td>547.268828</td>\n",
       "      <td>573.396605</td>\n",
       "      <td>209.966835</td>\n",
       "      <td>209.698014</td>\n",
       "      <td>211.266355</td>\n",
       "      <td>951.876152</td>\n",
       "      <td>2.846477</td>\n",
       "      <td>253.025311</td>\n",
       "    </tr>\n",
       "    <tr>\n",
       "      <th>min</th>\n",
       "      <td>0.000000</td>\n",
       "      <td>0.000000</td>\n",
       "      <td>0.000000</td>\n",
       "      <td>0.000000</td>\n",
       "      <td>0.000000</td>\n",
       "      <td>0.000000</td>\n",
       "      <td>0.000000</td>\n",
       "      <td>0.000000</td>\n",
       "      <td>0.000000</td>\n",
       "      <td>0.000000</td>\n",
       "      <td>0.000000</td>\n",
       "      <td>0.000000</td>\n",
       "      <td>0.000000</td>\n",
       "      <td>0.000000</td>\n",
       "      <td>0.000000</td>\n",
       "      <td>180.000000</td>\n",
       "      <td>0.000000</td>\n",
       "      <td>-13427.000000</td>\n",
       "    </tr>\n",
       "    <tr>\n",
       "      <th>25%</th>\n",
       "      <td>110.000000</td>\n",
       "      <td>100.000000</td>\n",
       "      <td>90.000000</td>\n",
       "      <td>44.740000</td>\n",
       "      <td>42.580000</td>\n",
       "      <td>38.260000</td>\n",
       "      <td>28.730000</td>\n",
       "      <td>26.560000</td>\n",
       "      <td>23.480000</td>\n",
       "      <td>0.000000</td>\n",
       "      <td>0.000000</td>\n",
       "      <td>0.000000</td>\n",
       "      <td>0.000000</td>\n",
       "      <td>0.000000</td>\n",
       "      <td>0.000000</td>\n",
       "      <td>468.000000</td>\n",
       "      <td>0.173004</td>\n",
       "      <td>0.000000</td>\n",
       "    </tr>\n",
       "    <tr>\n",
       "      <th>50%</th>\n",
       "      <td>230.000000</td>\n",
       "      <td>220.000000</td>\n",
       "      <td>225.000000</td>\n",
       "      <td>145.240000</td>\n",
       "      <td>140.590000</td>\n",
       "      <td>138.080000</td>\n",
       "      <td>89.740000</td>\n",
       "      <td>85.410000</td>\n",
       "      <td>82.940000</td>\n",
       "      <td>0.000000</td>\n",
       "      <td>0.000000</td>\n",
       "      <td>0.000000</td>\n",
       "      <td>0.000000</td>\n",
       "      <td>0.000000</td>\n",
       "      <td>0.000000</td>\n",
       "      <td>869.000000</td>\n",
       "      <td>0.490101</td>\n",
       "      <td>0.000000</td>\n",
       "    </tr>\n",
       "    <tr>\n",
       "      <th>75%</th>\n",
       "      <td>440.000000</td>\n",
       "      <td>428.000000</td>\n",
       "      <td>435.000000</td>\n",
       "      <td>373.980000</td>\n",
       "      <td>379.415000</td>\n",
       "      <td>371.260000</td>\n",
       "      <td>223.840000</td>\n",
       "      <td>218.110000</td>\n",
       "      <td>216.295000</td>\n",
       "      <td>0.000000</td>\n",
       "      <td>0.000000</td>\n",
       "      <td>0.000000</td>\n",
       "      <td>0.000000</td>\n",
       "      <td>0.000000</td>\n",
       "      <td>0.000000</td>\n",
       "      <td>1814.000000</td>\n",
       "      <td>1.471674</td>\n",
       "      <td>0.000000</td>\n",
       "    </tr>\n",
       "    <tr>\n",
       "      <th>max</th>\n",
       "      <td>35190.000000</td>\n",
       "      <td>40335.000000</td>\n",
       "      <td>45320.000000</td>\n",
       "      <td>10674.030000</td>\n",
       "      <td>8285.640000</td>\n",
       "      <td>11046.740000</td>\n",
       "      <td>8362.360000</td>\n",
       "      <td>7043.980000</td>\n",
       "      <td>7857.780000</td>\n",
       "      <td>45735.400000</td>\n",
       "      <td>27600.290000</td>\n",
       "      <td>30036.060000</td>\n",
       "      <td>7213.060000</td>\n",
       "      <td>7873.550000</td>\n",
       "      <td>11117.610000</td>\n",
       "      <td>4337.000000</td>\n",
       "      <td>76.822110</td>\n",
       "      <td>8517.000000</td>\n",
       "    </tr>\n",
       "  </tbody>\n",
       "</table>\n",
       "</div>"
      ],
      "text/plain": [
       "       total_rech_amt_6  total_rech_amt_7  total_rech_amt_8  total_og_mou_6  \\\n",
       "count      55999.000000      55999.000000      55999.000000    55999.000000   \n",
       "mean         328.307755        321.241611        323.778871      306.547003   \n",
       "std          403.798777        412.231619        422.568310      465.808887   \n",
       "min            0.000000          0.000000          0.000000        0.000000   \n",
       "25%          110.000000        100.000000         90.000000       44.740000   \n",
       "50%          230.000000        220.000000        225.000000      145.240000   \n",
       "75%          440.000000        428.000000        435.000000      373.980000   \n",
       "max        35190.000000      40335.000000      45320.000000    10674.030000   \n",
       "\n",
       "       total_og_mou_7  total_og_mou_8  offnet_mou_6  offnet_mou_7  \\\n",
       "count    55999.000000    55999.000000  55999.000000  55999.000000   \n",
       "mean       309.876045      304.303618    191.402761    189.563544   \n",
       "std        475.932533      475.471608    315.029090    318.919251   \n",
       "min          0.000000        0.000000      0.000000      0.000000   \n",
       "25%         42.580000       38.260000     28.730000     26.560000   \n",
       "50%        140.590000      138.080000     89.740000     85.410000   \n",
       "75%        379.415000      371.260000    223.840000    218.110000   \n",
       "max       8285.640000    11046.740000   8362.360000   7043.980000   \n",
       "\n",
       "       offnet_mou_8   vol_3g_mb_6   vol_3g_mb_7   vol_3g_mb_8   vol_2g_mb_6  \\\n",
       "count  55999.000000  55999.000000  55999.000000  55999.000000  55999.000000   \n",
       "mean     186.743635    121.328168    128.202733    135.834292     51.559826   \n",
       "std      317.256183    559.671996    547.268828    573.396605    209.966835   \n",
       "min        0.000000      0.000000      0.000000      0.000000      0.000000   \n",
       "25%       23.480000      0.000000      0.000000      0.000000      0.000000   \n",
       "50%       82.940000      0.000000      0.000000      0.000000      0.000000   \n",
       "75%      216.295000      0.000000      0.000000      0.000000      0.000000   \n",
       "max     7857.780000  45735.400000  27600.290000  30036.060000   7213.060000   \n",
       "\n",
       "        vol_2g_mb_7   vol_2g_mb_8           aon  avg_daily_usage   avg_3g_gain  \n",
       "count  55999.000000  55999.000000  55999.000000     55999.000000  55999.000000  \n",
       "mean      51.026651     49.957407   1220.832872         1.446303    -47.570349  \n",
       "std      209.698014    211.266355    951.876152         2.846477    253.025311  \n",
       "min        0.000000      0.000000    180.000000         0.000000 -13427.000000  \n",
       "25%        0.000000      0.000000    468.000000         0.173004      0.000000  \n",
       "50%        0.000000      0.000000    869.000000         0.490101      0.000000  \n",
       "75%        0.000000      0.000000   1814.000000         1.471674      0.000000  \n",
       "max     7873.550000  11117.610000   4337.000000        76.822110   8517.000000  "
      ]
     },
     "execution_count": 24,
     "metadata": {},
     "output_type": "execute_result"
    }
   ],
   "source": [
    "X_train_filtered.describe()"
   ]
  },
  {
   "cell_type": "markdown",
   "id": "7a94cf87",
   "metadata": {
    "papermill": {
     "duration": 0.083546,
     "end_time": "2022-05-10T14:34:49.923954",
     "exception": false,
     "start_time": "2022-05-10T14:34:49.840408",
     "status": "completed"
    },
    "tags": []
   },
   "source": [
    "# 4. Exploratory Data Analysis & Preprocessing\n",
    "\n",
    "Lets start by analysing the univariate distributions of each feature."
   ]
  },
  {
   "cell_type": "code",
   "execution_count": 25,
   "id": "8f164500",
   "metadata": {
    "execution": {
     "iopub.execute_input": "2022-05-10T14:34:50.094399Z",
     "iopub.status.busy": "2022-05-10T14:34:50.093387Z",
     "iopub.status.idle": "2022-05-10T14:34:51.009298Z",
     "shell.execute_reply": "2022-05-10T14:34:51.008264Z"
    },
    "papermill": {
     "duration": 1.003984,
     "end_time": "2022-05-10T14:34:51.011707",
     "exception": false,
     "start_time": "2022-05-10T14:34:50.007723",
     "status": "completed"
    },
    "tags": []
   },
   "outputs": [
    {
     "data": {
      "text/plain": [
       "<AxesSubplot:>"
      ]
     },
     "execution_count": 25,
     "metadata": {},
     "output_type": "execute_result"
    },
    {
     "data": {
      "image/png": "[encoded data removed]",
      "text/plain": [
       "<Figure size 1080x576 with 1 Axes>"
      ]
     },
     "metadata": {
      "needs_background": "light"
     },
     "output_type": "display_data"
    }
   ],
   "source": [
    "plt.figure(figsize=(15,8))\n",
    "plt.xticks(rotation=45)\n",
    "sns.boxplot(data = X_train_filtered)"
   ]
  },
  {
   "cell_type": "markdown",
   "id": "aed5b9f5",
   "metadata": {},
   "source": [
    "We can see that there are lot of outliers. We need to hanlde outliers"
   ]
  },
  {
   "cell_type": "markdown",
   "id": "85e825e0",
   "metadata": {
    "papermill": {
     "duration": 0.087326,
     "end_time": "2022-05-10T14:34:51.186003",
     "exception": false,
     "start_time": "2022-05-10T14:34:51.098677",
     "status": "completed"
    },
    "tags": []
   },
   "source": [
    "### 4.1 Handling outliers\n",
    "\n",
    "The box plots of these features show there a lot of outliers. These can be capped with k-sigma method."
   ]
  },
  {
   "cell_type": "code",
   "execution_count": 26,
   "id": "5eac7e48",
   "metadata": {
    "execution": {
     "iopub.execute_input": "2022-05-10T14:34:51.356950Z",
     "iopub.status.busy": "2022-05-10T14:34:51.356601Z",
     "iopub.status.idle": "2022-05-10T14:34:51.361732Z",
     "shell.execute_reply": "2022-05-10T14:34:51.361109Z"
    },
    "papermill": {
     "duration": 0.092961,
     "end_time": "2022-05-10T14:34:51.363535",
     "exception": false,
     "start_time": "2022-05-10T14:34:51.270574",
     "status": "completed"
    },
    "tags": []
   },
   "outputs": [],
   "source": [
    "def cap_outliers(array, k=3):\n",
    "    upper_limit = array.mean() + k*array.std()\n",
    "    lower_limit = array.mean() - k*array.std()\n",
    "    array[array<lower_limit] = lower_limit\n",
    "    array[array>upper_limit] = upper_limit\n",
    "    return array"
   ]
  },
  {
   "cell_type": "code",
   "execution_count": 27,
   "id": "b81877a1",
   "metadata": {
    "execution": {
     "iopub.execute_input": "2022-05-10T14:34:51.535249Z",
     "iopub.status.busy": "2022-05-10T14:34:51.534684Z",
     "iopub.status.idle": "2022-05-10T14:34:52.564680Z",
     "shell.execute_reply": "2022-05-10T14:34:52.563648Z"
    },
    "papermill": {
     "duration": 1.119444,
     "end_time": "2022-05-10T14:34:52.566896",
     "exception": false,
     "start_time": "2022-05-10T14:34:51.447452",
     "status": "completed"
    },
    "tags": []
   },
   "outputs": [
    {
     "data": {
      "text/plain": [
       "<AxesSubplot:>"
      ]
     },
     "execution_count": 27,
     "metadata": {},
     "output_type": "execute_result"
    },
    {
     "data": {
      "image/png": "[encoded data removed]",
      "text/plain": [
       "<Figure size 1080x576 with 1 Axes>"
      ]
     },
     "metadata": {
      "needs_background": "light"
     },
     "output_type": "display_data"
    }
   ],
   "source": [
    "X_train_filtered1 = X_train_filtered.apply(cap_outliers, axis=0)\n",
    "\n",
    "plt.figure(figsize=(15,8))\n",
    "plt.xticks(rotation=45)\n",
    "sns.boxplot(data = X_train_filtered1)"
   ]
  },
  {
   "cell_type": "markdown",
   "id": "082f88e7",
   "metadata": {
    "papermill": {
     "duration": 0.0952,
     "end_time": "2022-05-10T14:34:52.749055",
     "exception": false,
     "start_time": "2022-05-10T14:34:52.653855",
     "status": "completed"
    },
    "tags": []
   },
   "source": [
    "### 4.2 Feature scaling\n",
    "\n",
    "Lets also scale the features by scaling them with Standard scaler "
   ]
  },
  {
   "cell_type": "code",
   "execution_count": 28,
   "id": "79fbf92a",
   "metadata": {
    "execution": {
     "iopub.execute_input": "2022-05-10T14:34:52.934143Z",
     "iopub.status.busy": "2022-05-10T14:34:52.933742Z",
     "iopub.status.idle": "2022-05-10T14:34:52.956584Z",
     "shell.execute_reply": "2022-05-10T14:34:52.955364Z"
    },
    "papermill": {
     "duration": 0.115592,
     "end_time": "2022-05-10T14:34:52.959130",
     "exception": false,
     "start_time": "2022-05-10T14:34:52.843538",
     "status": "completed"
    },
    "tags": []
   },
   "outputs": [],
   "source": [
    "scale = StandardScaler()\n",
    "X_train_filtered2 = scale.fit_transform(X_train_filtered1)"
   ]
  },
  {
   "cell_type": "code",
   "execution_count": 29,
   "id": "c413ca65",
   "metadata": {
    "execution": {
     "iopub.execute_input": "2022-05-10T14:34:53.138856Z",
     "iopub.status.busy": "2022-05-10T14:34:53.137547Z",
     "iopub.status.idle": "2022-05-10T14:34:54.145975Z",
     "shell.execute_reply": "2022-05-10T14:34:54.144852Z"
    },
    "papermill": {
     "duration": 1.100916,
     "end_time": "2022-05-10T14:34:54.148966",
     "exception": false,
     "start_time": "2022-05-10T14:34:53.048050",
     "status": "completed"
    },
    "tags": []
   },
   "outputs": [
    {
     "data": {
      "text/plain": [
       "<AxesSubplot:>"
      ]
     },
     "execution_count": 29,
     "metadata": {},
     "output_type": "execute_result"
    },
    {
     "data": {
      "image/png": "[encoded data removed]",
      "text/plain": [
       "<Figure size 1080x576 with 1 Axes>"
      ]
     },
     "metadata": {
      "needs_background": "light"
     },
     "output_type": "display_data"
    }
   ],
   "source": [
    "plt.figure(figsize=(15,8))\n",
    "plt.xticks(rotation=45)\n",
    "sns.boxplot(data = pd.DataFrame(X_train_filtered2, columns=new_vars))"
   ]
  },
  {
   "cell_type": "markdown",
   "id": "f73d9318",
   "metadata": {},
   "source": [
    "Lets plot heatmap to find co-relation between variables  "
   ]
  },
  {
   "cell_type": "code",
   "execution_count": 30,
   "id": "e65399d4",
   "metadata": {
    "execution": {
     "iopub.execute_input": "2022-05-10T14:34:54.505621Z",
     "iopub.status.busy": "2022-05-10T14:34:54.504772Z",
     "iopub.status.idle": "2022-05-10T14:34:55.041635Z",
     "shell.execute_reply": "2022-05-10T14:34:55.040715Z"
    },
    "papermill": {
     "duration": 0.630136,
     "end_time": "2022-05-10T14:34:55.044468",
     "exception": false,
     "start_time": "2022-05-10T14:34:54.414332",
     "status": "completed"
    },
    "tags": []
   },
   "outputs": [
    {
     "data": {
      "text/plain": [
       "<AxesSubplot:>"
      ]
     },
     "execution_count": 30,
     "metadata": {},
     "output_type": "execute_result"
    },
    {
     "data": {
      "image/png": "[encoded data removed]",
      "text/plain": [
       "<Figure size 720x576 with 2 Axes>"
      ]
     },
     "metadata": {
      "needs_background": "light"
     },
     "output_type": "display_data"
    }
   ],
   "source": [
    "plt.figure(figsize=(10,8))\n",
    "sns.heatmap(pd.DataFrame(X_train_filtered2, columns=new_vars).corr())"
   ]
  },
  {
   "cell_type": "markdown",
   "id": "ffd53686",
   "metadata": {},
   "source": [
    "Not much of correlatio seen Hence no need to drop any columns"
   ]
  },
  {
   "cell_type": "code",
   "execution_count": 31,
   "id": "bc9651a6",
   "metadata": {
    "execution": {
     "iopub.execute_input": "2022-05-10T14:34:55.228216Z",
     "iopub.status.busy": "2022-05-10T14:34:55.227853Z",
     "iopub.status.idle": "2022-05-10T14:34:55.529592Z",
     "shell.execute_reply": "2022-05-10T14:34:55.528401Z"
    },
    "papermill": {
     "duration": 0.39622,
     "end_time": "2022-05-10T14:34:55.532019",
     "exception": false,
     "start_time": "2022-05-10T14:34:55.135799",
     "status": "completed"
    },
    "tags": []
   },
   "outputs": [
    {
     "data": {
      "text/plain": [
       "<AxesSubplot:xlabel='churn_probability', ylabel='Count'>"
      ]
     },
     "execution_count": 31,
     "metadata": {},
     "output_type": "execute_result"
    },
    {
     "data": {
      "image/png": "[encoded data removed]",
      "text/plain": [
       "<Figure size 432x288 with 1 Axes>"
      ]
     },
     "metadata": {
      "needs_background": "light"
     },
     "output_type": "display_data"
    }
   ],
   "source": [
    "#Distribution for the churn probability\n",
    "sns.histplot(y_train)"
   ]
  },
  {
   "cell_type": "markdown",
   "id": "c8b8af30",
   "metadata": {},
   "source": [
    "# Handling Class Imbalance problem"
   ]
  },
  {
   "cell_type": "code",
   "execution_count": 32,
   "id": "ae82e2fe",
   "metadata": {},
   "outputs": [],
   "source": [
    "from imblearn.over_sampling import SMOTE\n",
    "sm = SMOTE(random_state=42)\n",
    "X_train_sm,y_train_sm = sm.fit_resample(X_train_filtered2,y_train)\n"
   ]
  },
  {
   "cell_type": "markdown",
   "id": "a0a66019",
   "metadata": {
    "papermill": {
     "duration": 0.090369,
     "end_time": "2022-05-10T14:34:55.712775",
     "exception": false,
     "start_time": "2022-05-10T14:34:55.622406",
     "status": "completed"
    },
    "tags": []
   },
   "source": [
    "# 5. Feature engineering and selection\n",
    "\n",
    "Let's understand feature importances for raw features as well as components to decide top features for modelling."
   ]
  },
  {
   "cell_type": "code",
   "execution_count": 33,
   "id": "0e76a890",
   "metadata": {
    "execution": {
     "iopub.execute_input": "2022-05-10T14:34:55.902241Z",
     "iopub.status.busy": "2022-05-10T14:34:55.901880Z",
     "iopub.status.idle": "2022-05-10T14:35:03.687117Z",
     "shell.execute_reply": "2022-05-10T14:35:03.685848Z"
    },
    "papermill": {
     "duration": 7.885382,
     "end_time": "2022-05-10T14:35:03.689832",
     "exception": false,
     "start_time": "2022-05-10T14:34:55.804450",
     "status": "completed"
    },
    "tags": []
   },
   "outputs": [
    {
     "data": {
      "text/plain": [
       "RandomForestClassifier(n_jobs=-1)"
      ]
     },
     "execution_count": 33,
     "metadata": {},
     "output_type": "execute_result"
    }
   ],
   "source": [
    "rf = RandomForestClassifier(n_estimators=100, n_jobs=-1)\n",
    "rf.fit(X_train_filtered2, y_train)"
   ]
  },
  {
   "cell_type": "code",
   "execution_count": 34,
   "id": "314e7a90",
   "metadata": {
    "execution": {
     "iopub.execute_input": "2022-05-10T14:35:03.878236Z",
     "iopub.status.busy": "2022-05-10T14:35:03.877804Z",
     "iopub.status.idle": "2022-05-10T14:35:03.986937Z",
     "shell.execute_reply": "2022-05-10T14:35:03.986125Z"
    },
    "papermill": {
     "duration": 0.20539,
     "end_time": "2022-05-10T14:35:03.989468",
     "exception": false,
     "start_time": "2022-05-10T14:35:03.784078",
     "status": "completed"
    },
    "tags": []
   },
   "outputs": [],
   "source": [
    "feature_importances = pd.DataFrame({'col':new_vars, 'importance':rf.feature_importances_})"
   ]
  },
  {
   "cell_type": "code",
   "execution_count": 35,
   "id": "b9b87e17",
   "metadata": {
    "execution": {
     "iopub.execute_input": "2022-05-10T14:35:04.175051Z",
     "iopub.status.busy": "2022-05-10T14:35:04.174505Z",
     "iopub.status.idle": "2022-05-10T14:35:04.476007Z",
     "shell.execute_reply": "2022-05-10T14:35:04.475026Z"
    },
    "papermill": {
     "duration": 0.396564,
     "end_time": "2022-05-10T14:35:04.478255",
     "exception": false,
     "start_time": "2022-05-10T14:35:04.081691",
     "status": "completed"
    },
    "tags": []
   },
   "outputs": [
    {
     "data": {
      "text/plain": [
       "<BarContainer object of 18 artists>"
      ]
     },
     "execution_count": 35,
     "metadata": {},
     "output_type": "execute_result"
    },
    {
     "data": {
      "image/png": "[encoded data removed]",
      "text/plain": [
       "<Figure size 1080x576 with 1 Axes>"
      ]
     },
     "metadata": {
      "needs_background": "light"
     },
     "output_type": "display_data"
    }
   ],
   "source": [
    "plt.figure(figsize=(15,8))\n",
    "plt.xticks(rotation=45)\n",
    "plt.bar(feature_importances['col'], feature_importances['importance'])"
   ]
  },
  {
   "cell_type": "markdown",
   "id": "b9bbb283",
   "metadata": {
    "papermill": {
     "duration": 0.102765,
     "end_time": "2022-05-10T14:35:24.667554",
     "exception": false,
     "start_time": "2022-05-10T14:35:24.564789",
     "status": "completed"
    },
    "tags": []
   },
   "source": [
    "# 6. Model building\n",
    "\n",
    "#Build Logistic Regression Model"
   ]
  },
  {
   "cell_type": "code",
   "execution_count": 36,
   "id": "4f8cefc8",
   "metadata": {
    "execution": {
     "iopub.execute_input": "2022-05-10T14:35:25.855827Z",
     "iopub.status.busy": "2022-05-10T14:35:25.855482Z",
     "iopub.status.idle": "2022-05-10T14:35:25.860471Z",
     "shell.execute_reply": "2022-05-10T14:35:25.859834Z"
    },
    "papermill": {
     "duration": 0.119778,
     "end_time": "2022-05-10T14:35:25.862367",
     "exception": false,
     "start_time": "2022-05-10T14:35:25.742589",
     "status": "completed"
    },
    "tags": []
   },
   "outputs": [],
   "source": [
    "imp = SimpleImputer(strategy='constant', fill_value=0)\n",
    "scale = StandardScaler()\n",
    "pca = PCA(n_components=10)\n",
    "lr = LogisticRegression(max_iter=1000, tol=0.001)"
   ]
  },
  {
   "cell_type": "code",
   "execution_count": 37,
   "id": "d703c775",
   "metadata": {
    "execution": {
     "iopub.execute_input": "2022-05-10T14:35:26.075630Z",
     "iopub.status.busy": "2022-05-10T14:35:26.075089Z",
     "iopub.status.idle": "2022-05-10T14:35:26.079417Z",
     "shell.execute_reply": "2022-05-10T14:35:26.078821Z"
    },
    "papermill": {
     "duration": 0.113861,
     "end_time": "2022-05-10T14:35:26.081649",
     "exception": false,
     "start_time": "2022-05-10T14:35:25.967788",
     "status": "completed"
    },
    "tags": []
   },
   "outputs": [],
   "source": [
    "pipe = Pipeline(steps = [('imputation',imp),\n",
    "                         ('scaling',scale),\n",
    "                         ('pca',pca),\n",
    "                         ('model',lr)])"
   ]
  },
  {
   "cell_type": "code",
   "execution_count": 38,
   "id": "45fe5bed",
   "metadata": {
    "execution": {
     "iopub.execute_input": "2022-05-10T14:35:26.291077Z",
     "iopub.status.busy": "2022-05-10T14:35:26.290705Z",
     "iopub.status.idle": "2022-05-10T14:35:26.721251Z",
     "shell.execute_reply": "2022-05-10T14:35:26.720221Z"
    },
    "papermill": {
     "duration": 0.538825,
     "end_time": "2022-05-10T14:35:26.724545",
     "exception": false,
     "start_time": "2022-05-10T14:35:26.185720",
     "status": "completed"
    },
    "tags": []
   },
   "outputs": [
    {
     "data": {
      "text/plain": [
       "Pipeline(steps=[('imputation',\n",
       "                 SimpleImputer(fill_value=0, strategy='constant')),\n",
       "                ('scaling', StandardScaler()), ('pca', PCA(n_components=10)),\n",
       "                ('model', LogisticRegression(max_iter=1000, tol=0.001))])"
      ]
     },
     "execution_count": 38,
     "metadata": {},
     "output_type": "execute_result"
    }
   ],
   "source": [
    "pipe.fit(X_train[new_vars], y_train)"
   ]
  },
  {
   "cell_type": "code",
   "execution_count": 39,
   "id": "547ade30",
   "metadata": {
    "execution": {
     "iopub.execute_input": "2022-05-10T14:35:26.291077Z",
     "iopub.status.busy": "2022-05-10T14:35:26.290705Z",
     "iopub.status.idle": "2022-05-10T14:35:26.721251Z",
     "shell.execute_reply": "2022-05-10T14:35:26.720221Z"
    },
    "papermill": {
     "duration": 0.538825,
     "end_time": "2022-05-10T14:35:26.724545",
     "exception": false,
     "start_time": "2022-05-10T14:35:26.185720",
     "status": "completed"
    },
    "tags": []
   },
   "outputs": [
    {
     "name": "stdout",
     "output_type": "stream",
     "text": [
      "Training accuracy: 0.8998017821746817\n"
     ]
    }
   ],
   "source": [
    "train_score = pipe.score(X_train[new_vars], y_train)\n",
    "print(\"Training accuracy:\", train_score)"
   ]
  },
  {
   "cell_type": "code",
   "execution_count": 40,
   "id": "3ca46025",
   "metadata": {},
   "outputs": [
    {
     "name": "stdout",
     "output_type": "stream",
     "text": [
      "Test accuracy: 0.9017142857142857\n"
     ]
    }
   ],
   "source": [
    "test_score = pipe.score(X_test[new_vars], y_test)\n",
    "print(\"Test accuracy:\", test_score)"
   ]
  },
  {
   "cell_type": "code",
   "execution_count": 41,
   "id": "28e61a75",
   "metadata": {},
   "outputs": [
    {
     "name": "stdout",
     "output_type": "stream",
     "text": [
      "              precision    recall  f1-score   support\n",
      "\n",
      "           0       0.91      0.99      0.95     12587\n",
      "           1       0.61      0.07      0.13      1413\n",
      "\n",
      "    accuracy                           0.90     14000\n",
      "   macro avg       0.76      0.53      0.54     14000\n",
      "weighted avg       0.88      0.90      0.87     14000\n",
      "\n"
     ]
    }
   ],
   "source": [
    "from sklearn.metrics import classification_report\n",
    "print(classification_report(y_test, pipe.predict(X_test[new_vars])))"
   ]
  },
  {
   "cell_type": "markdown",
   "id": "e812b0b1",
   "metadata": {},
   "source": [
    "Results: We can see F1-Score is very low as recall is very low. For this problem recall i.e. sensitity is very improtant.\n",
    "Hence this model is not sutiable for this problem"
   ]
  },
  {
   "cell_type": "markdown",
   "id": "3f8d6c9a",
   "metadata": {},
   "source": [
    "# Build the lightgbm model"
   ]
  },
  {
   "cell_type": "code",
   "execution_count": 90,
   "id": "23f5c966",
   "metadata": {},
   "outputs": [],
   "source": [
    "import lightgbm as lgb\n",
    "clf = lgb.LGBMClassifier(boosting_type='dart', objective='binary', num_leaves=60,\n",
    "                                learning_rate=0.007, n_estimators=5000, max_depth=30,\n",
    "                                 random_state=1121218,\n",
    "   \n",
    "                                )\n"
   ]
  },
  {
   "cell_type": "code",
   "execution_count": 91,
   "id": "d45318d6",
   "metadata": {
    "execution": {
     "iopub.execute_input": "2022-05-10T14:35:26.075630Z",
     "iopub.status.busy": "2022-05-10T14:35:26.075089Z",
     "iopub.status.idle": "2022-05-10T14:35:26.079417Z",
     "shell.execute_reply": "2022-05-10T14:35:26.078821Z"
    },
    "papermill": {
     "duration": 0.113861,
     "end_time": "2022-05-10T14:35:26.081649",
     "exception": false,
     "start_time": "2022-05-10T14:35:25.967788",
     "status": "completed"
    },
    "tags": []
   },
   "outputs": [],
   "source": [
    "pipe = Pipeline(steps = [('imputation',imp),\n",
    "                         ('scaling',scale),\n",
    "                         ('model',clf)])"
   ]
  },
  {
   "cell_type": "code",
   "execution_count": 92,
   "id": "cf5c61a1",
   "metadata": {
    "execution": {
     "iopub.execute_input": "2022-05-10T14:35:26.291077Z",
     "iopub.status.busy": "2022-05-10T14:35:26.290705Z",
     "iopub.status.idle": "2022-05-10T14:35:26.721251Z",
     "shell.execute_reply": "2022-05-10T14:35:26.720221Z"
    },
    "papermill": {
     "duration": 0.538825,
     "end_time": "2022-05-10T14:35:26.724545",
     "exception": false,
     "start_time": "2022-05-10T14:35:26.185720",
     "status": "completed"
    },
    "tags": []
   },
   "outputs": [
    {
     "data": {
      "text/plain": [
       "Pipeline(steps=[('imputation',\n",
       "                 SimpleImputer(fill_value=0, strategy='constant')),\n",
       "                ('scaling', StandardScaler()),\n",
       "                ('model',\n",
       "                 LGBMClassifier(boosting_type='dart', learning_rate=0.007,\n",
       "                                max_depth=30, n_estimators=5000, num_leaves=60,\n",
       "                                objective='binary', random_state=1121218))])"
      ]
     },
     "execution_count": 92,
     "metadata": {},
     "output_type": "execute_result"
    }
   ],
   "source": [
    "pipe.fit(X_train[new_vars], y_train)"
   ]
  },
  {
   "cell_type": "code",
   "execution_count": 93,
   "id": "1790d1d5",
   "metadata": {
    "execution": {
     "iopub.execute_input": "2022-05-10T14:35:27.016853Z",
     "iopub.status.busy": "2022-05-10T14:35:27.016426Z",
     "iopub.status.idle": "2022-05-10T14:35:27.060523Z",
     "shell.execute_reply": "2022-05-10T14:35:27.059233Z"
    },
    "papermill": {
     "duration": 0.16434,
     "end_time": "2022-05-10T14:35:27.064001",
     "exception": false,
     "start_time": "2022-05-10T14:35:26.899661",
     "status": "completed"
    },
    "tags": []
   },
   "outputs": [
    {
     "name": "stdout",
     "output_type": "stream",
     "text": [
      "Training accuracy: 0.9471419132484509\n"
     ]
    }
   ],
   "source": [
    "train_score = pipe.score(X_train[new_vars], y_train)\n",
    "print(\"Training accuracy:\", train_score)"
   ]
  },
  {
   "cell_type": "code",
   "execution_count": 94,
   "id": "b7ba460c",
   "metadata": {
    "execution": {
     "iopub.execute_input": "2022-05-10T14:35:27.323407Z",
     "iopub.status.busy": "2022-05-10T14:35:27.323090Z",
     "iopub.status.idle": "2022-05-10T14:35:27.343130Z",
     "shell.execute_reply": "2022-05-10T14:35:27.342214Z"
    },
    "papermill": {
     "duration": 0.129285,
     "end_time": "2022-05-10T14:35:27.346557",
     "exception": false,
     "start_time": "2022-05-10T14:35:27.217272",
     "status": "completed"
    },
    "tags": []
   },
   "outputs": [
    {
     "name": "stdout",
     "output_type": "stream",
     "text": [
      "Test accuracy: 0.9337142857142857\n"
     ]
    }
   ],
   "source": [
    "test_score = pipe.score(X_test[new_vars], y_test)\n",
    "print(\"Test accuracy:\", test_score)"
   ]
  },
  {
   "cell_type": "markdown",
   "id": "ed53b708",
   "metadata": {
    "papermill": {
     "duration": 0.105183,
     "end_time": "2022-05-10T14:35:27.608518",
     "exception": false,
     "start_time": "2022-05-10T14:35:27.503335",
     "status": "completed"
    },
    "tags": []
   },
   "source": [
    "Let's make a confusion matrix to analyze how each class is being predicted by the model."
   ]
  },
  {
   "cell_type": "code",
   "execution_count": 95,
   "id": "77ba8f1a",
   "metadata": {},
   "outputs": [
    {
     "name": "stdout",
     "output_type": "stream",
     "text": [
      "              precision    recall  f1-score   support\n",
      "\n",
      "           0       0.95      0.97      0.96     12587\n",
      "           1       0.71      0.57      0.64      1413\n",
      "\n",
      "    accuracy                           0.93     14000\n",
      "   macro avg       0.83      0.77      0.80     14000\n",
      "weighted avg       0.93      0.93      0.93     14000\n",
      "\n"
     ]
    }
   ],
   "source": [
    "from sklearn.metrics import classification_report\n",
    "print(classification_report(y_test, pipe.predict(X_test[new_vars])))"
   ]
  },
  {
   "cell_type": "code",
   "execution_count": 96,
   "id": "e69ea730",
   "metadata": {
    "execution": {
     "iopub.execute_input": "2022-05-10T14:35:27.822308Z",
     "iopub.status.busy": "2022-05-10T14:35:27.821899Z",
     "iopub.status.idle": "2022-05-10T14:35:27.874398Z",
     "shell.execute_reply": "2022-05-10T14:35:27.873491Z"
    },
    "papermill": {
     "duration": 0.164529,
     "end_time": "2022-05-10T14:35:27.877671",
     "exception": false,
     "start_time": "2022-05-10T14:35:27.713142",
     "status": "completed"
    },
    "tags": []
   },
   "outputs": [
    {
     "data": {
      "text/plain": [
       "array([[49274,  1006],\n",
       "       [ 1954,  3765]])"
      ]
     },
     "execution_count": 96,
     "metadata": {},
     "output_type": "execute_result"
    }
   ],
   "source": [
    "confusion_matrix(y_train, pipe.predict(X_train[new_vars]))"
   ]
  },
  {
   "cell_type": "code",
   "execution_count": 97,
   "id": "e0053995",
   "metadata": {
    "execution": {
     "iopub.execute_input": "2022-05-10T14:35:28.137087Z",
     "iopub.status.busy": "2022-05-10T14:35:28.135991Z",
     "iopub.status.idle": "2022-05-10T14:35:28.160014Z",
     "shell.execute_reply": "2022-05-10T14:35:28.159133Z"
    },
    "papermill": {
     "duration": 0.133138,
     "end_time": "2022-05-10T14:35:28.162421",
     "exception": false,
     "start_time": "2022-05-10T14:35:28.029283",
     "status": "completed"
    },
    "tags": []
   },
   "outputs": [
    {
     "data": {
      "text/plain": [
       "array([[12264,   323],\n",
       "       [  605,   808]])"
      ]
     },
     "execution_count": 97,
     "metadata": {},
     "output_type": "execute_result"
    }
   ],
   "source": [
    "confusion_matrix(y_test, pipe.predict(X_test[new_vars]))"
   ]
  },
  {
   "cell_type": "markdown",
   "id": "790db185",
   "metadata": {
    "papermill": {
     "duration": 0.105179,
     "end_time": "2022-05-10T14:35:28.423701",
     "exception": false,
     "start_time": "2022-05-10T14:35:28.318522",
     "status": "completed"
    },
    "tags": []
   },
   "source": [
    "We can see a high amount of type 2 error. Due to class imbalance, the model is clearly trying to predict majority of the cases as class 0. Understanding how to handle class imbalance in classification models might be the key to winning this competition :) (hint!)"
   ]
  },
  {
   "cell_type": "code",
   "execution_count": 50,
   "id": "be6534cf",
   "metadata": {
    "execution": {
     "iopub.execute_input": "2022-05-10T14:35:28.636495Z",
     "iopub.status.busy": "2022-05-10T14:35:28.636160Z",
     "iopub.status.idle": "2022-05-10T14:35:28.664166Z",
     "shell.execute_reply": "2022-05-10T14:35:28.663268Z"
    },
    "papermill": {
     "duration": 0.137815,
     "end_time": "2022-05-10T14:35:28.667276",
     "exception": false,
     "start_time": "2022-05-10T14:35:28.529461",
     "status": "completed"
    },
    "tags": []
   },
   "outputs": [
    {
     "data": {
      "text/plain": [
       "0.7161921708185054"
      ]
     },
     "execution_count": 50,
     "metadata": {},
     "output_type": "execute_result"
    }
   ],
   "source": [
    "precision_score(y_test, pipe.predict(X_test[new_vars]))"
   ]
  },
  {
   "cell_type": "code",
   "execution_count": 51,
   "id": "cbe4c6c2",
   "metadata": {
    "execution": {
     "iopub.execute_input": "2022-05-10T14:35:28.930670Z",
     "iopub.status.busy": "2022-05-10T14:35:28.930311Z",
     "iopub.status.idle": "2022-05-10T14:35:28.958281Z",
     "shell.execute_reply": "2022-05-10T14:35:28.957390Z"
    },
    "papermill": {
     "duration": 0.138481,
     "end_time": "2022-05-10T14:35:28.961373",
     "exception": false,
     "start_time": "2022-05-10T14:35:28.822892",
     "status": "completed"
    },
    "tags": []
   },
   "outputs": [
    {
     "data": {
      "text/plain": [
       "0.5697098372257607"
      ]
     },
     "execution_count": 51,
     "metadata": {},
     "output_type": "execute_result"
    }
   ],
   "source": [
    "recall_score(y_test, pipe.predict(X_test[new_vars]))"
   ]
  },
  {
   "cell_type": "markdown",
   "id": "f2b71367",
   "metadata": {},
   "source": [
    "Results - F1 Score is good Hence this model can be used "
   ]
  },
  {
   "cell_type": "markdown",
   "id": "45346502",
   "metadata": {
    "papermill": {
     "duration": 0.107514,
     "end_time": "2022-05-10T14:35:29.224705",
     "exception": false,
     "start_time": "2022-05-10T14:35:29.117191",
     "status": "completed"
    },
    "tags": []
   },
   "source": [
    "# 7. Creating submission file\n",
    "\n",
    "For submission, we need to make sure that the format is exactly the same as the sample.csv file. It contains 2 columns, id and churn_probability"
   ]
  },
  {
   "cell_type": "code",
   "execution_count": 52,
   "id": "81349abd",
   "metadata": {
    "execution": {
     "iopub.execute_input": "2022-05-10T14:35:29.441255Z",
     "iopub.status.busy": "2022-05-10T14:35:29.440435Z",
     "iopub.status.idle": "2022-05-10T14:35:29.452110Z",
     "shell.execute_reply": "2022-05-10T14:35:29.451104Z"
    },
    "papermill": {
     "duration": 0.123953,
     "end_time": "2022-05-10T14:35:29.454512",
     "exception": false,
     "start_time": "2022-05-10T14:35:29.330559",
     "status": "completed"
    },
    "tags": []
   },
   "outputs": [
    {
     "data": {
      "text/html": [
       "<div>\n",
       "<style scoped>\n",
       "    .dataframe tbody tr th:only-of-type {\n",
       "        vertical-align: middle;\n",
       "    }\n",
       "\n",
       "    .dataframe tbody tr th {\n",
       "        vertical-align: top;\n",
       "    }\n",
       "\n",
       "    .dataframe thead th {\n",
       "        text-align: right;\n",
       "    }\n",
       "</style>\n",
       "<table border=\"1\" class=\"dataframe\">\n",
       "  <thead>\n",
       "    <tr style=\"text-align: right;\">\n",
       "      <th></th>\n",
       "      <th>id</th>\n",
       "      <th>churn_probability</th>\n",
       "    </tr>\n",
       "  </thead>\n",
       "  <tbody>\n",
       "    <tr>\n",
       "      <th>0</th>\n",
       "      <td>69999</td>\n",
       "      <td>0</td>\n",
       "    </tr>\n",
       "    <tr>\n",
       "      <th>1</th>\n",
       "      <td>70000</td>\n",
       "      <td>0</td>\n",
       "    </tr>\n",
       "    <tr>\n",
       "      <th>2</th>\n",
       "      <td>70001</td>\n",
       "      <td>0</td>\n",
       "    </tr>\n",
       "    <tr>\n",
       "      <th>3</th>\n",
       "      <td>70002</td>\n",
       "      <td>0</td>\n",
       "    </tr>\n",
       "    <tr>\n",
       "      <th>4</th>\n",
       "      <td>70003</td>\n",
       "      <td>0</td>\n",
       "    </tr>\n",
       "  </tbody>\n",
       "</table>\n",
       "</div>"
      ],
      "text/plain": [
       "      id  churn_probability\n",
       "0  69999                  0\n",
       "1  70000                  0\n",
       "2  70001                  0\n",
       "3  70002                  0\n",
       "4  70003                  0"
      ]
     },
     "execution_count": 52,
     "metadata": {},
     "output_type": "execute_result"
    }
   ],
   "source": [
    "sample.head()"
   ]
  },
  {
   "cell_type": "code",
   "execution_count": 53,
   "id": "c685cef0",
   "metadata": {
    "execution": {
     "iopub.execute_input": "2022-05-10T14:35:29.672110Z",
     "iopub.status.busy": "2022-05-10T14:35:29.671339Z",
     "iopub.status.idle": "2022-05-10T14:35:29.700767Z",
     "shell.execute_reply": "2022-05-10T14:35:29.699825Z"
    },
    "papermill": {
     "duration": 0.140931,
     "end_time": "2022-05-10T14:35:29.703086",
     "exception": false,
     "start_time": "2022-05-10T14:35:29.562155",
     "status": "completed"
    },
    "scrolled": true,
    "tags": []
   },
   "outputs": [
    {
     "data": {
      "text/html": [
       "<div>\n",
       "<style scoped>\n",
       "    .dataframe tbody tr th:only-of-type {\n",
       "        vertical-align: middle;\n",
       "    }\n",
       "\n",
       "    .dataframe tbody tr th {\n",
       "        vertical-align: top;\n",
       "    }\n",
       "\n",
       "    .dataframe thead th {\n",
       "        text-align: right;\n",
       "    }\n",
       "</style>\n",
       "<table border=\"1\" class=\"dataframe\">\n",
       "  <thead>\n",
       "    <tr style=\"text-align: right;\">\n",
       "      <th></th>\n",
       "      <th>id</th>\n",
       "      <th>circle_id</th>\n",
       "      <th>loc_og_t2o_mou</th>\n",
       "      <th>std_og_t2o_mou</th>\n",
       "      <th>loc_ic_t2o_mou</th>\n",
       "      <th>last_date_of_month_6</th>\n",
       "      <th>last_date_of_month_7</th>\n",
       "      <th>last_date_of_month_8</th>\n",
       "      <th>arpu_6</th>\n",
       "      <th>arpu_7</th>\n",
       "      <th>...</th>\n",
       "      <th>sachet_3g_6</th>\n",
       "      <th>sachet_3g_7</th>\n",
       "      <th>sachet_3g_8</th>\n",
       "      <th>fb_user_6</th>\n",
       "      <th>fb_user_7</th>\n",
       "      <th>fb_user_8</th>\n",
       "      <th>aon</th>\n",
       "      <th>aug_vbc_3g</th>\n",
       "      <th>jul_vbc_3g</th>\n",
       "      <th>jun_vbc_3g</th>\n",
       "    </tr>\n",
       "  </thead>\n",
       "  <tbody>\n",
       "    <tr>\n",
       "      <th>0</th>\n",
       "      <td>69999</td>\n",
       "      <td>109</td>\n",
       "      <td>0.0</td>\n",
       "      <td>0.0</td>\n",
       "      <td>0.0</td>\n",
       "      <td>6/30/2014</td>\n",
       "      <td>7/31/2014</td>\n",
       "      <td>8/31/2014</td>\n",
       "      <td>91.882</td>\n",
       "      <td>65.330</td>\n",
       "      <td>...</td>\n",
       "      <td>0</td>\n",
       "      <td>0</td>\n",
       "      <td>0</td>\n",
       "      <td>NaN</td>\n",
       "      <td>NaN</td>\n",
       "      <td>NaN</td>\n",
       "      <td>1692</td>\n",
       "      <td>0.00</td>\n",
       "      <td>0.00</td>\n",
       "      <td>0.00</td>\n",
       "    </tr>\n",
       "    <tr>\n",
       "      <th>1</th>\n",
       "      <td>70000</td>\n",
       "      <td>109</td>\n",
       "      <td>0.0</td>\n",
       "      <td>0.0</td>\n",
       "      <td>0.0</td>\n",
       "      <td>6/30/2014</td>\n",
       "      <td>7/31/2014</td>\n",
       "      <td>8/31/2014</td>\n",
       "      <td>414.168</td>\n",
       "      <td>515.568</td>\n",
       "      <td>...</td>\n",
       "      <td>0</td>\n",
       "      <td>0</td>\n",
       "      <td>0</td>\n",
       "      <td>NaN</td>\n",
       "      <td>NaN</td>\n",
       "      <td>NaN</td>\n",
       "      <td>2533</td>\n",
       "      <td>0.00</td>\n",
       "      <td>0.00</td>\n",
       "      <td>0.00</td>\n",
       "    </tr>\n",
       "    <tr>\n",
       "      <th>2</th>\n",
       "      <td>70001</td>\n",
       "      <td>109</td>\n",
       "      <td>0.0</td>\n",
       "      <td>0.0</td>\n",
       "      <td>0.0</td>\n",
       "      <td>6/30/2014</td>\n",
       "      <td>7/31/2014</td>\n",
       "      <td>8/31/2014</td>\n",
       "      <td>329.844</td>\n",
       "      <td>434.884</td>\n",
       "      <td>...</td>\n",
       "      <td>0</td>\n",
       "      <td>0</td>\n",
       "      <td>0</td>\n",
       "      <td>NaN</td>\n",
       "      <td>NaN</td>\n",
       "      <td>NaN</td>\n",
       "      <td>277</td>\n",
       "      <td>525.61</td>\n",
       "      <td>758.41</td>\n",
       "      <td>241.84</td>\n",
       "    </tr>\n",
       "    <tr>\n",
       "      <th>3</th>\n",
       "      <td>70002</td>\n",
       "      <td>109</td>\n",
       "      <td>0.0</td>\n",
       "      <td>0.0</td>\n",
       "      <td>0.0</td>\n",
       "      <td>6/30/2014</td>\n",
       "      <td>7/31/2014</td>\n",
       "      <td>8/31/2014</td>\n",
       "      <td>43.550</td>\n",
       "      <td>171.390</td>\n",
       "      <td>...</td>\n",
       "      <td>0</td>\n",
       "      <td>0</td>\n",
       "      <td>0</td>\n",
       "      <td>NaN</td>\n",
       "      <td>NaN</td>\n",
       "      <td>NaN</td>\n",
       "      <td>1244</td>\n",
       "      <td>0.00</td>\n",
       "      <td>0.00</td>\n",
       "      <td>0.00</td>\n",
       "    </tr>\n",
       "    <tr>\n",
       "      <th>4</th>\n",
       "      <td>70003</td>\n",
       "      <td>109</td>\n",
       "      <td>0.0</td>\n",
       "      <td>0.0</td>\n",
       "      <td>0.0</td>\n",
       "      <td>6/30/2014</td>\n",
       "      <td>7/31/2014</td>\n",
       "      <td>8/31/2014</td>\n",
       "      <td>306.854</td>\n",
       "      <td>406.289</td>\n",
       "      <td>...</td>\n",
       "      <td>0</td>\n",
       "      <td>0</td>\n",
       "      <td>0</td>\n",
       "      <td>NaN</td>\n",
       "      <td>NaN</td>\n",
       "      <td>NaN</td>\n",
       "      <td>462</td>\n",
       "      <td>0.00</td>\n",
       "      <td>0.00</td>\n",
       "      <td>0.00</td>\n",
       "    </tr>\n",
       "  </tbody>\n",
       "</table>\n",
       "<p>5 rows × 171 columns</p>\n",
       "</div>"
      ],
      "text/plain": [
       "      id  circle_id  loc_og_t2o_mou  std_og_t2o_mou  loc_ic_t2o_mou  \\\n",
       "0  69999        109             0.0             0.0             0.0   \n",
       "1  70000        109             0.0             0.0             0.0   \n",
       "2  70001        109             0.0             0.0             0.0   \n",
       "3  70002        109             0.0             0.0             0.0   \n",
       "4  70003        109             0.0             0.0             0.0   \n",
       "\n",
       "  last_date_of_month_6 last_date_of_month_7 last_date_of_month_8   arpu_6  \\\n",
       "0            6/30/2014            7/31/2014            8/31/2014   91.882   \n",
       "1            6/30/2014            7/31/2014            8/31/2014  414.168   \n",
       "2            6/30/2014            7/31/2014            8/31/2014  329.844   \n",
       "3            6/30/2014            7/31/2014            8/31/2014   43.550   \n",
       "4            6/30/2014            7/31/2014            8/31/2014  306.854   \n",
       "\n",
       "    arpu_7  ...  sachet_3g_6  sachet_3g_7  sachet_3g_8  fb_user_6  fb_user_7  \\\n",
       "0   65.330  ...            0            0            0        NaN        NaN   \n",
       "1  515.568  ...            0            0            0        NaN        NaN   \n",
       "2  434.884  ...            0            0            0        NaN        NaN   \n",
       "3  171.390  ...            0            0            0        NaN        NaN   \n",
       "4  406.289  ...            0            0            0        NaN        NaN   \n",
       "\n",
       "   fb_user_8   aon  aug_vbc_3g  jul_vbc_3g  jun_vbc_3g  \n",
       "0        NaN  1692        0.00        0.00        0.00  \n",
       "1        NaN  2533        0.00        0.00        0.00  \n",
       "2        NaN   277      525.61      758.41      241.84  \n",
       "3        NaN  1244        0.00        0.00        0.00  \n",
       "4        NaN   462        0.00        0.00        0.00  \n",
       "\n",
       "[5 rows x 171 columns]"
      ]
     },
     "execution_count": 53,
     "metadata": {},
     "output_type": "execute_result"
    }
   ],
   "source": [
    "unseen.head()"
   ]
  },
  {
   "cell_type": "markdown",
   "id": "caf99ca0",
   "metadata": {
    "papermill": {
     "duration": 0.109346,
     "end_time": "2022-05-10T14:35:29.927431",
     "exception": false,
     "start_time": "2022-05-10T14:35:29.818085",
     "status": "completed"
    },
    "tags": []
   },
   "source": [
    "Lets first select the columns that we want to work with (or create them, if you have done any feature engineering)"
   ]
  },
  {
   "cell_type": "code",
   "execution_count": 54,
   "id": "6154944d",
   "metadata": {},
   "outputs": [],
   "source": [
    "unseen['avg_daily_usage']=(unseen['total_og_mou_6']+unseen['total_og_mou_7']+unseen['total_og_mou_8'])/unseen['aon'].round(0)"
   ]
  },
  {
   "cell_type": "code",
   "execution_count": 55,
   "id": "e4b1678c",
   "metadata": {},
   "outputs": [],
   "source": [
    "unseen['avg_3g_gain']=data['avg_3g_gain']=(((unseen['vol_3g_mb_6']-unseen['vol_3g_mb_7'])-unseen['vol_3g_mb_8'])/3).round(0)"
   ]
  },
  {
   "cell_type": "code",
   "execution_count": 56,
   "id": "e3199f9e",
   "metadata": {
    "execution": {
     "iopub.execute_input": "2022-05-10T14:35:30.145644Z",
     "iopub.status.busy": "2022-05-10T14:35:30.145308Z",
     "iopub.status.idle": "2022-05-10T14:35:30.213722Z",
     "shell.execute_reply": "2022-05-10T14:35:30.212643Z"
    },
    "papermill": {
     "duration": 0.180613,
     "end_time": "2022-05-10T14:35:30.216212",
     "exception": false,
     "start_time": "2022-05-10T14:35:30.035599",
     "status": "completed"
    },
    "tags": []
   },
   "outputs": [
    {
     "data": {
      "text/plain": [
       "(30000, 18)"
      ]
     },
     "execution_count": 56,
     "metadata": {},
     "output_type": "execute_result"
    }
   ],
   "source": [
    "submission_data = unseen.set_index('id')[new_vars]\n",
    "submission_data.shape"
   ]
  },
  {
   "cell_type": "markdown",
   "id": "0efad074",
   "metadata": {
    "papermill": {
     "duration": 0.108695,
     "end_time": "2022-05-10T14:35:30.433018",
     "exception": false,
     "start_time": "2022-05-10T14:35:30.324323",
     "status": "completed"
    },
    "tags": []
   },
   "source": [
    "Next, lets create a new column in the unseen dataset called churn_probability and use the model pipeline to predict the probabilities for this data"
   ]
  },
  {
   "cell_type": "code",
   "execution_count": 57,
   "id": "9abe9a6f",
   "metadata": {
    "execution": {
     "iopub.execute_input": "2022-05-10T14:35:30.654240Z",
     "iopub.status.busy": "2022-05-10T14:35:30.653331Z",
     "iopub.status.idle": "2022-05-10T14:35:30.689919Z",
     "shell.execute_reply": "2022-05-10T14:35:30.688887Z"
    },
    "papermill": {
     "duration": 0.151041,
     "end_time": "2022-05-10T14:35:30.694057",
     "exception": false,
     "start_time": "2022-05-10T14:35:30.543016",
     "status": "completed"
    },
    "tags": []
   },
   "outputs": [
    {
     "data": {
      "text/html": [
       "<div>\n",
       "<style scoped>\n",
       "    .dataframe tbody tr th:only-of-type {\n",
       "        vertical-align: middle;\n",
       "    }\n",
       "\n",
       "    .dataframe tbody tr th {\n",
       "        vertical-align: top;\n",
       "    }\n",
       "\n",
       "    .dataframe thead th {\n",
       "        text-align: right;\n",
       "    }\n",
       "</style>\n",
       "<table border=\"1\" class=\"dataframe\">\n",
       "  <thead>\n",
       "    <tr style=\"text-align: right;\">\n",
       "      <th></th>\n",
       "      <th>id</th>\n",
       "      <th>churn_probability</th>\n",
       "    </tr>\n",
       "  </thead>\n",
       "  <tbody>\n",
       "    <tr>\n",
       "      <th>0</th>\n",
       "      <td>69999</td>\n",
       "      <td>0</td>\n",
       "    </tr>\n",
       "    <tr>\n",
       "      <th>1</th>\n",
       "      <td>70000</td>\n",
       "      <td>0</td>\n",
       "    </tr>\n",
       "    <tr>\n",
       "      <th>2</th>\n",
       "      <td>70001</td>\n",
       "      <td>1</td>\n",
       "    </tr>\n",
       "    <tr>\n",
       "      <th>3</th>\n",
       "      <td>70002</td>\n",
       "      <td>0</td>\n",
       "    </tr>\n",
       "    <tr>\n",
       "      <th>4</th>\n",
       "      <td>70003</td>\n",
       "      <td>0</td>\n",
       "    </tr>\n",
       "  </tbody>\n",
       "</table>\n",
       "</div>"
      ],
      "text/plain": [
       "      id  churn_probability\n",
       "0  69999                  0\n",
       "1  70000                  0\n",
       "2  70001                  1\n",
       "3  70002                  0\n",
       "4  70003                  0"
      ]
     },
     "execution_count": 57,
     "metadata": {},
     "output_type": "execute_result"
    }
   ],
   "source": [
    "unseen['churn_probability'] = pipe.predict(submission_data)\n",
    "output = unseen[['id','churn_probability']]\n",
    "output.head()"
   ]
  },
  {
   "cell_type": "markdown",
   "id": "91d6f550",
   "metadata": {
    "papermill": {
     "duration": 0.111156,
     "end_time": "2022-05-10T14:35:30.962489",
     "exception": false,
     "start_time": "2022-05-10T14:35:30.851333",
     "status": "completed"
    },
    "tags": []
   },
   "source": [
    "Finally, lets create a csv file out of this dataset, ensuring to set index=False to avoid an addition column in the csv."
   ]
  },
  {
   "cell_type": "code",
   "execution_count": 58,
   "id": "c1d4fd67",
   "metadata": {
    "execution": {
     "iopub.execute_input": "2022-05-10T14:35:31.184054Z",
     "iopub.status.busy": "2022-05-10T14:35:31.182917Z",
     "iopub.status.idle": "2022-05-10T14:35:31.239738Z",
     "shell.execute_reply": "2022-05-10T14:35:31.238768Z"
    },
    "papermill": {
     "duration": 0.170456,
     "end_time": "2022-05-10T14:35:31.242506",
     "exception": false,
     "start_time": "2022-05-10T14:35:31.072050",
     "status": "completed"
    },
    "tags": []
   },
   "outputs": [],
   "source": [
    "output.to_csv('Telco_churn_dataset',index=False)"
   ]
  },
  {
   "cell_type": "markdown",
   "id": "64af778d",
   "metadata": {},
   "source": [
    "Recommend strategies to manage customer churn:As we can see from Random Forest feature importance, the features which are important for churn are total outgoing calls, total recharge , average daily usage per user, Age on netwrok. \n",
    "To keep the cutomers churn rate low, some of the strategies that can be applied as below \n",
    "1. Number outgoing calls can be increased like free outgoing calls between few hours in a day or some days in a month \n",
    "2. Total recharge can be incresed by giving some discounts or differnt promo offers.\n",
    "3. Average daily usage per user can be increased by daily discounts. \n",
    "4. Age on newtwork can be incresed by good/stable services, dicount offers, csutomer interaction etc."
   ]
  },
  {
   "cell_type": "code",
   "execution_count": null,
   "id": "1a2f1f1d",
   "metadata": {},
   "outputs": [],
   "source": []
  }
 ],
 "metadata": {
  "kernelspec": {
   "display_name": "Python 3 (ipykernel)",
   "language": "python",
   "name": "python3"
  },
  "language_info": {
   "codemirror_mode": {
    "name": "ipython",
    "version": 3
   },
   "file_extension": ".py",
   "mimetype": "text/x-python",
   "name": "python",
   "nbconvert_exporter": "python",
   "pygments_lexer": "ipython3",
   "version": "3.9.12"
  },
  "papermill": {
   "default_parameters": {},
   "duration": 69.684743,
   "end_time": "2022-05-10T14:35:32.793170",
   "environment_variables": {},
   "exception": null,
   "input_path": "__notebook__.ipynb",
   "output_path": "__notebook__.ipynb",
   "parameters": {},
   "start_time": "2022-05-10T14:34:23.108427",
   "version": "2.3.4"
  }
 },
 "nbformat": 4,
 "nbformat_minor": 5
}
