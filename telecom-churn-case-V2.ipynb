{
 "cells": [
  {
   "cell_type": "markdown",
   "id": "e293fb5f",
   "metadata": {
    "papermill": {
     "duration": 0.073134,
     "end_time": "2022-05-10T14:34:34.247796",
     "exception": false,
     "start_time": "2022-05-10T14:34:34.174662",
     "status": "completed"
    },
    "tags": []
   },
   "source": [
    "### Telecom Churn Prediction"
   ]
  },
  {
   "cell_type": "markdown",
   "id": "16aac3ab",
   "metadata": {
    "papermill": {
     "duration": 0.067777,
     "end_time": "2022-05-10T14:34:34.661120",
     "exception": false,
     "start_time": "2022-05-10T14:34:34.593343",
     "status": "completed"
    },
    "tags": []
   },
   "source": [
    "# Business Goal\n",
    "\n",
    "In this project, we will analyse customer-level data of a leading telecom firm, build predictive models to identify customers at high risk of churn and identify the main indicators of churn."
   ]
  },
  {
   "cell_type": "markdown",
   "id": "52e9363a",
   "metadata": {
    "papermill": {
     "duration": 0.069162,
     "end_time": "2022-05-10T14:34:34.798609",
     "exception": false,
     "start_time": "2022-05-10T14:34:34.729447",
     "status": "completed"
    },
    "tags": []
   },
   "source": [
    "# 1. Loading dependencies & datasets\n",
    "\n",
    "Lets start by loading our dependencies. We can keep adding any imports to this cell block, as we write mode and mode code."
   ]
  },
  {
   "cell_type": "code",
   "execution_count": 1,
   "id": "f876f665",
   "metadata": {
    "execution": {
     "iopub.execute_input": "2022-05-10T14:34:34.939683Z",
     "iopub.status.busy": "2022-05-10T14:34:34.939173Z",
     "iopub.status.idle": "2022-05-10T14:34:36.717960Z",
     "shell.execute_reply": "2022-05-10T14:34:36.716984Z"
    },
    "papermill": {
     "duration": 1.853813,
     "end_time": "2022-05-10T14:34:36.720932",
     "exception": false,
     "start_time": "2022-05-10T14:34:34.867119",
     "status": "completed"
    },
    "tags": []
   },
   "outputs": [],
   "source": [
    "#Data Structures\n",
    "import pandas as pd\n",
    "import numpy as np\n",
    "import re\n",
    "import os\n",
    "\n",
    "### For installing missingno library, type this command in terminal\n",
    "#pip install missingno\n",
    "\n",
    "import missingno as msno\n",
    "\n",
    "#Sklearn\n",
    "from sklearn.impute import SimpleImputer\n",
    "from sklearn.preprocessing import StandardScaler\n",
    "from sklearn.model_selection import train_test_split\n",
    "from sklearn.ensemble import RandomForestClassifier\n",
    "from sklearn.decomposition import PCA\n",
    "from sklearn.manifold import TSNE\n",
    "from sklearn.linear_model import LogisticRegression\n",
    "from sklearn.pipeline import Pipeline\n",
    "from sklearn.model_selection import GridSearchCV\n",
    "from sklearn.metrics import confusion_matrix, precision_score, recall_score\n",
    "\n",
    "#Plotting\n",
    "import matplotlib.pyplot as plt\n",
    "from mpl_toolkits.mplot3d import Axes3D\n",
    "import seaborn as sns\n",
    "\n",
    "#Others\n",
    "import warnings\n",
    "warnings.filterwarnings('ignore')\n",
    "\n",
    "%matplotlib inline"
   ]
  },
  {
   "cell_type": "markdown",
   "id": "fe37e467",
   "metadata": {
    "papermill": {
     "duration": 0.068537,
     "end_time": "2022-05-10T14:34:36.860662",
     "exception": false,
     "start_time": "2022-05-10T14:34:36.792125",
     "status": "completed"
    },
    "tags": []
   },
   "source": [
    "Load datasets and the data dictionary file.\n"
   ]
  },
  {
   "cell_type": "code",
   "execution_count": 2,
   "id": "594ad53c",
   "metadata": {
    "execution": {
     "iopub.execute_input": "2022-05-10T14:34:37.151016Z",
     "iopub.status.busy": "2022-05-10T14:34:37.150645Z",
     "iopub.status.idle": "2022-05-10T14:34:40.582665Z",
     "shell.execute_reply": "2022-05-10T14:34:40.580755Z"
    },
    "papermill": {
     "duration": 3.504953,
     "end_time": "2022-05-10T14:34:40.585147",
     "exception": false,
     "start_time": "2022-05-10T14:34:37.080194",
     "status": "completed"
    },
    "tags": []
   },
   "outputs": [
    {
     "name": "stdout",
     "output_type": "stream",
     "text": [
      "(69999, 172)\n",
      "(30000, 171)\n",
      "(30000, 2)\n",
      "(36, 2)\n"
     ]
    }
   ],
   "source": [
    "\n",
    "data = pd.read_csv(\"train (1).csv\")\n",
    "unseen = pd.read_csv(\"test (1).csv\")\n",
    "sample = pd.read_csv(\"sample (2).csv\")\n",
    "data_dict = pd.read_csv(\"data_dictionary (1).csv\")\n",
    "\n",
    "print(data.shape)\n",
    "print(unseen.shape)\n",
    "print(sample.shape)\n",
    "print(data_dict.shape)"
   ]
  },
  {
   "cell_type": "markdown",
   "id": "b65d3cfc",
   "metadata": {
    "papermill": {
     "duration": 0.068381,
     "end_time": "2022-05-10T14:34:40.723475",
     "exception": false,
     "start_time": "2022-05-10T14:34:40.655094",
     "status": "completed"
    },
    "tags": []
   },
   "source": [
    "1. Lets analyze the data dictionary versus the churn dataset.\n",
    "2. The data dictonary contains a list of abbrevations which provide you all the information you need to understand what a specific feature/variable in the churn dataset represents\n",
    "3. Example: \n",
    "\n",
    "> \"arpu_7\" -> Average revenue per user + KPI for the month of July\n",
    ">\n",
    "> \"onnet_mou_6\" ->  All kind of calls within the same operator network + Minutes of usage voice calls + KPI for the month of June\n",
    ">\n",
    ">\"night_pck_user_8\" -> Scheme to use during specific night hours only + Prepaid service schemes called PACKS + KPI for the month of August\n",
    ">\n",
    ">\"max_rech_data_7\" -> Maximum + Recharge + Mobile internet + KPI for the month of July\n",
    "\n",
    "Its important to understand the definitions of each feature that you are working with, take notes on which feature you think might impact the churn rate of a user, and what sort of analysis could you do to understand the distribution of the feature better."
   ]
  },
  {
   "cell_type": "code",
   "execution_count": 3,
   "id": "00e53b07",
   "metadata": {
    "execution": {
     "iopub.execute_input": "2022-05-10T14:34:40.864324Z",
     "iopub.status.busy": "2022-05-10T14:34:40.863932Z",
     "iopub.status.idle": "2022-05-10T14:34:40.884069Z",
     "shell.execute_reply": "2022-05-10T14:34:40.883341Z"
    },
    "papermill": {
     "duration": 0.093745,
     "end_time": "2022-05-10T14:34:40.886871",
     "exception": false,
     "start_time": "2022-05-10T14:34:40.793126",
     "status": "completed"
    },
    "tags": []
   },
   "outputs": [
    {
     "data": {
      "text/html": [
       "<div>\n",
       "<style scoped>\n",
       "    .dataframe tbody tr th:only-of-type {\n",
       "        vertical-align: middle;\n",
       "    }\n",
       "\n",
       "    .dataframe tbody tr th {\n",
       "        vertical-align: top;\n",
       "    }\n",
       "\n",
       "    .dataframe thead th {\n",
       "        text-align: right;\n",
       "    }\n",
       "</style>\n",
       "<table border=\"1\" class=\"dataframe\">\n",
       "  <thead>\n",
       "    <tr style=\"text-align: right;\">\n",
       "      <th></th>\n",
       "      <th>Acronyms</th>\n",
       "      <th>Description</th>\n",
       "    </tr>\n",
       "  </thead>\n",
       "  <tbody>\n",
       "    <tr>\n",
       "      <th>0</th>\n",
       "      <td>CIRCLE_ID</td>\n",
       "      <td>Telecom circle area to which the customer belo...</td>\n",
       "    </tr>\n",
       "    <tr>\n",
       "      <th>1</th>\n",
       "      <td>LOC</td>\n",
       "      <td>Local calls  within same telecom circle</td>\n",
       "    </tr>\n",
       "    <tr>\n",
       "      <th>2</th>\n",
       "      <td>STD</td>\n",
       "      <td>STD calls  outside the calling circle</td>\n",
       "    </tr>\n",
       "    <tr>\n",
       "      <th>3</th>\n",
       "      <td>IC</td>\n",
       "      <td>Incoming calls</td>\n",
       "    </tr>\n",
       "    <tr>\n",
       "      <th>4</th>\n",
       "      <td>OG</td>\n",
       "      <td>Outgoing calls</td>\n",
       "    </tr>\n",
       "    <tr>\n",
       "      <th>5</th>\n",
       "      <td>T2T</td>\n",
       "      <td>Operator T to T ie within same operator mobile...</td>\n",
       "    </tr>\n",
       "    <tr>\n",
       "      <th>6</th>\n",
       "      <td>T2M</td>\n",
       "      <td>Operator T to other operator mobile</td>\n",
       "    </tr>\n",
       "    <tr>\n",
       "      <th>7</th>\n",
       "      <td>T2O</td>\n",
       "      <td>Operator T to other operator fixed line</td>\n",
       "    </tr>\n",
       "    <tr>\n",
       "      <th>8</th>\n",
       "      <td>T2F</td>\n",
       "      <td>Operator T to fixed lines of T</td>\n",
       "    </tr>\n",
       "    <tr>\n",
       "      <th>9</th>\n",
       "      <td>T2C</td>\n",
       "      <td>Operator T to its own call center</td>\n",
       "    </tr>\n",
       "    <tr>\n",
       "      <th>10</th>\n",
       "      <td>ARPU</td>\n",
       "      <td>Average revenue per user</td>\n",
       "    </tr>\n",
       "    <tr>\n",
       "      <th>11</th>\n",
       "      <td>MOU</td>\n",
       "      <td>Minutes of usage  voice calls</td>\n",
       "    </tr>\n",
       "    <tr>\n",
       "      <th>12</th>\n",
       "      <td>AON</td>\n",
       "      <td>Age on network  number of days the customer is...</td>\n",
       "    </tr>\n",
       "    <tr>\n",
       "      <th>13</th>\n",
       "      <td>ONNET</td>\n",
       "      <td>All kind of calls within the same operator net...</td>\n",
       "    </tr>\n",
       "    <tr>\n",
       "      <th>14</th>\n",
       "      <td>OFFNET</td>\n",
       "      <td>All kind of calls outside the operator T network</td>\n",
       "    </tr>\n",
       "    <tr>\n",
       "      <th>15</th>\n",
       "      <td>ROAM</td>\n",
       "      <td>Indicates that customer is in roaming zone dur...</td>\n",
       "    </tr>\n",
       "    <tr>\n",
       "      <th>16</th>\n",
       "      <td>SPL</td>\n",
       "      <td>Special calls</td>\n",
       "    </tr>\n",
       "    <tr>\n",
       "      <th>17</th>\n",
       "      <td>ISD</td>\n",
       "      <td>ISD calls</td>\n",
       "    </tr>\n",
       "    <tr>\n",
       "      <th>18</th>\n",
       "      <td>RECH</td>\n",
       "      <td>Recharge</td>\n",
       "    </tr>\n",
       "    <tr>\n",
       "      <th>19</th>\n",
       "      <td>NUM</td>\n",
       "      <td>Number</td>\n",
       "    </tr>\n",
       "    <tr>\n",
       "      <th>20</th>\n",
       "      <td>AMT</td>\n",
       "      <td>Amount in local currency</td>\n",
       "    </tr>\n",
       "    <tr>\n",
       "      <th>21</th>\n",
       "      <td>MAX</td>\n",
       "      <td>Maximum</td>\n",
       "    </tr>\n",
       "    <tr>\n",
       "      <th>22</th>\n",
       "      <td>DATA</td>\n",
       "      <td>Mobile internet</td>\n",
       "    </tr>\n",
       "    <tr>\n",
       "      <th>23</th>\n",
       "      <td>3G</td>\n",
       "      <td>G network</td>\n",
       "    </tr>\n",
       "    <tr>\n",
       "      <th>24</th>\n",
       "      <td>AV</td>\n",
       "      <td>Average</td>\n",
       "    </tr>\n",
       "    <tr>\n",
       "      <th>25</th>\n",
       "      <td>VOL</td>\n",
       "      <td>Mobile internet usage volume in MB</td>\n",
       "    </tr>\n",
       "    <tr>\n",
       "      <th>26</th>\n",
       "      <td>2G</td>\n",
       "      <td>G network</td>\n",
       "    </tr>\n",
       "    <tr>\n",
       "      <th>27</th>\n",
       "      <td>PCK</td>\n",
       "      <td>Prepaid service schemes called  PACKS</td>\n",
       "    </tr>\n",
       "    <tr>\n",
       "      <th>28</th>\n",
       "      <td>NIGHT</td>\n",
       "      <td>Scheme to use during specific night hours only</td>\n",
       "    </tr>\n",
       "    <tr>\n",
       "      <th>29</th>\n",
       "      <td>MONTHLY</td>\n",
       "      <td>Service schemes with validity equivalent to a ...</td>\n",
       "    </tr>\n",
       "    <tr>\n",
       "      <th>30</th>\n",
       "      <td>SACHET</td>\n",
       "      <td>Service schemes with validity smaller than a m...</td>\n",
       "    </tr>\n",
       "    <tr>\n",
       "      <th>31</th>\n",
       "      <td>*.6</td>\n",
       "      <td>KPI for the month of June</td>\n",
       "    </tr>\n",
       "    <tr>\n",
       "      <th>32</th>\n",
       "      <td>*.7</td>\n",
       "      <td>KPI for the month of July</td>\n",
       "    </tr>\n",
       "    <tr>\n",
       "      <th>33</th>\n",
       "      <td>*.8</td>\n",
       "      <td>KPI for the month of August</td>\n",
       "    </tr>\n",
       "    <tr>\n",
       "      <th>34</th>\n",
       "      <td>FB_USER</td>\n",
       "      <td>Service scheme to avail services of Facebook a...</td>\n",
       "    </tr>\n",
       "    <tr>\n",
       "      <th>35</th>\n",
       "      <td>VBC</td>\n",
       "      <td>Volume based cost  when no specific scheme is ...</td>\n",
       "    </tr>\n",
       "  </tbody>\n",
       "</table>\n",
       "</div>"
      ],
      "text/plain": [
       "       Acronyms                                        Description\n",
       "0     CIRCLE_ID  Telecom circle area to which the customer belo...\n",
       "1           LOC            Local calls  within same telecom circle\n",
       "2           STD              STD calls  outside the calling circle\n",
       "3            IC                                     Incoming calls\n",
       "4            OG                                     Outgoing calls\n",
       "5           T2T  Operator T to T ie within same operator mobile...\n",
       "6       T2M                    Operator T to other operator mobile\n",
       "7       T2O                Operator T to other operator fixed line\n",
       "8       T2F                         Operator T to fixed lines of T\n",
       "9       T2C                      Operator T to its own call center\n",
       "10     ARPU                               Average revenue per user\n",
       "11      MOU                          Minutes of usage  voice calls\n",
       "12      AON      Age on network  number of days the customer is...\n",
       "13     ONNET     All kind of calls within the same operator net...\n",
       "14   OFFNET       All kind of calls outside the operator T network\n",
       "15         ROAM  Indicates that customer is in roaming zone dur...\n",
       "16       SPL                                         Special calls\n",
       "17      ISD                                              ISD calls\n",
       "18     RECH                                               Recharge\n",
       "19      NUM                                                 Number\n",
       "20      AMT                               Amount in local currency\n",
       "21      MAX                                                Maximum\n",
       "22     DATA                                        Mobile internet\n",
       "23       3G                                              G network\n",
       "24       AV                                                Average\n",
       "25      VOL                     Mobile internet usage volume in MB\n",
       "26       2G                                              G network\n",
       "27      PCK                  Prepaid service schemes called  PACKS\n",
       "28    NIGHT         Scheme to use during specific night hours only\n",
       "29  MONTHLY      Service schemes with validity equivalent to a ...\n",
       "30    SACHET     Service schemes with validity smaller than a m...\n",
       "31      *.6                              KPI for the month of June\n",
       "32      *.7                              KPI for the month of July\n",
       "33      *.8                            KPI for the month of August\n",
       "34      FB_USER  Service scheme to avail services of Facebook a...\n",
       "35      VBC      Volume based cost  when no specific scheme is ..."
      ]
     },
     "execution_count": 3,
     "metadata": {},
     "output_type": "execute_result"
    }
   ],
   "source": [
    "data_dict"
   ]
  },
  {
   "cell_type": "markdown",
   "id": "87d06501",
   "metadata": {
    "papermill": {
     "duration": 0.075092,
     "end_time": "2022-05-10T14:34:41.033312",
     "exception": false,
     "start_time": "2022-05-10T14:34:40.958220",
     "status": "completed"
    },
    "tags": []
   },
   "source": [
    "For the purpose of this **starter notebook**, we I will restrict the dataset to only a small set of variables. \n",
    "\n",
    "The approach I use here is to understand each Acronym, figure our what variable might be important and filter out variable names based on the combinations of acrynoms using REGEX. So, if I want the total minutes a person has spent on outgoing calls, I need acronyms, TOTAL, OG and MOU. So corresponding regex is ```total.+og.+mou```"
   ]
  },
  {
   "cell_type": "code",
   "execution_count": 4,
   "id": "9e37a07b",
   "metadata": {
    "execution": {
     "iopub.execute_input": "2022-05-10T14:34:41.175826Z",
     "iopub.status.busy": "2022-05-10T14:34:41.174692Z",
     "iopub.status.idle": "2022-05-10T14:34:41.211470Z",
     "shell.execute_reply": "2022-05-10T14:34:41.210506Z"
    },
    "papermill": {
     "duration": 0.110452,
     "end_time": "2022-05-10T14:34:41.214068",
     "exception": false,
     "start_time": "2022-05-10T14:34:41.103616",
     "status": "completed"
    },
    "tags": []
   },
   "outputs": [],
   "source": [
    "ids = ['id','circle_id']\n",
    "total_amounts = [i for i in list(data.columns) if re.search('total.+amt',i)]\n",
    "total_outgoing_minutes = [i for i in list(data.columns) if re.search('total.+og.+mou',i)]\n",
    "offnetwork_minutes = [i for i in list(data.columns) if re.search('offnet',i)]\n",
    "average_revenue_3g = [i for i in list(data.columns) if re.search('arpu.+3g',i)]\n",
    "average_revenue_2g = [i for i in list(data.columns) if re.search('arpu.+2g',i)]\n",
    "volume_3g = [i for i in list(data.columns) if re.search('vol.+3g',i)]\n",
    "volume_2g = [i for i in list(data.columns) if re.search('vol.+2g',i)]\n",
    "age_on_network = [i for i in list(data.columns) if re.search('aon',i)]\n",
    "\n",
    "#Storing them in a single flat list\n",
    "variables = [*ids, \n",
    "             *total_amounts, \n",
    "             *total_outgoing_minutes, \n",
    "             *offnetwork_minutes, \n",
    "             *average_revenue_3g, \n",
    "             *average_revenue_2g,\n",
    "             *volume_3g,\n",
    "             *volume_2g,\n",
    "             *age_on_network, \n",
    "             'churn_probability']\n",
    "\n",
    "data = data[variables].set_index('id')"
   ]
  },
  {
   "cell_type": "code",
   "execution_count": 5,
   "id": "939ce473",
   "metadata": {
    "execution": {
     "iopub.execute_input": "2022-05-10T14:34:41.355481Z",
     "iopub.status.busy": "2022-05-10T14:34:41.355077Z",
     "iopub.status.idle": "2022-05-10T14:34:41.384974Z",
     "shell.execute_reply": "2022-05-10T14:34:41.384059Z"
    },
    "papermill": {
     "duration": 0.104123,
     "end_time": "2022-05-10T14:34:41.387775",
     "exception": false,
     "start_time": "2022-05-10T14:34:41.283652",
     "status": "completed"
    },
    "tags": []
   },
   "outputs": [
    {
     "data": {
      "text/html": [
       "<div>\n",
       "<style scoped>\n",
       "    .dataframe tbody tr th:only-of-type {\n",
       "        vertical-align: middle;\n",
       "    }\n",
       "\n",
       "    .dataframe tbody tr th {\n",
       "        vertical-align: top;\n",
       "    }\n",
       "\n",
       "    .dataframe thead th {\n",
       "        text-align: right;\n",
       "    }\n",
       "</style>\n",
       "<table border=\"1\" class=\"dataframe\">\n",
       "  <thead>\n",
       "    <tr style=\"text-align: right;\">\n",
       "      <th></th>\n",
       "      <th>circle_id</th>\n",
       "      <th>total_rech_amt_6</th>\n",
       "      <th>total_rech_amt_7</th>\n",
       "      <th>total_rech_amt_8</th>\n",
       "      <th>total_og_mou_6</th>\n",
       "      <th>total_og_mou_7</th>\n",
       "      <th>total_og_mou_8</th>\n",
       "      <th>offnet_mou_6</th>\n",
       "      <th>offnet_mou_7</th>\n",
       "      <th>offnet_mou_8</th>\n",
       "      <th>...</th>\n",
       "      <th>arpu_2g_7</th>\n",
       "      <th>arpu_2g_8</th>\n",
       "      <th>vol_3g_mb_6</th>\n",
       "      <th>vol_3g_mb_7</th>\n",
       "      <th>vol_3g_mb_8</th>\n",
       "      <th>vol_2g_mb_6</th>\n",
       "      <th>vol_2g_mb_7</th>\n",
       "      <th>vol_2g_mb_8</th>\n",
       "      <th>aon</th>\n",
       "      <th>churn_probability</th>\n",
       "    </tr>\n",
       "    <tr>\n",
       "      <th>id</th>\n",
       "      <th></th>\n",
       "      <th></th>\n",
       "      <th></th>\n",
       "      <th></th>\n",
       "      <th></th>\n",
       "      <th></th>\n",
       "      <th></th>\n",
       "      <th></th>\n",
       "      <th></th>\n",
       "      <th></th>\n",
       "      <th></th>\n",
       "      <th></th>\n",
       "      <th></th>\n",
       "      <th></th>\n",
       "      <th></th>\n",
       "      <th></th>\n",
       "      <th></th>\n",
       "      <th></th>\n",
       "      <th></th>\n",
       "      <th></th>\n",
       "      <th></th>\n",
       "    </tr>\n",
       "  </thead>\n",
       "  <tbody>\n",
       "    <tr>\n",
       "      <th>0</th>\n",
       "      <td>109</td>\n",
       "      <td>77</td>\n",
       "      <td>65</td>\n",
       "      <td>10</td>\n",
       "      <td>81.21</td>\n",
       "      <td>221.68</td>\n",
       "      <td>3.63</td>\n",
       "      <td>32.24</td>\n",
       "      <td>96.68</td>\n",
       "      <td>2.33</td>\n",
       "      <td>...</td>\n",
       "      <td>NaN</td>\n",
       "      <td>NaN</td>\n",
       "      <td>0.0</td>\n",
       "      <td>0.00</td>\n",
       "      <td>0.0</td>\n",
       "      <td>0.0</td>\n",
       "      <td>0.00</td>\n",
       "      <td>0.00</td>\n",
       "      <td>1958</td>\n",
       "      <td>0</td>\n",
       "    </tr>\n",
       "    <tr>\n",
       "      <th>1</th>\n",
       "      <td>109</td>\n",
       "      <td>0</td>\n",
       "      <td>145</td>\n",
       "      <td>50</td>\n",
       "      <td>0.00</td>\n",
       "      <td>30.73</td>\n",
       "      <td>31.66</td>\n",
       "      <td>0.00</td>\n",
       "      <td>25.99</td>\n",
       "      <td>30.89</td>\n",
       "      <td>...</td>\n",
       "      <td>122.08</td>\n",
       "      <td>NaN</td>\n",
       "      <td>0.0</td>\n",
       "      <td>3.96</td>\n",
       "      <td>0.0</td>\n",
       "      <td>0.0</td>\n",
       "      <td>352.91</td>\n",
       "      <td>0.00</td>\n",
       "      <td>710</td>\n",
       "      <td>0</td>\n",
       "    </tr>\n",
       "    <tr>\n",
       "      <th>2</th>\n",
       "      <td>109</td>\n",
       "      <td>70</td>\n",
       "      <td>120</td>\n",
       "      <td>0</td>\n",
       "      <td>56.49</td>\n",
       "      <td>99.36</td>\n",
       "      <td>0.00</td>\n",
       "      <td>53.99</td>\n",
       "      <td>82.05</td>\n",
       "      <td>0.00</td>\n",
       "      <td>...</td>\n",
       "      <td>NaN</td>\n",
       "      <td>NaN</td>\n",
       "      <td>0.0</td>\n",
       "      <td>0.00</td>\n",
       "      <td>0.0</td>\n",
       "      <td>0.0</td>\n",
       "      <td>0.00</td>\n",
       "      <td>0.00</td>\n",
       "      <td>882</td>\n",
       "      <td>0</td>\n",
       "    </tr>\n",
       "    <tr>\n",
       "      <th>3</th>\n",
       "      <td>109</td>\n",
       "      <td>160</td>\n",
       "      <td>240</td>\n",
       "      <td>130</td>\n",
       "      <td>76.03</td>\n",
       "      <td>95.98</td>\n",
       "      <td>53.84</td>\n",
       "      <td>68.76</td>\n",
       "      <td>78.48</td>\n",
       "      <td>50.23</td>\n",
       "      <td>...</td>\n",
       "      <td>NaN</td>\n",
       "      <td>NaN</td>\n",
       "      <td>0.0</td>\n",
       "      <td>0.00</td>\n",
       "      <td>0.0</td>\n",
       "      <td>0.0</td>\n",
       "      <td>0.00</td>\n",
       "      <td>0.00</td>\n",
       "      <td>982</td>\n",
       "      <td>0</td>\n",
       "    </tr>\n",
       "    <tr>\n",
       "      <th>4</th>\n",
       "      <td>109</td>\n",
       "      <td>290</td>\n",
       "      <td>136</td>\n",
       "      <td>122</td>\n",
       "      <td>63.26</td>\n",
       "      <td>42.94</td>\n",
       "      <td>15.76</td>\n",
       "      <td>56.99</td>\n",
       "      <td>38.11</td>\n",
       "      <td>9.63</td>\n",
       "      <td>...</td>\n",
       "      <td>35.12</td>\n",
       "      <td>0.0</td>\n",
       "      <td>0.0</td>\n",
       "      <td>0.00</td>\n",
       "      <td>0.0</td>\n",
       "      <td>390.8</td>\n",
       "      <td>308.89</td>\n",
       "      <td>213.47</td>\n",
       "      <td>647</td>\n",
       "      <td>0</td>\n",
       "    </tr>\n",
       "  </tbody>\n",
       "</table>\n",
       "<p>5 rows × 24 columns</p>\n",
       "</div>"
      ],
      "text/plain": [
       "    circle_id  total_rech_amt_6  total_rech_amt_7  total_rech_amt_8  \\\n",
       "id                                                                    \n",
       "0         109                77                65                10   \n",
       "1         109                 0               145                50   \n",
       "2         109                70               120                 0   \n",
       "3         109               160               240               130   \n",
       "4         109               290               136               122   \n",
       "\n",
       "    total_og_mou_6  total_og_mou_7  total_og_mou_8  offnet_mou_6  \\\n",
       "id                                                                 \n",
       "0            81.21          221.68            3.63         32.24   \n",
       "1             0.00           30.73           31.66          0.00   \n",
       "2            56.49           99.36            0.00         53.99   \n",
       "3            76.03           95.98           53.84         68.76   \n",
       "4            63.26           42.94           15.76         56.99   \n",
       "\n",
       "    offnet_mou_7  offnet_mou_8  ...  arpu_2g_7  arpu_2g_8  vol_3g_mb_6  \\\n",
       "id                              ...                                      \n",
       "0          96.68          2.33  ...        NaN        NaN          0.0   \n",
       "1          25.99         30.89  ...     122.08        NaN          0.0   \n",
       "2          82.05          0.00  ...        NaN        NaN          0.0   \n",
       "3          78.48         50.23  ...        NaN        NaN          0.0   \n",
       "4          38.11          9.63  ...      35.12        0.0          0.0   \n",
       "\n",
       "    vol_3g_mb_7  vol_3g_mb_8  vol_2g_mb_6  vol_2g_mb_7  vol_2g_mb_8   aon  \\\n",
       "id                                                                          \n",
       "0          0.00          0.0          0.0         0.00         0.00  1958   \n",
       "1          3.96          0.0          0.0       352.91         0.00   710   \n",
       "2          0.00          0.0          0.0         0.00         0.00   882   \n",
       "3          0.00          0.0          0.0         0.00         0.00   982   \n",
       "4          0.00          0.0        390.8       308.89       213.47   647   \n",
       "\n",
       "    churn_probability  \n",
       "id                     \n",
       "0                   0  \n",
       "1                   0  \n",
       "2                   0  \n",
       "3                   0  \n",
       "4                   0  \n",
       "\n",
       "[5 rows x 24 columns]"
      ]
     },
     "execution_count": 5,
     "metadata": {},
     "output_type": "execute_result"
    }
   ],
   "source": [
    "data.head()"
   ]
  },
  {
   "cell_type": "markdown",
   "id": "405a5633",
   "metadata": {
    "papermill": {
     "duration": 0.07195,
     "end_time": "2022-05-10T14:34:41.530869",
     "exception": false,
     "start_time": "2022-05-10T14:34:41.458919",
     "status": "completed"
    },
    "tags": []
   },
   "source": [
    "Let's look at each variable's datatype:"
   ]
  },
  {
   "cell_type": "code",
   "execution_count": 6,
   "id": "b2590418",
   "metadata": {
    "execution": {
     "iopub.execute_input": "2022-05-10T14:34:41.673133Z",
     "iopub.status.busy": "2022-05-10T14:34:41.672482Z",
     "iopub.status.idle": "2022-05-10T14:34:41.698793Z",
     "shell.execute_reply": "2022-05-10T14:34:41.697715Z"
    },
    "papermill": {
     "duration": 0.10057,
     "end_time": "2022-05-10T14:34:41.701577",
     "exception": false,
     "start_time": "2022-05-10T14:34:41.601007",
     "status": "completed"
    },
    "tags": []
   },
   "outputs": [
    {
     "name": "stdout",
     "output_type": "stream",
     "text": [
      "<class 'pandas.core.frame.DataFrame'>\n",
      "Int64Index: 69999 entries, 0 to 69998\n",
      "Data columns (total 24 columns):\n",
      " #   Column             Non-Null Count  Dtype  \n",
      "---  ------             --------------  -----  \n",
      " 0   circle_id          69999 non-null  int64  \n",
      " 1   total_rech_amt_6   69999 non-null  int64  \n",
      " 2   total_rech_amt_7   69999 non-null  int64  \n",
      " 3   total_rech_amt_8   69999 non-null  int64  \n",
      " 4   total_og_mou_6     69999 non-null  float64\n",
      " 5   total_og_mou_7     69999 non-null  float64\n",
      " 6   total_og_mou_8     69999 non-null  float64\n",
      " 7   offnet_mou_6       67231 non-null  float64\n",
      " 8   offnet_mou_7       67312 non-null  float64\n",
      " 9   offnet_mou_8       66296 non-null  float64\n",
      " 10  arpu_3g_6          17568 non-null  float64\n",
      " 11  arpu_3g_7          17865 non-null  float64\n",
      " 12  arpu_3g_8          18417 non-null  float64\n",
      " 13  arpu_2g_6          17568 non-null  float64\n",
      " 14  arpu_2g_7          17865 non-null  float64\n",
      " 15  arpu_2g_8          18417 non-null  float64\n",
      " 16  vol_3g_mb_6        69999 non-null  float64\n",
      " 17  vol_3g_mb_7        69999 non-null  float64\n",
      " 18  vol_3g_mb_8        69999 non-null  float64\n",
      " 19  vol_2g_mb_6        69999 non-null  float64\n",
      " 20  vol_2g_mb_7        69999 non-null  float64\n",
      " 21  vol_2g_mb_8        69999 non-null  float64\n",
      " 22  aon                69999 non-null  int64  \n",
      " 23  churn_probability  69999 non-null  int64  \n",
      "dtypes: float64(18), int64(6)\n",
      "memory usage: 13.4 MB\n"
     ]
    }
   ],
   "source": [
    "data.info(verbose=1)"
   ]
  },
  {
   "cell_type": "markdown",
   "id": "74973328",
   "metadata": {
    "papermill": {
     "duration": 0.073745,
     "end_time": "2022-05-10T14:34:41.846415",
     "exception": false,
     "start_time": "2022-05-10T14:34:41.772670",
     "status": "completed"
    },
    "tags": []
   },
   "source": [
    "Let's also summarize the features using the df.describe method:"
   ]
  },
  {
   "cell_type": "code",
   "execution_count": 7,
   "id": "f4af326c",
   "metadata": {
    "execution": {
     "iopub.execute_input": "2022-05-10T14:34:41.991632Z",
     "iopub.status.busy": "2022-05-10T14:34:41.990611Z",
     "iopub.status.idle": "2022-05-10T14:34:42.149922Z",
     "shell.execute_reply": "2022-05-10T14:34:42.148853Z"
    },
    "papermill": {
     "duration": 0.233986,
     "end_time": "2022-05-10T14:34:42.152459",
     "exception": false,
     "start_time": "2022-05-10T14:34:41.918473",
     "status": "completed"
    },
    "tags": []
   },
   "outputs": [
    {
     "data": {
      "text/html": [
       "<div>\n",
       "<style scoped>\n",
       "    .dataframe tbody tr th:only-of-type {\n",
       "        vertical-align: middle;\n",
       "    }\n",
       "\n",
       "    .dataframe tbody tr th {\n",
       "        vertical-align: top;\n",
       "    }\n",
       "\n",
       "    .dataframe thead th {\n",
       "        text-align: right;\n",
       "    }\n",
       "</style>\n",
       "<table border=\"1\" class=\"dataframe\">\n",
       "  <thead>\n",
       "    <tr style=\"text-align: right;\">\n",
       "      <th></th>\n",
       "      <th>circle_id</th>\n",
       "      <th>total_rech_amt_6</th>\n",
       "      <th>total_rech_amt_7</th>\n",
       "      <th>total_rech_amt_8</th>\n",
       "      <th>total_og_mou_6</th>\n",
       "      <th>total_og_mou_7</th>\n",
       "      <th>total_og_mou_8</th>\n",
       "      <th>offnet_mou_6</th>\n",
       "      <th>offnet_mou_7</th>\n",
       "      <th>offnet_mou_8</th>\n",
       "      <th>...</th>\n",
       "      <th>arpu_2g_7</th>\n",
       "      <th>arpu_2g_8</th>\n",
       "      <th>vol_3g_mb_6</th>\n",
       "      <th>vol_3g_mb_7</th>\n",
       "      <th>vol_3g_mb_8</th>\n",
       "      <th>vol_2g_mb_6</th>\n",
       "      <th>vol_2g_mb_7</th>\n",
       "      <th>vol_2g_mb_8</th>\n",
       "      <th>aon</th>\n",
       "      <th>churn_probability</th>\n",
       "    </tr>\n",
       "  </thead>\n",
       "  <tbody>\n",
       "    <tr>\n",
       "      <th>count</th>\n",
       "      <td>69999.0</td>\n",
       "      <td>69999.000000</td>\n",
       "      <td>69999.000000</td>\n",
       "      <td>69999.000000</td>\n",
       "      <td>69999.000000</td>\n",
       "      <td>69999.000000</td>\n",
       "      <td>69999.000000</td>\n",
       "      <td>67231.000000</td>\n",
       "      <td>67312.000000</td>\n",
       "      <td>66296.000000</td>\n",
       "      <td>...</td>\n",
       "      <td>17865.000000</td>\n",
       "      <td>18417.000000</td>\n",
       "      <td>69999.000000</td>\n",
       "      <td>69999.000000</td>\n",
       "      <td>69999.000000</td>\n",
       "      <td>69999.000000</td>\n",
       "      <td>69999.000000</td>\n",
       "      <td>69999.000000</td>\n",
       "      <td>69999.000000</td>\n",
       "      <td>69999.000000</td>\n",
       "    </tr>\n",
       "    <tr>\n",
       "      <th>mean</th>\n",
       "      <td>109.0</td>\n",
       "      <td>328.139788</td>\n",
       "      <td>322.376363</td>\n",
       "      <td>323.846355</td>\n",
       "      <td>306.451436</td>\n",
       "      <td>310.572674</td>\n",
       "      <td>304.513065</td>\n",
       "      <td>198.874771</td>\n",
       "      <td>197.153383</td>\n",
       "      <td>196.543577</td>\n",
       "      <td>...</td>\n",
       "      <td>85.846074</td>\n",
       "      <td>86.348404</td>\n",
       "      <td>122.171882</td>\n",
       "      <td>128.934444</td>\n",
       "      <td>135.486541</td>\n",
       "      <td>51.773924</td>\n",
       "      <td>51.240204</td>\n",
       "      <td>50.127506</td>\n",
       "      <td>1220.639709</td>\n",
       "      <td>0.101887</td>\n",
       "    </tr>\n",
       "    <tr>\n",
       "      <th>std</th>\n",
       "      <td>0.0</td>\n",
       "      <td>404.211068</td>\n",
       "      <td>411.070120</td>\n",
       "      <td>426.181405</td>\n",
       "      <td>465.502866</td>\n",
       "      <td>479.131770</td>\n",
       "      <td>477.936832</td>\n",
       "      <td>316.818355</td>\n",
       "      <td>322.482226</td>\n",
       "      <td>324.089234</td>\n",
       "      <td>...</td>\n",
       "      <td>178.067280</td>\n",
       "      <td>170.297094</td>\n",
       "      <td>554.869965</td>\n",
       "      <td>554.096072</td>\n",
       "      <td>568.310234</td>\n",
       "      <td>212.513909</td>\n",
       "      <td>211.114667</td>\n",
       "      <td>213.101403</td>\n",
       "      <td>952.426321</td>\n",
       "      <td>0.302502</td>\n",
       "    </tr>\n",
       "    <tr>\n",
       "      <th>min</th>\n",
       "      <td>109.0</td>\n",
       "      <td>0.000000</td>\n",
       "      <td>0.000000</td>\n",
       "      <td>0.000000</td>\n",
       "      <td>0.000000</td>\n",
       "      <td>0.000000</td>\n",
       "      <td>0.000000</td>\n",
       "      <td>0.000000</td>\n",
       "      <td>0.000000</td>\n",
       "      <td>0.000000</td>\n",
       "      <td>...</td>\n",
       "      <td>-13.090000</td>\n",
       "      <td>-55.830000</td>\n",
       "      <td>0.000000</td>\n",
       "      <td>0.000000</td>\n",
       "      <td>0.000000</td>\n",
       "      <td>0.000000</td>\n",
       "      <td>0.000000</td>\n",
       "      <td>0.000000</td>\n",
       "      <td>180.000000</td>\n",
       "      <td>0.000000</td>\n",
       "    </tr>\n",
       "    <tr>\n",
       "      <th>25%</th>\n",
       "      <td>109.0</td>\n",
       "      <td>110.000000</td>\n",
       "      <td>100.000000</td>\n",
       "      <td>90.000000</td>\n",
       "      <td>44.780000</td>\n",
       "      <td>42.910000</td>\n",
       "      <td>38.710000</td>\n",
       "      <td>34.860000</td>\n",
       "      <td>32.240000</td>\n",
       "      <td>31.575000</td>\n",
       "      <td>...</td>\n",
       "      <td>0.000000</td>\n",
       "      <td>0.000000</td>\n",
       "      <td>0.000000</td>\n",
       "      <td>0.000000</td>\n",
       "      <td>0.000000</td>\n",
       "      <td>0.000000</td>\n",
       "      <td>0.000000</td>\n",
       "      <td>0.000000</td>\n",
       "      <td>468.000000</td>\n",
       "      <td>0.000000</td>\n",
       "    </tr>\n",
       "    <tr>\n",
       "      <th>50%</th>\n",
       "      <td>109.0</td>\n",
       "      <td>229.000000</td>\n",
       "      <td>220.000000</td>\n",
       "      <td>225.000000</td>\n",
       "      <td>145.280000</td>\n",
       "      <td>141.230000</td>\n",
       "      <td>138.360000</td>\n",
       "      <td>96.480000</td>\n",
       "      <td>91.885000</td>\n",
       "      <td>91.800000</td>\n",
       "      <td>...</td>\n",
       "      <td>8.800000</td>\n",
       "      <td>9.090000</td>\n",
       "      <td>0.000000</td>\n",
       "      <td>0.000000</td>\n",
       "      <td>0.000000</td>\n",
       "      <td>0.000000</td>\n",
       "      <td>0.000000</td>\n",
       "      <td>0.000000</td>\n",
       "      <td>868.000000</td>\n",
       "      <td>0.000000</td>\n",
       "    </tr>\n",
       "    <tr>\n",
       "      <th>75%</th>\n",
       "      <td>109.0</td>\n",
       "      <td>438.000000</td>\n",
       "      <td>430.000000</td>\n",
       "      <td>436.000000</td>\n",
       "      <td>374.305000</td>\n",
       "      <td>380.045000</td>\n",
       "      <td>370.895000</td>\n",
       "      <td>232.990000</td>\n",
       "      <td>227.630000</td>\n",
       "      <td>229.345000</td>\n",
       "      <td>...</td>\n",
       "      <td>122.070000</td>\n",
       "      <td>122.070000</td>\n",
       "      <td>0.000000</td>\n",
       "      <td>0.000000</td>\n",
       "      <td>0.000000</td>\n",
       "      <td>0.000000</td>\n",
       "      <td>0.000000</td>\n",
       "      <td>0.000000</td>\n",
       "      <td>1813.000000</td>\n",
       "      <td>0.000000</td>\n",
       "    </tr>\n",
       "    <tr>\n",
       "      <th>max</th>\n",
       "      <td>109.0</td>\n",
       "      <td>35190.000000</td>\n",
       "      <td>40335.000000</td>\n",
       "      <td>45320.000000</td>\n",
       "      <td>10674.030000</td>\n",
       "      <td>8285.640000</td>\n",
       "      <td>14043.060000</td>\n",
       "      <td>8362.360000</td>\n",
       "      <td>7043.980000</td>\n",
       "      <td>14007.340000</td>\n",
       "      <td>...</td>\n",
       "      <td>4809.360000</td>\n",
       "      <td>3483.170000</td>\n",
       "      <td>45735.400000</td>\n",
       "      <td>28144.120000</td>\n",
       "      <td>30036.060000</td>\n",
       "      <td>10285.900000</td>\n",
       "      <td>7873.550000</td>\n",
       "      <td>11117.610000</td>\n",
       "      <td>4337.000000</td>\n",
       "      <td>1.000000</td>\n",
       "    </tr>\n",
       "  </tbody>\n",
       "</table>\n",
       "<p>8 rows × 24 columns</p>\n",
       "</div>"
      ],
      "text/plain": [
       "       circle_id  total_rech_amt_6  total_rech_amt_7  total_rech_amt_8  \\\n",
       "count    69999.0      69999.000000      69999.000000      69999.000000   \n",
       "mean       109.0        328.139788        322.376363        323.846355   \n",
       "std          0.0        404.211068        411.070120        426.181405   \n",
       "min        109.0          0.000000          0.000000          0.000000   \n",
       "25%        109.0        110.000000        100.000000         90.000000   \n",
       "50%        109.0        229.000000        220.000000        225.000000   \n",
       "75%        109.0        438.000000        430.000000        436.000000   \n",
       "max        109.0      35190.000000      40335.000000      45320.000000   \n",
       "\n",
       "       total_og_mou_6  total_og_mou_7  total_og_mou_8  offnet_mou_6  \\\n",
       "count    69999.000000    69999.000000    69999.000000  67231.000000   \n",
       "mean       306.451436      310.572674      304.513065    198.874771   \n",
       "std        465.502866      479.131770      477.936832    316.818355   \n",
       "min          0.000000        0.000000        0.000000      0.000000   \n",
       "25%         44.780000       42.910000       38.710000     34.860000   \n",
       "50%        145.280000      141.230000      138.360000     96.480000   \n",
       "75%        374.305000      380.045000      370.895000    232.990000   \n",
       "max      10674.030000     8285.640000    14043.060000   8362.360000   \n",
       "\n",
       "       offnet_mou_7  offnet_mou_8  ...     arpu_2g_7     arpu_2g_8  \\\n",
       "count  67312.000000  66296.000000  ...  17865.000000  18417.000000   \n",
       "mean     197.153383    196.543577  ...     85.846074     86.348404   \n",
       "std      322.482226    324.089234  ...    178.067280    170.297094   \n",
       "min        0.000000      0.000000  ...    -13.090000    -55.830000   \n",
       "25%       32.240000     31.575000  ...      0.000000      0.000000   \n",
       "50%       91.885000     91.800000  ...      8.800000      9.090000   \n",
       "75%      227.630000    229.345000  ...    122.070000    122.070000   \n",
       "max     7043.980000  14007.340000  ...   4809.360000   3483.170000   \n",
       "\n",
       "        vol_3g_mb_6   vol_3g_mb_7   vol_3g_mb_8   vol_2g_mb_6   vol_2g_mb_7  \\\n",
       "count  69999.000000  69999.000000  69999.000000  69999.000000  69999.000000   \n",
       "mean     122.171882    128.934444    135.486541     51.773924     51.240204   \n",
       "std      554.869965    554.096072    568.310234    212.513909    211.114667   \n",
       "min        0.000000      0.000000      0.000000      0.000000      0.000000   \n",
       "25%        0.000000      0.000000      0.000000      0.000000      0.000000   \n",
       "50%        0.000000      0.000000      0.000000      0.000000      0.000000   \n",
       "75%        0.000000      0.000000      0.000000      0.000000      0.000000   \n",
       "max    45735.400000  28144.120000  30036.060000  10285.900000   7873.550000   \n",
       "\n",
       "        vol_2g_mb_8           aon  churn_probability  \n",
       "count  69999.000000  69999.000000       69999.000000  \n",
       "mean      50.127506   1220.639709           0.101887  \n",
       "std      213.101403    952.426321           0.302502  \n",
       "min        0.000000    180.000000           0.000000  \n",
       "25%        0.000000    468.000000           0.000000  \n",
       "50%        0.000000    868.000000           0.000000  \n",
       "75%        0.000000   1813.000000           0.000000  \n",
       "max    11117.610000   4337.000000           1.000000  \n",
       "\n",
       "[8 rows x 24 columns]"
      ]
     },
     "execution_count": 7,
     "metadata": {},
     "output_type": "execute_result"
    }
   ],
   "source": [
    "data.describe(include=\"all\")"
   ]
  },
  {
   "cell_type": "markdown",
   "id": "2c7e1930",
   "metadata": {
    "papermill": {
     "duration": 0.072245,
     "end_time": "2022-05-10T14:34:42.296929",
     "exception": false,
     "start_time": "2022-05-10T14:34:42.224684",
     "status": "completed"
    },
    "tags": []
   },
   "source": [
    "# 2. Create X, y \n",
    "\n",
    "Lets create X and y datasets and skip \"circle_id\" since it has only 1 unique value"
   ]
  },
  {
   "cell_type": "code",
   "execution_count": 8,
   "id": "07741ed5",
   "metadata": {
    "execution": {
     "iopub.execute_input": "2022-05-10T14:34:42.442608Z",
     "iopub.status.busy": "2022-05-10T14:34:42.442278Z",
     "iopub.status.idle": "2022-05-10T14:34:42.448766Z",
     "shell.execute_reply": "2022-05-10T14:34:42.447768Z"
    },
    "papermill": {
     "duration": 0.082014,
     "end_time": "2022-05-10T14:34:42.450864",
     "exception": false,
     "start_time": "2022-05-10T14:34:42.368850",
     "status": "completed"
    },
    "tags": []
   },
   "outputs": [
    {
     "data": {
      "text/plain": [
       "array([109])"
      ]
     },
     "execution_count": 8,
     "metadata": {},
     "output_type": "execute_result"
    }
   ],
   "source": [
    "data['circle_id'].unique()"
   ]
  },
  {
   "cell_type": "code",
   "execution_count": 9,
   "id": "f31e964b",
   "metadata": {
    "execution": {
     "iopub.execute_input": "2022-05-10T14:34:42.600871Z",
     "iopub.status.busy": "2022-05-10T14:34:42.600244Z",
     "iopub.status.idle": "2022-05-10T14:34:42.618902Z",
     "shell.execute_reply": "2022-05-10T14:34:42.618237Z"
    },
    "papermill": {
     "duration": 0.096702,
     "end_time": "2022-05-10T14:34:42.620933",
     "exception": false,
     "start_time": "2022-05-10T14:34:42.524231",
     "status": "completed"
    },
    "tags": []
   },
   "outputs": [
    {
     "data": {
      "text/plain": [
       "((69999, 22), (69999,))"
      ]
     },
     "execution_count": 9,
     "metadata": {},
     "output_type": "execute_result"
    }
   ],
   "source": [
    "X = data.drop(['circle_id'],1).iloc[:,:-1]\n",
    "y = data.iloc[:,-1]\n",
    "\n",
    "X.shape, y.shape"
   ]
  },
  {
   "cell_type": "markdown",
   "id": "43d2226d",
   "metadata": {
    "papermill": {
     "duration": 0.073737,
     "end_time": "2022-05-10T14:34:42.768895",
     "exception": false,
     "start_time": "2022-05-10T14:34:42.695158",
     "status": "completed"
    },
    "tags": []
   },
   "source": [
    "Splitting train and test data to avoid any contamination of the test data"
   ]
  },
  {
   "cell_type": "code",
   "execution_count": 10,
   "id": "b655671d",
   "metadata": {
    "execution": {
     "iopub.execute_input": "2022-05-10T14:34:43.126105Z",
     "iopub.status.busy": "2022-05-10T14:34:43.125076Z",
     "iopub.status.idle": "2022-05-10T14:34:43.154261Z",
     "shell.execute_reply": "2022-05-10T14:34:43.153332Z"
    },
    "papermill": {
     "duration": 0.105821,
     "end_time": "2022-05-10T14:34:43.156670",
     "exception": false,
     "start_time": "2022-05-10T14:34:43.050849",
     "status": "completed"
    },
    "tags": []
   },
   "outputs": [
    {
     "data": {
      "text/html": [
       "<div>\n",
       "<style scoped>\n",
       "    .dataframe tbody tr th:only-of-type {\n",
       "        vertical-align: middle;\n",
       "    }\n",
       "\n",
       "    .dataframe tbody tr th {\n",
       "        vertical-align: top;\n",
       "    }\n",
       "\n",
       "    .dataframe thead th {\n",
       "        text-align: right;\n",
       "    }\n",
       "</style>\n",
       "<table border=\"1\" class=\"dataframe\">\n",
       "  <thead>\n",
       "    <tr style=\"text-align: right;\">\n",
       "      <th></th>\n",
       "      <th>total_rech_amt_6</th>\n",
       "      <th>total_rech_amt_7</th>\n",
       "      <th>total_rech_amt_8</th>\n",
       "      <th>total_og_mou_6</th>\n",
       "      <th>total_og_mou_7</th>\n",
       "      <th>total_og_mou_8</th>\n",
       "      <th>offnet_mou_6</th>\n",
       "      <th>offnet_mou_7</th>\n",
       "      <th>offnet_mou_8</th>\n",
       "      <th>arpu_3g_6</th>\n",
       "      <th>...</th>\n",
       "      <th>arpu_2g_6</th>\n",
       "      <th>arpu_2g_7</th>\n",
       "      <th>arpu_2g_8</th>\n",
       "      <th>vol_3g_mb_6</th>\n",
       "      <th>vol_3g_mb_7</th>\n",
       "      <th>vol_3g_mb_8</th>\n",
       "      <th>vol_2g_mb_6</th>\n",
       "      <th>vol_2g_mb_7</th>\n",
       "      <th>vol_2g_mb_8</th>\n",
       "      <th>aon</th>\n",
       "    </tr>\n",
       "    <tr>\n",
       "      <th>id</th>\n",
       "      <th></th>\n",
       "      <th></th>\n",
       "      <th></th>\n",
       "      <th></th>\n",
       "      <th></th>\n",
       "      <th></th>\n",
       "      <th></th>\n",
       "      <th></th>\n",
       "      <th></th>\n",
       "      <th></th>\n",
       "      <th></th>\n",
       "      <th></th>\n",
       "      <th></th>\n",
       "      <th></th>\n",
       "      <th></th>\n",
       "      <th></th>\n",
       "      <th></th>\n",
       "      <th></th>\n",
       "      <th></th>\n",
       "      <th></th>\n",
       "      <th></th>\n",
       "    </tr>\n",
       "  </thead>\n",
       "  <tbody>\n",
       "    <tr>\n",
       "      <th>0</th>\n",
       "      <td>77</td>\n",
       "      <td>65</td>\n",
       "      <td>10</td>\n",
       "      <td>81.21</td>\n",
       "      <td>221.68</td>\n",
       "      <td>3.63</td>\n",
       "      <td>32.24</td>\n",
       "      <td>96.68</td>\n",
       "      <td>2.33</td>\n",
       "      <td>NaN</td>\n",
       "      <td>...</td>\n",
       "      <td>NaN</td>\n",
       "      <td>NaN</td>\n",
       "      <td>NaN</td>\n",
       "      <td>0.0</td>\n",
       "      <td>0.00</td>\n",
       "      <td>0.0</td>\n",
       "      <td>0.0</td>\n",
       "      <td>0.00</td>\n",
       "      <td>0.00</td>\n",
       "      <td>1958</td>\n",
       "    </tr>\n",
       "    <tr>\n",
       "      <th>1</th>\n",
       "      <td>0</td>\n",
       "      <td>145</td>\n",
       "      <td>50</td>\n",
       "      <td>0.00</td>\n",
       "      <td>30.73</td>\n",
       "      <td>31.66</td>\n",
       "      <td>0.00</td>\n",
       "      <td>25.99</td>\n",
       "      <td>30.89</td>\n",
       "      <td>NaN</td>\n",
       "      <td>...</td>\n",
       "      <td>NaN</td>\n",
       "      <td>122.08</td>\n",
       "      <td>NaN</td>\n",
       "      <td>0.0</td>\n",
       "      <td>3.96</td>\n",
       "      <td>0.0</td>\n",
       "      <td>0.0</td>\n",
       "      <td>352.91</td>\n",
       "      <td>0.00</td>\n",
       "      <td>710</td>\n",
       "    </tr>\n",
       "    <tr>\n",
       "      <th>2</th>\n",
       "      <td>70</td>\n",
       "      <td>120</td>\n",
       "      <td>0</td>\n",
       "      <td>56.49</td>\n",
       "      <td>99.36</td>\n",
       "      <td>0.00</td>\n",
       "      <td>53.99</td>\n",
       "      <td>82.05</td>\n",
       "      <td>0.00</td>\n",
       "      <td>NaN</td>\n",
       "      <td>...</td>\n",
       "      <td>NaN</td>\n",
       "      <td>NaN</td>\n",
       "      <td>NaN</td>\n",
       "      <td>0.0</td>\n",
       "      <td>0.00</td>\n",
       "      <td>0.0</td>\n",
       "      <td>0.0</td>\n",
       "      <td>0.00</td>\n",
       "      <td>0.00</td>\n",
       "      <td>882</td>\n",
       "    </tr>\n",
       "    <tr>\n",
       "      <th>3</th>\n",
       "      <td>160</td>\n",
       "      <td>240</td>\n",
       "      <td>130</td>\n",
       "      <td>76.03</td>\n",
       "      <td>95.98</td>\n",
       "      <td>53.84</td>\n",
       "      <td>68.76</td>\n",
       "      <td>78.48</td>\n",
       "      <td>50.23</td>\n",
       "      <td>NaN</td>\n",
       "      <td>...</td>\n",
       "      <td>NaN</td>\n",
       "      <td>NaN</td>\n",
       "      <td>NaN</td>\n",
       "      <td>0.0</td>\n",
       "      <td>0.00</td>\n",
       "      <td>0.0</td>\n",
       "      <td>0.0</td>\n",
       "      <td>0.00</td>\n",
       "      <td>0.00</td>\n",
       "      <td>982</td>\n",
       "    </tr>\n",
       "    <tr>\n",
       "      <th>4</th>\n",
       "      <td>290</td>\n",
       "      <td>136</td>\n",
       "      <td>122</td>\n",
       "      <td>63.26</td>\n",
       "      <td>42.94</td>\n",
       "      <td>15.76</td>\n",
       "      <td>56.99</td>\n",
       "      <td>38.11</td>\n",
       "      <td>9.63</td>\n",
       "      <td>0.0</td>\n",
       "      <td>...</td>\n",
       "      <td>0.0</td>\n",
       "      <td>35.12</td>\n",
       "      <td>0.0</td>\n",
       "      <td>0.0</td>\n",
       "      <td>0.00</td>\n",
       "      <td>0.0</td>\n",
       "      <td>390.8</td>\n",
       "      <td>308.89</td>\n",
       "      <td>213.47</td>\n",
       "      <td>647</td>\n",
       "    </tr>\n",
       "  </tbody>\n",
       "</table>\n",
       "<p>5 rows × 22 columns</p>\n",
       "</div>"
      ],
      "text/plain": [
       "    total_rech_amt_6  total_rech_amt_7  total_rech_amt_8  total_og_mou_6  \\\n",
       "id                                                                         \n",
       "0                 77                65                10           81.21   \n",
       "1                  0               145                50            0.00   \n",
       "2                 70               120                 0           56.49   \n",
       "3                160               240               130           76.03   \n",
       "4                290               136               122           63.26   \n",
       "\n",
       "    total_og_mou_7  total_og_mou_8  offnet_mou_6  offnet_mou_7  offnet_mou_8  \\\n",
       "id                                                                             \n",
       "0           221.68            3.63         32.24         96.68          2.33   \n",
       "1            30.73           31.66          0.00         25.99         30.89   \n",
       "2            99.36            0.00         53.99         82.05          0.00   \n",
       "3            95.98           53.84         68.76         78.48         50.23   \n",
       "4            42.94           15.76         56.99         38.11          9.63   \n",
       "\n",
       "    arpu_3g_6  ...  arpu_2g_6  arpu_2g_7  arpu_2g_8  vol_3g_mb_6  vol_3g_mb_7  \\\n",
       "id             ...                                                              \n",
       "0         NaN  ...        NaN        NaN        NaN          0.0         0.00   \n",
       "1         NaN  ...        NaN     122.08        NaN          0.0         3.96   \n",
       "2         NaN  ...        NaN        NaN        NaN          0.0         0.00   \n",
       "3         NaN  ...        NaN        NaN        NaN          0.0         0.00   \n",
       "4         0.0  ...        0.0      35.12        0.0          0.0         0.00   \n",
       "\n",
       "    vol_3g_mb_8  vol_2g_mb_6  vol_2g_mb_7  vol_2g_mb_8   aon  \n",
       "id                                                            \n",
       "0           0.0          0.0         0.00         0.00  1958  \n",
       "1           0.0          0.0       352.91         0.00   710  \n",
       "2           0.0          0.0         0.00         0.00   882  \n",
       "3           0.0          0.0         0.00         0.00   982  \n",
       "4           0.0        390.8       308.89       213.47   647  \n",
       "\n",
       "[5 rows x 22 columns]"
      ]
     },
     "execution_count": 10,
     "metadata": {},
     "output_type": "execute_result"
    }
   ],
   "source": [
    "X.head()"
   ]
  },
  {
   "cell_type": "markdown",
   "id": "199fd316",
   "metadata": {
    "papermill": {
     "duration": 0.073395,
     "end_time": "2022-05-10T14:34:43.305959",
     "exception": false,
     "start_time": "2022-05-10T14:34:43.232564",
     "status": "completed"
    },
    "tags": []
   },
   "source": [
    "# 3. Handling Missing data\n",
    "\n",
    "First lets analyse the missing data. We can use missingno library for quick visualizations."
   ]
  },
  {
   "cell_type": "code",
   "execution_count": 11,
   "id": "5244710c",
   "metadata": {
    "execution": {
     "iopub.execute_input": "2022-05-10T14:34:43.454880Z",
     "iopub.status.busy": "2022-05-10T14:34:43.453965Z",
     "iopub.status.idle": "2022-05-10T14:34:45.175057Z",
     "shell.execute_reply": "2022-05-10T14:34:45.173955Z"
    },
    "papermill": {
     "duration": 1.798346,
     "end_time": "2022-05-10T14:34:45.177713",
     "exception": false,
     "start_time": "2022-05-10T14:34:43.379367",
     "status": "completed"
    },
    "tags": []
   },
   "outputs": [
    {
     "data": {
      "text/plain": [
       "<AxesSubplot:>"
      ]
     },
     "execution_count": 11,
     "metadata": {},
     "output_type": "execute_result"
    },
    {
     "data": {
      "image/png": "[encoded data removed]",
      "text/plain": [
       "<Figure size 1800x720 with 3 Axes>"
      ]
     },
     "metadata": {
      "needs_background": "light"
     },
     "output_type": "display_data"
    }
   ],
   "source": [
    "msno.bar(X)"
   ]
  },
  {
   "cell_type": "code",
   "execution_count": 12,
   "id": "801977e3",
   "metadata": {
    "execution": {
     "iopub.execute_input": "2022-05-10T14:34:45.332086Z",
     "iopub.status.busy": "2022-05-10T14:34:45.331266Z",
     "iopub.status.idle": "2022-05-10T14:34:46.537411Z",
     "shell.execute_reply": "2022-05-10T14:34:46.536436Z"
    },
    "papermill": {
     "duration": 1.28747,
     "end_time": "2022-05-10T14:34:46.541536",
     "exception": false,
     "start_time": "2022-05-10T14:34:45.254066",
     "status": "completed"
    },
    "tags": []
   },
   "outputs": [
    {
     "data": {
      "text/plain": [
       "<AxesSubplot:>"
      ]
     },
     "execution_count": 12,
     "metadata": {},
     "output_type": "execute_result"
    },
    {
     "data": {
      "image/png": "[encoded data removed]",
      "text/plain": [
       "<Figure size 1800x720 with 2 Axes>"
      ]
     },
     "metadata": {
      "needs_background": "light"
     },
     "output_type": "display_data"
    }
   ],
   "source": [
    "msno.matrix(X)"
   ]
  },
  {
   "cell_type": "markdown",
   "id": "2d58dc02",
   "metadata": {
    "papermill": {
     "duration": 0.084695,
     "end_time": "2022-05-10T14:34:46.708079",
     "exception": false,
     "start_time": "2022-05-10T14:34:46.623384",
     "status": "completed"
    },
    "tags": []
   },
   "source": [
    "Lets also calculate the % missing data for each column:"
   ]
  },
  {
   "cell_type": "code",
   "execution_count": 13,
   "id": "cf69f991",
   "metadata": {
    "execution": {
     "iopub.execute_input": "2022-05-10T14:34:46.870457Z",
     "iopub.status.busy": "2022-05-10T14:34:46.869545Z",
     "iopub.status.idle": "2022-05-10T14:34:46.882943Z",
     "shell.execute_reply": "2022-05-10T14:34:46.882255Z"
    },
    "papermill": {
     "duration": 0.097321,
     "end_time": "2022-05-10T14:34:46.884885",
     "exception": false,
     "start_time": "2022-05-10T14:34:46.787564",
     "status": "completed"
    },
    "tags": []
   },
   "outputs": [
    {
     "data": {
      "text/plain": [
       "total_rech_amt_6     0.000000\n",
       "total_rech_amt_7     0.000000\n",
       "total_rech_amt_8     0.000000\n",
       "total_og_mou_6       0.000000\n",
       "total_og_mou_7       0.000000\n",
       "total_og_mou_8       0.000000\n",
       "offnet_mou_6         3.954342\n",
       "offnet_mou_7         3.838626\n",
       "offnet_mou_8         5.290076\n",
       "arpu_3g_6           74.902499\n",
       "arpu_3g_7           74.478207\n",
       "arpu_3g_8           73.689624\n",
       "arpu_2g_6           74.902499\n",
       "arpu_2g_7           74.478207\n",
       "arpu_2g_8           73.689624\n",
       "vol_3g_mb_6          0.000000\n",
       "vol_3g_mb_7          0.000000\n",
       "vol_3g_mb_8          0.000000\n",
       "vol_2g_mb_6          0.000000\n",
       "vol_2g_mb_7          0.000000\n",
       "vol_2g_mb_8          0.000000\n",
       "aon                  0.000000\n",
       "dtype: float64"
      ]
     },
     "execution_count": 13,
     "metadata": {},
     "output_type": "execute_result"
    }
   ],
   "source": [
    "missing_data_percent = 100*X.isnull().sum()/len(y)\n",
    "missing_data_percent"
   ]
  },
  {
   "cell_type": "markdown",
   "id": "4583e8db",
   "metadata": {
    "papermill": {
     "duration": 0.078636,
     "end_time": "2022-05-10T14:34:47.045398",
     "exception": false,
     "start_time": "2022-05-10T14:34:46.966762",
     "status": "completed"
    },
    "tags": []
   },
   "source": [
    "Since too much missing information would make a column not really a great predictor for churn, we drop these columns and keep only the ones which have less than 40% missing data."
   ]
  },
  {
   "cell_type": "code",
   "execution_count": 14,
   "id": "56705c61",
   "metadata": {
    "execution": {
     "iopub.execute_input": "2022-05-10T14:34:47.207067Z",
     "iopub.status.busy": "2022-05-10T14:34:47.206667Z",
     "iopub.status.idle": "2022-05-10T14:34:47.214414Z",
     "shell.execute_reply": "2022-05-10T14:34:47.213603Z"
    },
    "papermill": {
     "duration": 0.091686,
     "end_time": "2022-05-10T14:34:47.216265",
     "exception": false,
     "start_time": "2022-05-10T14:34:47.124579",
     "status": "completed"
    },
    "tags": []
   },
   "outputs": [
    {
     "data": {
      "text/plain": [
       "Index(['total_rech_amt_6', 'total_rech_amt_7', 'total_rech_amt_8',\n",
       "       'total_og_mou_6', 'total_og_mou_7', 'total_og_mou_8', 'offnet_mou_6',\n",
       "       'offnet_mou_7', 'offnet_mou_8', 'vol_3g_mb_6', 'vol_3g_mb_7',\n",
       "       'vol_3g_mb_8', 'vol_2g_mb_6', 'vol_2g_mb_7', 'vol_2g_mb_8', 'aon'],\n",
       "      dtype='object')"
      ]
     },
     "execution_count": 14,
     "metadata": {},
     "output_type": "execute_result"
    }
   ],
   "source": [
    "new_vars = missing_data_percent[missing_data_percent.le(40)].index\n",
    "new_vars"
   ]
  },
  {
   "cell_type": "code",
   "execution_count": 15,
   "id": "b4fb9488",
   "metadata": {
    "execution": {
     "iopub.execute_input": "2022-05-10T14:34:47.375679Z",
     "iopub.status.busy": "2022-05-10T14:34:47.375162Z",
     "iopub.status.idle": "2022-05-10T14:34:47.384475Z",
     "shell.execute_reply": "2022-05-10T14:34:47.383868Z"
    },
    "papermill": {
     "duration": 0.091495,
     "end_time": "2022-05-10T14:34:47.386611",
     "exception": false,
     "start_time": "2022-05-10T14:34:47.295116",
     "status": "completed"
    },
    "tags": []
   },
   "outputs": [
    {
     "data": {
      "text/plain": [
       "(69999, 16)"
      ]
     },
     "execution_count": 15,
     "metadata": {},
     "output_type": "execute_result"
    }
   ],
   "source": [
    "X_filtered = X[new_vars]\n",
    "X_filtered.shape"
   ]
  },
  {
   "cell_type": "markdown",
   "id": "c1d6e0ce",
   "metadata": {
    "papermill": {
     "duration": 0.078511,
     "end_time": "2022-05-10T14:34:47.544151",
     "exception": false,
     "start_time": "2022-05-10T14:34:47.465640",
     "status": "completed"
    },
    "tags": []
   },
   "source": [
    "Next, we try imputation on variables with any amount of missing data still left. There are multiple ways of imputing data, and each will require a good business understanding of what the missing data is and how you may handle it.\n",
    "\n",
    "Some tips while working with missing data - \n",
    "\n",
    "1. Can simply replace missing values directly with a constant value such as 0\n",
    "2. In certain cases you may want to replace it with the average value for each column respectively\n",
    "3. For timeseries data, you may consider using linear or spline interplolation between a set of points, if you have data available for some of the months, and missing for the others.\n",
    "4. You can consider more advance methods for imputation such as MICE.\n",
    "\n",
    "In our case, I will just demostrate a simple imputation with constant values as zeros."
   ]
  },
  {
   "cell_type": "code",
   "execution_count": 16,
   "id": "749f4b4f",
   "metadata": {
    "execution": {
     "iopub.execute_input": "2022-05-10T14:34:47.706500Z",
     "iopub.status.busy": "2022-05-10T14:34:47.705768Z",
     "iopub.status.idle": "2022-05-10T14:34:47.716087Z",
     "shell.execute_reply": "2022-05-10T14:34:47.715207Z"
    },
    "papermill": {
     "duration": 0.094983,
     "end_time": "2022-05-10T14:34:47.718327",
     "exception": false,
     "start_time": "2022-05-10T14:34:47.623344",
     "status": "completed"
    },
    "tags": []
   },
   "outputs": [
    {
     "data": {
      "text/plain": [
       "Index(['offnet_mou_6', 'offnet_mou_7', 'offnet_mou_8'], dtype='object')"
      ]
     },
     "execution_count": 16,
     "metadata": {},
     "output_type": "execute_result"
    }
   ],
   "source": [
    "missing_data_percent = X_filtered.isnull().any()\n",
    "impute_cols = missing_data_percent[missing_data_percent.gt(0)].index\n",
    "impute_cols"
   ]
  },
  {
   "cell_type": "code",
   "execution_count": 17,
   "id": "7d34396b",
   "metadata": {
    "execution": {
     "iopub.execute_input": "2022-05-10T14:34:47.880930Z",
     "iopub.status.busy": "2022-05-10T14:34:47.880558Z",
     "iopub.status.idle": "2022-05-10T14:34:47.894307Z",
     "shell.execute_reply": "2022-05-10T14:34:47.893151Z"
    },
    "papermill": {
     "duration": 0.09885,
     "end_time": "2022-05-10T14:34:47.896654",
     "exception": false,
     "start_time": "2022-05-10T14:34:47.797804",
     "status": "completed"
    },
    "tags": []
   },
   "outputs": [],
   "source": [
    "imp = SimpleImputer(strategy='constant', fill_value=0)\n",
    "X_filtered[impute_cols] = imp.fit_transform(X_filtered[impute_cols])"
   ]
  },
  {
   "cell_type": "code",
   "execution_count": 18,
   "id": "6ba4228a",
   "metadata": {
    "execution": {
     "iopub.execute_input": "2022-05-10T14:34:48.058698Z",
     "iopub.status.busy": "2022-05-10T14:34:48.058341Z",
     "iopub.status.idle": "2022-05-10T14:34:49.473673Z",
     "shell.execute_reply": "2022-05-10T14:34:49.472569Z"
    },
    "papermill": {
     "duration": 1.49985,
     "end_time": "2022-05-10T14:34:49.475949",
     "exception": false,
     "start_time": "2022-05-10T14:34:47.976099",
     "status": "completed"
    },
    "tags": []
   },
   "outputs": [
    {
     "data": {
      "text/plain": [
       "<AxesSubplot:>"
      ]
     },
     "execution_count": 18,
     "metadata": {},
     "output_type": "execute_result"
    },
    {
     "data": {
      "image/png": "[encoded data removed]",
      "text/plain": [
       "<Figure size 1800x720 with 3 Axes>"
      ]
     },
     "metadata": {
      "needs_background": "light"
     },
     "output_type": "display_data"
    }
   ],
   "source": [
    "msno.bar(X_filtered)"
   ]
  },
  {
   "cell_type": "code",
   "execution_count": 19,
   "id": "6c4c529f",
   "metadata": {
    "execution": {
     "iopub.execute_input": "2022-05-10T14:34:49.642868Z",
     "iopub.status.busy": "2022-05-10T14:34:49.642495Z",
     "iopub.status.idle": "2022-05-10T14:34:49.750291Z",
     "shell.execute_reply": "2022-05-10T14:34:49.749595Z"
    },
    "papermill": {
     "duration": 0.194537,
     "end_time": "2022-05-10T14:34:49.752473",
     "exception": false,
     "start_time": "2022-05-10T14:34:49.557936",
     "status": "completed"
    },
    "tags": []
   },
   "outputs": [
    {
     "data": {
      "text/html": [
       "<div>\n",
       "<style scoped>\n",
       "    .dataframe tbody tr th:only-of-type {\n",
       "        vertical-align: middle;\n",
       "    }\n",
       "\n",
       "    .dataframe tbody tr th {\n",
       "        vertical-align: top;\n",
       "    }\n",
       "\n",
       "    .dataframe thead th {\n",
       "        text-align: right;\n",
       "    }\n",
       "</style>\n",
       "<table border=\"1\" class=\"dataframe\">\n",
       "  <thead>\n",
       "    <tr style=\"text-align: right;\">\n",
       "      <th></th>\n",
       "      <th>total_rech_amt_6</th>\n",
       "      <th>total_rech_amt_7</th>\n",
       "      <th>total_rech_amt_8</th>\n",
       "      <th>total_og_mou_6</th>\n",
       "      <th>total_og_mou_7</th>\n",
       "      <th>total_og_mou_8</th>\n",
       "      <th>offnet_mou_6</th>\n",
       "      <th>offnet_mou_7</th>\n",
       "      <th>offnet_mou_8</th>\n",
       "      <th>vol_3g_mb_6</th>\n",
       "      <th>vol_3g_mb_7</th>\n",
       "      <th>vol_3g_mb_8</th>\n",
       "      <th>vol_2g_mb_6</th>\n",
       "      <th>vol_2g_mb_7</th>\n",
       "      <th>vol_2g_mb_8</th>\n",
       "      <th>aon</th>\n",
       "    </tr>\n",
       "  </thead>\n",
       "  <tbody>\n",
       "    <tr>\n",
       "      <th>count</th>\n",
       "      <td>69999.000000</td>\n",
       "      <td>69999.000000</td>\n",
       "      <td>69999.000000</td>\n",
       "      <td>69999.000000</td>\n",
       "      <td>69999.000000</td>\n",
       "      <td>69999.000000</td>\n",
       "      <td>69999.000000</td>\n",
       "      <td>69999.000000</td>\n",
       "      <td>69999.000000</td>\n",
       "      <td>69999.000000</td>\n",
       "      <td>69999.000000</td>\n",
       "      <td>69999.000000</td>\n",
       "      <td>69999.000000</td>\n",
       "      <td>69999.000000</td>\n",
       "      <td>69999.000000</td>\n",
       "      <td>69999.000000</td>\n",
       "    </tr>\n",
       "    <tr>\n",
       "      <th>mean</th>\n",
       "      <td>328.139788</td>\n",
       "      <td>322.376363</td>\n",
       "      <td>323.846355</td>\n",
       "      <td>306.451436</td>\n",
       "      <td>310.572674</td>\n",
       "      <td>304.513065</td>\n",
       "      <td>191.010582</td>\n",
       "      <td>189.585401</td>\n",
       "      <td>186.146273</td>\n",
       "      <td>122.171882</td>\n",
       "      <td>128.934444</td>\n",
       "      <td>135.486541</td>\n",
       "      <td>51.773924</td>\n",
       "      <td>51.240204</td>\n",
       "      <td>50.127506</td>\n",
       "      <td>1220.639709</td>\n",
       "    </tr>\n",
       "    <tr>\n",
       "      <th>std</th>\n",
       "      <td>404.211068</td>\n",
       "      <td>411.070120</td>\n",
       "      <td>426.181405</td>\n",
       "      <td>465.502866</td>\n",
       "      <td>479.131770</td>\n",
       "      <td>477.936832</td>\n",
       "      <td>312.900706</td>\n",
       "      <td>318.492632</td>\n",
       "      <td>318.453812</td>\n",
       "      <td>554.869965</td>\n",
       "      <td>554.096072</td>\n",
       "      <td>568.310234</td>\n",
       "      <td>212.513909</td>\n",
       "      <td>211.114667</td>\n",
       "      <td>213.101403</td>\n",
       "      <td>952.426321</td>\n",
       "    </tr>\n",
       "    <tr>\n",
       "      <th>min</th>\n",
       "      <td>0.000000</td>\n",
       "      <td>0.000000</td>\n",
       "      <td>0.000000</td>\n",
       "      <td>0.000000</td>\n",
       "      <td>0.000000</td>\n",
       "      <td>0.000000</td>\n",
       "      <td>0.000000</td>\n",
       "      <td>0.000000</td>\n",
       "      <td>0.000000</td>\n",
       "      <td>0.000000</td>\n",
       "      <td>0.000000</td>\n",
       "      <td>0.000000</td>\n",
       "      <td>0.000000</td>\n",
       "      <td>0.000000</td>\n",
       "      <td>0.000000</td>\n",
       "      <td>180.000000</td>\n",
       "    </tr>\n",
       "    <tr>\n",
       "      <th>25%</th>\n",
       "      <td>110.000000</td>\n",
       "      <td>100.000000</td>\n",
       "      <td>90.000000</td>\n",
       "      <td>44.780000</td>\n",
       "      <td>42.910000</td>\n",
       "      <td>38.710000</td>\n",
       "      <td>28.790000</td>\n",
       "      <td>26.690000</td>\n",
       "      <td>23.780000</td>\n",
       "      <td>0.000000</td>\n",
       "      <td>0.000000</td>\n",
       "      <td>0.000000</td>\n",
       "      <td>0.000000</td>\n",
       "      <td>0.000000</td>\n",
       "      <td>0.000000</td>\n",
       "      <td>468.000000</td>\n",
       "    </tr>\n",
       "    <tr>\n",
       "      <th>50%</th>\n",
       "      <td>229.000000</td>\n",
       "      <td>220.000000</td>\n",
       "      <td>225.000000</td>\n",
       "      <td>145.280000</td>\n",
       "      <td>141.230000</td>\n",
       "      <td>138.360000</td>\n",
       "      <td>89.810000</td>\n",
       "      <td>85.590000</td>\n",
       "      <td>83.010000</td>\n",
       "      <td>0.000000</td>\n",
       "      <td>0.000000</td>\n",
       "      <td>0.000000</td>\n",
       "      <td>0.000000</td>\n",
       "      <td>0.000000</td>\n",
       "      <td>0.000000</td>\n",
       "      <td>868.000000</td>\n",
       "    </tr>\n",
       "    <tr>\n",
       "      <th>75%</th>\n",
       "      <td>438.000000</td>\n",
       "      <td>430.000000</td>\n",
       "      <td>436.000000</td>\n",
       "      <td>374.305000</td>\n",
       "      <td>380.045000</td>\n",
       "      <td>370.895000</td>\n",
       "      <td>223.540000</td>\n",
       "      <td>218.350000</td>\n",
       "      <td>216.410000</td>\n",
       "      <td>0.000000</td>\n",
       "      <td>0.000000</td>\n",
       "      <td>0.000000</td>\n",
       "      <td>0.000000</td>\n",
       "      <td>0.000000</td>\n",
       "      <td>0.000000</td>\n",
       "      <td>1813.000000</td>\n",
       "    </tr>\n",
       "    <tr>\n",
       "      <th>max</th>\n",
       "      <td>35190.000000</td>\n",
       "      <td>40335.000000</td>\n",
       "      <td>45320.000000</td>\n",
       "      <td>10674.030000</td>\n",
       "      <td>8285.640000</td>\n",
       "      <td>14043.060000</td>\n",
       "      <td>8362.360000</td>\n",
       "      <td>7043.980000</td>\n",
       "      <td>14007.340000</td>\n",
       "      <td>45735.400000</td>\n",
       "      <td>28144.120000</td>\n",
       "      <td>30036.060000</td>\n",
       "      <td>10285.900000</td>\n",
       "      <td>7873.550000</td>\n",
       "      <td>11117.610000</td>\n",
       "      <td>4337.000000</td>\n",
       "    </tr>\n",
       "  </tbody>\n",
       "</table>\n",
       "</div>"
      ],
      "text/plain": [
       "       total_rech_amt_6  total_rech_amt_7  total_rech_amt_8  total_og_mou_6  \\\n",
       "count      69999.000000      69999.000000      69999.000000    69999.000000   \n",
       "mean         328.139788        322.376363        323.846355      306.451436   \n",
       "std          404.211068        411.070120        426.181405      465.502866   \n",
       "min            0.000000          0.000000          0.000000        0.000000   \n",
       "25%          110.000000        100.000000         90.000000       44.780000   \n",
       "50%          229.000000        220.000000        225.000000      145.280000   \n",
       "75%          438.000000        430.000000        436.000000      374.305000   \n",
       "max        35190.000000      40335.000000      45320.000000    10674.030000   \n",
       "\n",
       "       total_og_mou_7  total_og_mou_8  offnet_mou_6  offnet_mou_7  \\\n",
       "count    69999.000000    69999.000000  69999.000000  69999.000000   \n",
       "mean       310.572674      304.513065    191.010582    189.585401   \n",
       "std        479.131770      477.936832    312.900706    318.492632   \n",
       "min          0.000000        0.000000      0.000000      0.000000   \n",
       "25%         42.910000       38.710000     28.790000     26.690000   \n",
       "50%        141.230000      138.360000     89.810000     85.590000   \n",
       "75%        380.045000      370.895000    223.540000    218.350000   \n",
       "max       8285.640000    14043.060000   8362.360000   7043.980000   \n",
       "\n",
       "       offnet_mou_8   vol_3g_mb_6   vol_3g_mb_7   vol_3g_mb_8   vol_2g_mb_6  \\\n",
       "count  69999.000000  69999.000000  69999.000000  69999.000000  69999.000000   \n",
       "mean     186.146273    122.171882    128.934444    135.486541     51.773924   \n",
       "std      318.453812    554.869965    554.096072    568.310234    212.513909   \n",
       "min        0.000000      0.000000      0.000000      0.000000      0.000000   \n",
       "25%       23.780000      0.000000      0.000000      0.000000      0.000000   \n",
       "50%       83.010000      0.000000      0.000000      0.000000      0.000000   \n",
       "75%      216.410000      0.000000      0.000000      0.000000      0.000000   \n",
       "max    14007.340000  45735.400000  28144.120000  30036.060000  10285.900000   \n",
       "\n",
       "        vol_2g_mb_7   vol_2g_mb_8           aon  \n",
       "count  69999.000000  69999.000000  69999.000000  \n",
       "mean      51.240204     50.127506   1220.639709  \n",
       "std      211.114667    213.101403    952.426321  \n",
       "min        0.000000      0.000000    180.000000  \n",
       "25%        0.000000      0.000000    468.000000  \n",
       "50%        0.000000      0.000000    868.000000  \n",
       "75%        0.000000      0.000000   1813.000000  \n",
       "max     7873.550000  11117.610000   4337.000000  "
      ]
     },
     "execution_count": 19,
     "metadata": {},
     "output_type": "execute_result"
    }
   ],
   "source": [
    "X_filtered.describe()"
   ]
  },
  {
   "cell_type": "markdown",
   "id": "7a94cf87",
   "metadata": {
    "papermill": {
     "duration": 0.083546,
     "end_time": "2022-05-10T14:34:49.923954",
     "exception": false,
     "start_time": "2022-05-10T14:34:49.840408",
     "status": "completed"
    },
    "tags": []
   },
   "source": [
    "# 4. Exploratory Data Analysis & Preprocessing\n",
    "\n",
    "Lets start by analysing the univariate distributions of each feature."
   ]
  },
  {
   "cell_type": "code",
   "execution_count": 20,
   "id": "8f164500",
   "metadata": {
    "execution": {
     "iopub.execute_input": "2022-05-10T14:34:50.094399Z",
     "iopub.status.busy": "2022-05-10T14:34:50.093387Z",
     "iopub.status.idle": "2022-05-10T14:34:51.009298Z",
     "shell.execute_reply": "2022-05-10T14:34:51.008264Z"
    },
    "papermill": {
     "duration": 1.003984,
     "end_time": "2022-05-10T14:34:51.011707",
     "exception": false,
     "start_time": "2022-05-10T14:34:50.007723",
     "status": "completed"
    },
    "tags": []
   },
   "outputs": [
    {
     "data": {
      "text/plain": [
       "<AxesSubplot:>"
      ]
     },
     "execution_count": 20,
     "metadata": {},
     "output_type": "execute_result"
    },
    {
     "data": {
      "image/png": "[encoded data removed]",
      "text/plain": [
       "<Figure size 1080x576 with 1 Axes>"
      ]
     },
     "metadata": {
      "needs_background": "light"
     },
     "output_type": "display_data"
    }
   ],
   "source": [
    "plt.figure(figsize=(15,8))\n",
    "plt.xticks(rotation=45)\n",
    "sns.boxplot(data = X_filtered)"
   ]
  },
  {
   "cell_type": "markdown",
   "id": "85e825e0",
   "metadata": {
    "papermill": {
     "duration": 0.087326,
     "end_time": "2022-05-10T14:34:51.186003",
     "exception": false,
     "start_time": "2022-05-10T14:34:51.098677",
     "status": "completed"
    },
    "tags": []
   },
   "source": [
    "### 4.1 Handling outliers\n",
    "\n",
    "The box plots of these features show there a lot of outliers. These can be capped with k-sigma method."
   ]
  },
  {
   "cell_type": "code",
   "execution_count": 21,
   "id": "5eac7e48",
   "metadata": {
    "execution": {
     "iopub.execute_input": "2022-05-10T14:34:51.356950Z",
     "iopub.status.busy": "2022-05-10T14:34:51.356601Z",
     "iopub.status.idle": "2022-05-10T14:34:51.361732Z",
     "shell.execute_reply": "2022-05-10T14:34:51.361109Z"
    },
    "papermill": {
     "duration": 0.092961,
     "end_time": "2022-05-10T14:34:51.363535",
     "exception": false,
     "start_time": "2022-05-10T14:34:51.270574",
     "status": "completed"
    },
    "tags": []
   },
   "outputs": [],
   "source": [
    "def cap_outliers(array, k=3):\n",
    "    upper_limit = array.mean() + k*array.std()\n",
    "    lower_limit = array.mean() - k*array.std()\n",
    "    array[array<lower_limit] = lower_limit\n",
    "    array[array>upper_limit] = upper_limit\n",
    "    return array"
   ]
  },
  {
   "cell_type": "code",
   "execution_count": 22,
   "id": "b81877a1",
   "metadata": {
    "execution": {
     "iopub.execute_input": "2022-05-10T14:34:51.535249Z",
     "iopub.status.busy": "2022-05-10T14:34:51.534684Z",
     "iopub.status.idle": "2022-05-10T14:34:52.564680Z",
     "shell.execute_reply": "2022-05-10T14:34:52.563648Z"
    },
    "papermill": {
     "duration": 1.119444,
     "end_time": "2022-05-10T14:34:52.566896",
     "exception": false,
     "start_time": "2022-05-10T14:34:51.447452",
     "status": "completed"
    },
    "tags": []
   },
   "outputs": [
    {
     "data": {
      "text/plain": [
       "<AxesSubplot:>"
      ]
     },
     "execution_count": 22,
     "metadata": {},
     "output_type": "execute_result"
    },
    {
     "data": {
      "image/png": "[encoded data removed]",
      "text/plain": [
       "<Figure size 1080x576 with 1 Axes>"
      ]
     },
     "metadata": {
      "needs_background": "light"
     },
     "output_type": "display_data"
    }
   ],
   "source": [
    "X_filtered1 = X_filtered.apply(cap_outliers, axis=0)\n",
    "\n",
    "plt.figure(figsize=(15,8))\n",
    "plt.xticks(rotation=45)\n",
    "sns.boxplot(data = X_filtered1)"
   ]
  },
  {
   "cell_type": "markdown",
   "id": "082f88e7",
   "metadata": {
    "papermill": {
     "duration": 0.0952,
     "end_time": "2022-05-10T14:34:52.749055",
     "exception": false,
     "start_time": "2022-05-10T14:34:52.653855",
     "status": "completed"
    },
    "tags": []
   },
   "source": [
    "### 4.2 Feature scaling\n",
    "\n",
    "Lets also scale the features by scaling them with Standard scaler (few other alternates are min-max scaling and Z-scaling)."
   ]
  },
  {
   "cell_type": "code",
   "execution_count": 23,
   "id": "79fbf92a",
   "metadata": {
    "execution": {
     "iopub.execute_input": "2022-05-10T14:34:52.934143Z",
     "iopub.status.busy": "2022-05-10T14:34:52.933742Z",
     "iopub.status.idle": "2022-05-10T14:34:52.956584Z",
     "shell.execute_reply": "2022-05-10T14:34:52.955364Z"
    },
    "papermill": {
     "duration": 0.115592,
     "end_time": "2022-05-10T14:34:52.959130",
     "exception": false,
     "start_time": "2022-05-10T14:34:52.843538",
     "status": "completed"
    },
    "tags": []
   },
   "outputs": [],
   "source": [
    "scale = StandardScaler()\n",
    "X_filtered2 = scale.fit_transform(X_filtered1)\n",
    "X_filtered3=X_filtered1\n",
    "X_filtered3['tenure'] = (X_filtered3['aon']/30).round(0)\n",
    "X_filtered3.drop('aon',axis=1, inplace=True)\n",
    "X_filtered4=scale.fit_transform(X_filtered3)"
   ]
  },
  {
   "cell_type": "code",
   "execution_count": 24,
   "id": "0513e52e",
   "metadata": {},
   "outputs": [
    {
     "data": {
      "image/png": "[encoded data removed]",
      "text/plain": [
       "<Figure size 432x288 with 1 Axes>"
      ]
     },
     "metadata": {
      "needs_background": "light"
     },
     "output_type": "display_data"
    }
   ],
   "source": [
    "# Checking the distribution of he tenure variable\n",
    "\n",
    "sns.distplot(X_filtered3['tenure'],bins=30)\n",
    "plt.show()"
   ]
  },
  {
   "cell_type": "code",
   "execution_count": 25,
   "id": "fd73cf04",
   "metadata": {},
   "outputs": [
    {
     "data": {
      "text/plain": [
       "id\n",
       "0        NaN\n",
       "1    1-2 Yrs\n",
       "2    2-5 Yrs\n",
       "3    2-5 Yrs\n",
       "4    1-2 Yrs\n",
       "Name: tenure_range, dtype: category\n",
       "Categories (5, object): ['0-6 Months' < '6-12 Months' < '1-2 Yrs' < '2-5 Yrs' < '5 Yrs and above']"
      ]
     },
     "execution_count": 25,
     "metadata": {},
     "output_type": "execute_result"
    }
   ],
   "source": [
    "tn_range = [0, 6, 12, 24, 60, 61]\n",
    "tn_label = [ '0-6 Months', '6-12 Months', '1-2 Yrs', '2-5 Yrs', '5 Yrs and above']\n",
    "X_filtered3['tenure_range'] = pd.cut(X_filtered3['tenure'], tn_range, labels=tn_label)\n",
    "X_filtered3['tenure_range'].head()"
   ]
  },
  {
   "cell_type": "code",
   "execution_count": 26,
   "id": "c413ca65",
   "metadata": {
    "execution": {
     "iopub.execute_input": "2022-05-10T14:34:53.138856Z",
     "iopub.status.busy": "2022-05-10T14:34:53.137547Z",
     "iopub.status.idle": "2022-05-10T14:34:54.145975Z",
     "shell.execute_reply": "2022-05-10T14:34:54.144852Z"
    },
    "papermill": {
     "duration": 1.100916,
     "end_time": "2022-05-10T14:34:54.148966",
     "exception": false,
     "start_time": "2022-05-10T14:34:53.048050",
     "status": "completed"
    },
    "tags": []
   },
   "outputs": [
    {
     "data": {
      "text/plain": [
       "<AxesSubplot:>"
      ]
     },
     "execution_count": 26,
     "metadata": {},
     "output_type": "execute_result"
    },
    {
     "data": {
      "image/png": "[encoded data removed]",
      "text/plain": [
       "<Figure size 1080x576 with 1 Axes>"
      ]
     },
     "metadata": {
      "needs_background": "light"
     },
     "output_type": "display_data"
    }
   ],
   "source": [
    "plt.figure(figsize=(15,8))\n",
    "plt.xticks(rotation=45)\n",
    "sns.boxplot(data = pd.DataFrame(X_filtered4, columns=new_vars))"
   ]
  },
  {
   "cell_type": "markdown",
   "id": "b631ddcd",
   "metadata": {
    "papermill": {
     "duration": 0.087885,
     "end_time": "2022-05-10T14:34:54.326098",
     "exception": false,
     "start_time": "2022-05-10T14:34:54.238213",
     "status": "completed"
    },
    "tags": []
   },
   "source": [
    "You can perform feature transformations at this stage. \n",
    "\n",
    "1. **Positively skewed:** Common transformations of this data include square root, cube root, and log.\n",
    "2. **Negatively skewed:** Common transformations include square, cube root and logarithmic.\n",
    "\n",
    "Please read the following link to understand how to perform feature scaling and preprocessing : https://scikit-learn.org/stable/modules/preprocessing.html\n",
    " \n",
    "Lets also plot the correlations for each feature for bivariate analysis."
   ]
  },
  {
   "cell_type": "code",
   "execution_count": 27,
   "id": "e65399d4",
   "metadata": {
    "execution": {
     "iopub.execute_input": "2022-05-10T14:34:54.505621Z",
     "iopub.status.busy": "2022-05-10T14:34:54.504772Z",
     "iopub.status.idle": "2022-05-10T14:34:55.041635Z",
     "shell.execute_reply": "2022-05-10T14:34:55.040715Z"
    },
    "papermill": {
     "duration": 0.630136,
     "end_time": "2022-05-10T14:34:55.044468",
     "exception": false,
     "start_time": "2022-05-10T14:34:54.414332",
     "status": "completed"
    },
    "tags": []
   },
   "outputs": [
    {
     "data": {
      "text/plain": [
       "<AxesSubplot:>"
      ]
     },
     "execution_count": 27,
     "metadata": {},
     "output_type": "execute_result"
    },
    {
     "data": {
      "image/png": "[encoded data removed]",
      "text/plain": [
       "<Figure size 720x576 with 2 Axes>"
      ]
     },
     "metadata": {
      "needs_background": "light"
     },
     "output_type": "display_data"
    }
   ],
   "source": [
    "plt.figure(figsize=(10,8))\n",
    "sns.heatmap(pd.DataFrame(X_filtered4, columns=new_vars).corr())"
   ]
  },
  {
   "cell_type": "code",
   "execution_count": 28,
   "id": "bc9651a6",
   "metadata": {
    "execution": {
     "iopub.execute_input": "2022-05-10T14:34:55.228216Z",
     "iopub.status.busy": "2022-05-10T14:34:55.227853Z",
     "iopub.status.idle": "2022-05-10T14:34:55.529592Z",
     "shell.execute_reply": "2022-05-10T14:34:55.528401Z"
    },
    "papermill": {
     "duration": 0.39622,
     "end_time": "2022-05-10T14:34:55.532019",
     "exception": false,
     "start_time": "2022-05-10T14:34:55.135799",
     "status": "completed"
    },
    "tags": []
   },
   "outputs": [
    {
     "data": {
      "text/plain": [
       "<AxesSubplot:xlabel='churn_probability', ylabel='Count'>"
      ]
     },
     "execution_count": 28,
     "metadata": {},
     "output_type": "execute_result"
    },
    {
     "data": {
      "image/png": "[encoded data removed]",
      "text/plain": [
       "<Figure size 432x288 with 1 Axes>"
      ]
     },
     "metadata": {
      "needs_background": "light"
     },
     "output_type": "display_data"
    }
   ],
   "source": [
    "#Distribution for the churn probability\n",
    "sns.histplot(y)"
   ]
  },
  {
   "cell_type": "code",
   "execution_count": 370,
   "id": "81b840b3",
   "metadata": {
    "execution": {
     "iopub.execute_input": "2022-05-10T14:34:42.942993Z",
     "iopub.status.busy": "2022-05-10T14:34:42.942672Z",
     "iopub.status.idle": "2022-05-10T14:34:42.972232Z",
     "shell.execute_reply": "2022-05-10T14:34:42.971257Z"
    },
    "papermill": {
     "duration": 0.112783,
     "end_time": "2022-05-10T14:34:42.974515",
     "exception": false,
     "start_time": "2022-05-10T14:34:42.861732",
     "status": "completed"
    },
    "tags": []
   },
   "outputs": [
    {
     "data": {
      "text/plain": [
       "((55999, 16), (14000, 16), (55999,), (14000,))"
      ]
     },
     "execution_count": 370,
     "metadata": {},
     "output_type": "execute_result"
    }
   ],
   "source": [
    "X_train, X_test, y_train, y_test = train_test_split(X_filtered2, y, test_size=0.2)\n",
    "\n",
    "X_train.shape, X_test.shape, y_train.shape, y_test.shape"
   ]
  },
  {
   "cell_type": "markdown",
   "id": "e5901a1e",
   "metadata": {},
   "source": [
    "Handling Class Imbalance problem"
   ]
  },
  {
   "cell_type": "code",
   "execution_count": 371,
   "id": "63b684fc",
   "metadata": {},
   "outputs": [],
   "source": [
    "from imblearn.over_sampling import SMOTE\n",
    "sm = SMOTE(random_state=42)\n",
    "X_train_sm,y_train_sm = sm.fit_resample(X_train,y_train)\n",
    "X_test_sm,y_test_sm = sm.fit_resample(X_test,y_test)"
   ]
  },
  {
   "cell_type": "markdown",
   "id": "a0a66019",
   "metadata": {
    "papermill": {
     "duration": 0.090369,
     "end_time": "2022-05-10T14:34:55.712775",
     "exception": false,
     "start_time": "2022-05-10T14:34:55.622406",
     "status": "completed"
    },
    "tags": []
   },
   "source": [
    "# 5. Feature engineering and selection\n",
    "\n",
    "Let's understand feature importances for raw features as well as components to decide top features for modelling."
   ]
  },
  {
   "cell_type": "code",
   "execution_count": 372,
   "id": "0e76a890",
   "metadata": {
    "execution": {
     "iopub.execute_input": "2022-05-10T14:34:55.902241Z",
     "iopub.status.busy": "2022-05-10T14:34:55.901880Z",
     "iopub.status.idle": "2022-05-10T14:35:03.687117Z",
     "shell.execute_reply": "2022-05-10T14:35:03.685848Z"
    },
    "papermill": {
     "duration": 7.885382,
     "end_time": "2022-05-10T14:35:03.689832",
     "exception": false,
     "start_time": "2022-05-10T14:34:55.804450",
     "status": "completed"
    },
    "tags": []
   },
   "outputs": [
    {
     "data": {
      "text/plain": [
       "RandomForestClassifier(n_jobs=-1)"
      ]
     },
     "execution_count": 372,
     "metadata": {},
     "output_type": "execute_result"
    }
   ],
   "source": [
    "rf = RandomForestClassifier(n_estimators=100, n_jobs=-1)\n",
    "rf.fit(X_train, y_train)"
   ]
  },
  {
   "cell_type": "code",
   "execution_count": 373,
   "id": "314e7a90",
   "metadata": {
    "execution": {
     "iopub.execute_input": "2022-05-10T14:35:03.878236Z",
     "iopub.status.busy": "2022-05-10T14:35:03.877804Z",
     "iopub.status.idle": "2022-05-10T14:35:03.986937Z",
     "shell.execute_reply": "2022-05-10T14:35:03.986125Z"
    },
    "papermill": {
     "duration": 0.20539,
     "end_time": "2022-05-10T14:35:03.989468",
     "exception": false,
     "start_time": "2022-05-10T14:35:03.784078",
     "status": "completed"
    },
    "tags": []
   },
   "outputs": [],
   "source": [
    "feature_importances = pd.DataFrame({'col':new_vars, 'importance':rf.feature_importances_})"
   ]
  },
  {
   "cell_type": "code",
   "execution_count": 374,
   "id": "b9b87e17",
   "metadata": {
    "execution": {
     "iopub.execute_input": "2022-05-10T14:35:04.175051Z",
     "iopub.status.busy": "2022-05-10T14:35:04.174505Z",
     "iopub.status.idle": "2022-05-10T14:35:04.476007Z",
     "shell.execute_reply": "2022-05-10T14:35:04.475026Z"
    },
    "papermill": {
     "duration": 0.396564,
     "end_time": "2022-05-10T14:35:04.478255",
     "exception": false,
     "start_time": "2022-05-10T14:35:04.081691",
     "status": "completed"
    },
    "tags": []
   },
   "outputs": [
    {
     "data": {
      "text/plain": [
       "<BarContainer object of 16 artists>"
      ]
     },
     "execution_count": 374,
     "metadata": {},
     "output_type": "execute_result"
    },
    {
     "data": {
      "image/png": "[encoded data removed]",
      "text/plain": [
       "<Figure size 1080x576 with 1 Axes>"
      ]
     },
     "metadata": {
      "needs_background": "light"
     },
     "output_type": "display_data"
    }
   ],
   "source": [
    "plt.figure(figsize=(15,8))\n",
    "plt.xticks(rotation=45)\n",
    "plt.bar(feature_importances['col'], feature_importances['importance'])"
   ]
  },
  {
   "cell_type": "markdown",
   "id": "e0c432fb",
   "metadata": {
    "papermill": {
     "duration": 0.092947,
     "end_time": "2022-05-10T14:35:04.663791",
     "exception": false,
     "start_time": "2022-05-10T14:35:04.570844",
     "status": "completed"
    },
    "tags": []
   },
   "source": [
    "At this step, you can create a bunch of features based on business understanding, such as \n",
    "1. \"average % gain of 3g volume from month 6 to 8\" - (growth or decline of 3g usage month over month?)\n",
    "2. \"ratio of total outgoing amount and age of user on network\" - (average daily usage of a user?)\n",
    "3. \"standard deviation of the total amount paid by user for all services\" - (too much variability in charges?)\n",
    "4. etc..\n",
    "\n",
    "Another way of finding good features would be to project them into a lower dimensional space using PCA. PCA creates components which are a linear combination of the features. This then allows you to select components which explain the highest amount of variance.\n",
    "\n",
    "Lets try to project the data onto 2D space and plot. **Note:** you can try TSNE, which is another dimensionality reduction approach as well. Check https://scikit-learn.org/stable/modules/generated/sklearn.manifold.TSNE.html for moree details."
   ]
  },
  {
   "cell_type": "code",
   "execution_count": 375,
   "id": "d5258881",
   "metadata": {
    "execution": {
     "iopub.execute_input": "2022-05-10T14:35:04.873892Z",
     "iopub.status.busy": "2022-05-10T14:35:04.873427Z",
     "iopub.status.idle": "2022-05-10T14:35:07.860080Z",
     "shell.execute_reply": "2022-05-10T14:35:07.859123Z"
    },
    "papermill": {
     "duration": 3.105225,
     "end_time": "2022-05-10T14:35:07.863723",
     "exception": false,
     "start_time": "2022-05-10T14:35:04.758498",
     "status": "completed"
    },
    "tags": []
   },
   "outputs": [
    {
     "data": {
      "text/plain": [
       "<AxesSubplot:>"
      ]
     },
     "execution_count": 375,
     "metadata": {},
     "output_type": "execute_result"
    },
    {
     "data": {
      "image/png": "[encoded data removed]",
      "text/plain": [
       "<Figure size 432x288 with 1 Axes>"
      ]
     },
     "metadata": {
      "needs_background": "light"
     },
     "output_type": "display_data"
    }
   ],
   "source": [
    "pca = PCA()\n",
    "pca_components = pca.fit_transform(X_train)\n",
    "sns.scatterplot(x=pca_components[:,0], y=pca_components[:,1], hue=y_train)"
   ]
  },
  {
   "cell_type": "code",
   "execution_count": 376,
   "id": "88d66f49",
   "metadata": {
    "execution": {
     "iopub.execute_input": "2022-05-10T14:35:08.071420Z",
     "iopub.status.busy": "2022-05-10T14:35:08.070407Z",
     "iopub.status.idle": "2022-05-10T14:35:10.949563Z",
     "shell.execute_reply": "2022-05-10T14:35:10.948535Z"
    },
    "papermill": {
     "duration": 2.986001,
     "end_time": "2022-05-10T14:35:10.953068",
     "exception": false,
     "start_time": "2022-05-10T14:35:07.967067",
     "status": "completed"
    },
    "tags": []
   },
   "outputs": [
    {
     "data": {
      "text/plain": [
       "<AxesSubplot:>"
      ]
     },
     "execution_count": 376,
     "metadata": {},
     "output_type": "execute_result"
    },
    {
     "data": {
      "image/png": "[encoded data removed]",
      "text/plain": [
       "<Figure size 432x288 with 1 Axes>"
      ]
     },
     "metadata": {
      "needs_background": "light"
     },
     "output_type": "display_data"
    }
   ],
   "source": [
    "sns.scatterplot(x=pca_components[:,1], y=pca_components[:,2], hue=y_train)"
   ]
  },
  {
   "cell_type": "markdown",
   "id": "ba41ea83",
   "metadata": {
    "papermill": {
     "duration": 0.104157,
     "end_time": "2022-05-10T14:35:11.160454",
     "exception": false,
     "start_time": "2022-05-10T14:35:11.056297",
     "status": "completed"
    },
    "tags": []
   },
   "source": [
    "Let's also check which of the components have high feature importances towards the end goal of churn prediction."
   ]
  },
  {
   "cell_type": "code",
   "execution_count": 377,
   "id": "0ce478e6",
   "metadata": {
    "execution": {
     "iopub.execute_input": "2022-05-10T14:35:11.365261Z",
     "iopub.status.busy": "2022-05-10T14:35:11.364924Z",
     "iopub.status.idle": "2022-05-10T14:35:24.459660Z",
     "shell.execute_reply": "2022-05-10T14:35:24.457524Z"
    },
    "papermill": {
     "duration": 13.20025,
     "end_time": "2022-05-10T14:35:24.462255",
     "exception": false,
     "start_time": "2022-05-10T14:35:11.262005",
     "status": "completed"
    },
    "tags": []
   },
   "outputs": [
    {
     "data": {
      "text/plain": [
       "<BarContainer object of 16 artists>"
      ]
     },
     "execution_count": 377,
     "metadata": {},
     "output_type": "execute_result"
    },
    {
     "data": {
      "image/png": "[encoded data removed]",
      "text/plain": [
       "<Figure size 1080x576 with 1 Axes>"
      ]
     },
     "metadata": {
      "needs_background": "light"
     },
     "output_type": "display_data"
    }
   ],
   "source": [
    "rf = RandomForestClassifier(n_estimators=100, n_jobs=-1)\n",
    "rf.fit(pca_components, y_train)\n",
    "\n",
    "feature_importances = pd.DataFrame({'col':['component_'+str(i) for i in range(16)], \n",
    "                                    'importance':rf.feature_importances_})\n",
    "\n",
    "plt.figure(figsize=(15,8))\n",
    "plt.xticks(rotation=45)\n",
    "plt.bar(feature_importances['col'], feature_importances['importance'])"
   ]
  },
  {
   "cell_type": "code",
   "execution_count": 378,
   "id": "2e8ed6dd",
   "metadata": {},
   "outputs": [],
   "source": [
    "y_train_pred = rf.predict(pca_components)"
   ]
  },
  {
   "cell_type": "code",
   "execution_count": 379,
   "id": "e18187ea",
   "metadata": {},
   "outputs": [
    {
     "data": {
      "text/plain": [
       "1.0"
      ]
     },
     "execution_count": 379,
     "metadata": {},
     "output_type": "execute_result"
    }
   ],
   "source": [
    "from sklearn.metrics import r2_score\n",
    "r2_score(y_train, y_train_pred)"
   ]
  },
  {
   "cell_type": "code",
   "execution_count": 380,
   "id": "090e1410",
   "metadata": {},
   "outputs": [],
   "source": [
    "y_test_pred = rf.predict(X_test)"
   ]
  },
  {
   "cell_type": "markdown",
   "id": "b9bbb283",
   "metadata": {
    "papermill": {
     "duration": 0.102765,
     "end_time": "2022-05-10T14:35:24.667554",
     "exception": false,
     "start_time": "2022-05-10T14:35:24.564789",
     "status": "completed"
    },
    "tags": []
   },
   "source": [
    "# 6. Model building\n",
    "\n",
    "Let's build a quick model with logistic regression and the first 2 PCA components."
   ]
  },
  {
   "cell_type": "code",
   "execution_count": 381,
   "id": "51a52d24",
   "metadata": {
    "execution": {
     "iopub.execute_input": "2022-05-10T14:35:24.891558Z",
     "iopub.status.busy": "2022-05-10T14:35:24.891233Z",
     "iopub.status.idle": "2022-05-10T14:35:25.088515Z",
     "shell.execute_reply": "2022-05-10T14:35:25.087368Z"
    },
    "papermill": {
     "duration": 0.313035,
     "end_time": "2022-05-10T14:35:25.091695",
     "exception": false,
     "start_time": "2022-05-10T14:35:24.778660",
     "status": "completed"
    },
    "tags": []
   },
   "outputs": [
    {
     "data": {
      "text/plain": [
       "LogisticRegression(max_iter=1000, solver='sag', tol=0.001)"
      ]
     },
     "execution_count": 381,
     "metadata": {},
     "output_type": "execute_result"
    }
   ],
   "source": [
    "lr = LogisticRegression(max_iter=1000, tol=0.001, solver='sag')\n",
    "lr.fit(pca_components[:,:2], y_train)"
   ]
  },
  {
   "cell_type": "code",
   "execution_count": 382,
   "id": "3ba9ecfd",
   "metadata": {
    "execution": {
     "iopub.execute_input": "2022-05-10T14:35:25.328829Z",
     "iopub.status.busy": "2022-05-10T14:35:25.328051Z",
     "iopub.status.idle": "2022-05-10T14:35:25.369858Z",
     "shell.execute_reply": "2022-05-10T14:35:25.368907Z"
    },
    "papermill": {
     "duration": 0.160246,
     "end_time": "2022-05-10T14:35:25.373473",
     "exception": false,
     "start_time": "2022-05-10T14:35:25.213227",
     "status": "completed"
    },
    "tags": []
   },
   "outputs": [
    {
     "data": {
      "text/plain": [
       "0.8969445882962196"
      ]
     },
     "execution_count": 382,
     "metadata": {},
     "output_type": "execute_result"
    }
   ],
   "source": [
    "lr.score(pca_components[:,:2], y_train)"
   ]
  },
  {
   "cell_type": "code",
   "execution_count": 383,
   "id": "57f395f1",
   "metadata": {},
   "outputs": [],
   "source": [
    "y_test_pred = lr.predict(X_test[:,:2])"
   ]
  },
  {
   "cell_type": "markdown",
   "id": "6fdb7791",
   "metadata": {
    "papermill": {
     "duration": 0.110775,
     "end_time": "2022-05-10T14:35:25.636268",
     "exception": false,
     "start_time": "2022-05-10T14:35:25.525493",
     "status": "completed"
    },
    "tags": []
   },
   "source": [
    "The model has 89.8% accuracy,build a pipeline to fit and score the model faster.\n",
    "\n",
    "The steps of this pipeline would be the following, but this is only one type of pipeline -\n",
    "1. Imputation\n",
    "2. Scaling\n",
    "3. PCA\n",
    "4. Classification model\n",
    "\n",
    "You can change this pipeline, add addition transformations, change models, use cross validation or even use this pipeline to work with a Gridsearch."
   ]
  },
  {
   "cell_type": "markdown",
   "id": "06a122f3",
   "metadata": {},
   "source": [
    "# Build Logistic Regression with PCA"
   ]
  },
  {
   "cell_type": "code",
   "execution_count": 384,
   "id": "4f8cefc8",
   "metadata": {
    "execution": {
     "iopub.execute_input": "2022-05-10T14:35:25.855827Z",
     "iopub.status.busy": "2022-05-10T14:35:25.855482Z",
     "iopub.status.idle": "2022-05-10T14:35:25.860471Z",
     "shell.execute_reply": "2022-05-10T14:35:25.859834Z"
    },
    "papermill": {
     "duration": 0.119778,
     "end_time": "2022-05-10T14:35:25.862367",
     "exception": false,
     "start_time": "2022-05-10T14:35:25.742589",
     "status": "completed"
    },
    "tags": []
   },
   "outputs": [],
   "source": [
    "from sklearn.preprocessing import MinMaxScaler\n",
    "imp = SimpleImputer(strategy='constant', fill_value = 0  )\n",
    "scale = StandardScaler()\n",
    "pca = PCA(n_components=4)\n",
    "lr = LogisticRegression(max_iter=2000, tol=0.001)"
   ]
  },
  {
   "cell_type": "code",
   "execution_count": 385,
   "id": "40257484",
   "metadata": {},
   "outputs": [],
   "source": [
    "pipe = Pipeline(steps = [('imputation',imp),\n",
    "                         ('scaling',scale),\n",
    "                         ('pca',pca),\n",
    "                         ('model',lr)])"
   ]
  },
  {
   "cell_type": "code",
   "execution_count": 386,
   "id": "e09dee89",
   "metadata": {},
   "outputs": [
    {
     "data": {
      "text/plain": [
       "Pipeline(steps=[('imputation',\n",
       "                 SimpleImputer(fill_value=0, strategy='constant')),\n",
       "                ('scaling', StandardScaler()), ('pca', PCA(n_components=4)),\n",
       "                ('model', LogisticRegression(max_iter=2000, tol=0.001))])"
      ]
     },
     "execution_count": 386,
     "metadata": {},
     "output_type": "execute_result"
    }
   ],
   "source": [
    "pipe.fit(X_train, y_train)"
   ]
  },
  {
   "cell_type": "code",
   "execution_count": 387,
   "id": "ae3437e5",
   "metadata": {},
   "outputs": [
    {
     "name": "stdout",
     "output_type": "stream",
     "text": [
      "Training accuracy: 0.8988374792407007\n"
     ]
    }
   ],
   "source": [
    "train_score = pipe.score(X_train, y_train)\n",
    "print(\"Training accuracy:\", train_score)"
   ]
  },
  {
   "cell_type": "code",
   "execution_count": 388,
   "id": "b8ec15df",
   "metadata": {},
   "outputs": [
    {
     "name": "stdout",
     "output_type": "stream",
     "text": [
      "Test accuracy: 0.9057857142857143\n"
     ]
    }
   ],
   "source": [
    "test_score = pipe.score(X_test, y_test)\n",
    "print(\"Test accuracy:\", test_score)"
   ]
  },
  {
   "cell_type": "code",
   "execution_count": 389,
   "id": "ae707e8e",
   "metadata": {},
   "outputs": [
    {
     "name": "stdout",
     "output_type": "stream",
     "text": [
      "              precision    recall  f1-score   support\n",
      "\n",
      "           0       0.91      0.99      0.95     12639\n",
      "           1       0.62      0.08      0.15      1361\n",
      "\n",
      "    accuracy                           0.91     14000\n",
      "   macro avg       0.76      0.54      0.55     14000\n",
      "weighted avg       0.88      0.91      0.87     14000\n",
      "\n"
     ]
    }
   ],
   "source": [
    "from sklearn.metrics import classification_report\n",
    "print(classification_report(y_test, pipe.predict(X_test)))"
   ]
  },
  {
   "cell_type": "markdown",
   "id": "0dc3d4b8",
   "metadata": {},
   "source": [
    "# Building Model with LightGBM"
   ]
  },
  {
   "cell_type": "code",
   "execution_count": 412,
   "id": "f8157792",
   "metadata": {},
   "outputs": [],
   "source": [
    "# build the lightgbm model\n",
    "import lightgbm as lgb\n",
    "clf = lgb.LGBMClassifier(boosting_type='dart', objective='binary', num_leaves=60,\n",
    "                                learning_rate=0.03, n_estimators=1000, max_depth=10,\n",
    "                                 random_state=1121218,\n",
    "   \n",
    "                                )\n",
    "#clf.fit(X_train_sm, y_train_sm)"
   ]
  },
  {
   "cell_type": "code",
   "execution_count": 413,
   "id": "948bded5",
   "metadata": {},
   "outputs": [],
   "source": [
    "# predict the results\n",
    "#y_pred=clf.predict(X_test)"
   ]
  },
  {
   "cell_type": "code",
   "execution_count": 414,
   "id": "5fbbeca6",
   "metadata": {},
   "outputs": [],
   "source": [
    "# view accuracy\n",
    "#from sklearn.metrics import accuracy_score\n",
    "#accuracy=accuracy_score(y_pred, y_test)\n",
    "#print('LightGBM Model accuracy score: {0:0.4f}'.format(accuracy_score(y_test, y_pred)))"
   ]
  },
  {
   "cell_type": "code",
   "execution_count": 415,
   "id": "d45318d6",
   "metadata": {
    "execution": {
     "iopub.execute_input": "2022-05-10T14:35:26.075630Z",
     "iopub.status.busy": "2022-05-10T14:35:26.075089Z",
     "iopub.status.idle": "2022-05-10T14:35:26.079417Z",
     "shell.execute_reply": "2022-05-10T14:35:26.078821Z"
    },
    "papermill": {
     "duration": 0.113861,
     "end_time": "2022-05-10T14:35:26.081649",
     "exception": false,
     "start_time": "2022-05-10T14:35:25.967788",
     "status": "completed"
    },
    "tags": []
   },
   "outputs": [],
   "source": [
    "pipe = Pipeline(steps = [('imputation',imp),\n",
    "                         ('scaling',scale),\n",
    "                         ('model',clf)])\n",
    "#pipe = Pipeline(steps = [('model',clf)])"
   ]
  },
  {
   "cell_type": "code",
   "execution_count": 416,
   "id": "c2251e1e",
   "metadata": {
    "execution": {
     "iopub.execute_input": "2022-05-10T14:35:26.291077Z",
     "iopub.status.busy": "2022-05-10T14:35:26.290705Z",
     "iopub.status.idle": "2022-05-10T14:35:26.721251Z",
     "shell.execute_reply": "2022-05-10T14:35:26.720221Z"
    },
    "papermill": {
     "duration": 0.538825,
     "end_time": "2022-05-10T14:35:26.724545",
     "exception": false,
     "start_time": "2022-05-10T14:35:26.185720",
     "status": "completed"
    },
    "tags": []
   },
   "outputs": [
    {
     "data": {
      "text/plain": [
       "Pipeline(steps=[('imputation',\n",
       "                 SimpleImputer(fill_value=0, strategy='constant')),\n",
       "                ('scaling', StandardScaler()),\n",
       "                ('model',\n",
       "                 LGBMClassifier(boosting_type='dart', learning_rate=0.03,\n",
       "                                max_depth=10, n_estimators=1000, num_leaves=60,\n",
       "                                objective='binary', random_state=1121218))])"
      ]
     },
     "execution_count": 416,
     "metadata": {},
     "output_type": "execute_result"
    }
   ],
   "source": [
    "pipe.fit(X_train, y_train)"
   ]
  },
  {
   "cell_type": "code",
   "execution_count": 417,
   "id": "1790d1d5",
   "metadata": {
    "execution": {
     "iopub.execute_input": "2022-05-10T14:35:27.016853Z",
     "iopub.status.busy": "2022-05-10T14:35:27.016426Z",
     "iopub.status.idle": "2022-05-10T14:35:27.060523Z",
     "shell.execute_reply": "2022-05-10T14:35:27.059233Z"
    },
    "papermill": {
     "duration": 0.16434,
     "end_time": "2022-05-10T14:35:27.064001",
     "exception": false,
     "start_time": "2022-05-10T14:35:26.899661",
     "status": "completed"
    },
    "tags": []
   },
   "outputs": [
    {
     "name": "stdout",
     "output_type": "stream",
     "text": [
      "Training accuracy: 0.9428382649690173\n"
     ]
    }
   ],
   "source": [
    "train_score = pipe.score(X_train, y_train)\n",
    "print(\"Training accuracy:\", train_score)"
   ]
  },
  {
   "cell_type": "code",
   "execution_count": 418,
   "id": "b7ba460c",
   "metadata": {
    "execution": {
     "iopub.execute_input": "2022-05-10T14:35:27.323407Z",
     "iopub.status.busy": "2022-05-10T14:35:27.323090Z",
     "iopub.status.idle": "2022-05-10T14:35:27.343130Z",
     "shell.execute_reply": "2022-05-10T14:35:27.342214Z"
    },
    "papermill": {
     "duration": 0.129285,
     "end_time": "2022-05-10T14:35:27.346557",
     "exception": false,
     "start_time": "2022-05-10T14:35:27.217272",
     "status": "completed"
    },
    "tags": []
   },
   "outputs": [
    {
     "name": "stdout",
     "output_type": "stream",
     "text": [
      "Test accuracy: 0.9375714285714286\n"
     ]
    }
   ],
   "source": [
    "test_score = pipe.score(X_test, y_test)\n",
    "print(\"Test accuracy:\", test_score)"
   ]
  },
  {
   "cell_type": "markdown",
   "id": "ed53b708",
   "metadata": {
    "papermill": {
     "duration": 0.105183,
     "end_time": "2022-05-10T14:35:27.608518",
     "exception": false,
     "start_time": "2022-05-10T14:35:27.503335",
     "status": "completed"
    },
    "tags": []
   },
   "source": [
    "Let's make a confusion matrix to analyze how each class is being predicted by the model."
   ]
  },
  {
   "cell_type": "code",
   "execution_count": 419,
   "id": "be993519",
   "metadata": {},
   "outputs": [
    {
     "name": "stdout",
     "output_type": "stream",
     "text": [
      "              precision    recall  f1-score   support\n",
      "\n",
      "           0       0.96      0.97      0.97     12639\n",
      "           1       0.71      0.60      0.65      1361\n",
      "\n",
      "    accuracy                           0.94     14000\n",
      "   macro avg       0.84      0.78      0.81     14000\n",
      "weighted avg       0.93      0.94      0.93     14000\n",
      "\n"
     ]
    }
   ],
   "source": [
    "from sklearn.metrics import classification_report\n",
    "print(classification_report(y_test, pipe.predict(X_test)))"
   ]
  },
  {
   "cell_type": "code",
   "execution_count": 420,
   "id": "fd718592",
   "metadata": {},
   "outputs": [
    {
     "data": {
      "text/plain": [
       "0.7149161518093556"
      ]
     },
     "execution_count": 420,
     "metadata": {},
     "output_type": "execute_result"
    }
   ],
   "source": [
    "precision_score(y_test, pipe.predict(X_test))"
   ]
  },
  {
   "cell_type": "code",
   "execution_count": 421,
   "id": "9dca28f0",
   "metadata": {},
   "outputs": [
    {
     "data": {
      "text/plain": [
       "0.5951506245407788"
      ]
     },
     "execution_count": 421,
     "metadata": {},
     "output_type": "execute_result"
    }
   ],
   "source": [
    "recall_score(y_test, pipe.predict(X_test))"
   ]
  },
  {
   "cell_type": "code",
   "execution_count": 422,
   "id": "e69ea730",
   "metadata": {
    "execution": {
     "iopub.execute_input": "2022-05-10T14:35:27.822308Z",
     "iopub.status.busy": "2022-05-10T14:35:27.821899Z",
     "iopub.status.idle": "2022-05-10T14:35:27.874398Z",
     "shell.execute_reply": "2022-05-10T14:35:27.873491Z"
    },
    "papermill": {
     "duration": 0.164529,
     "end_time": "2022-05-10T14:35:27.877671",
     "exception": false,
     "start_time": "2022-05-10T14:35:27.713142",
     "status": "completed"
    },
    "tags": []
   },
   "outputs": [
    {
     "data": {
      "text/plain": [
       "array([[49103,  1125],\n",
       "       [23579, 26649]])"
      ]
     },
     "execution_count": 422,
     "metadata": {},
     "output_type": "execute_result"
    }
   ],
   "source": [
    "confusion_matrix(y_train_sm, pipe.predict(X_train_sm))"
   ]
  },
  {
   "cell_type": "code",
   "execution_count": 423,
   "id": "e0053995",
   "metadata": {
    "execution": {
     "iopub.execute_input": "2022-05-10T14:35:28.137087Z",
     "iopub.status.busy": "2022-05-10T14:35:28.135991Z",
     "iopub.status.idle": "2022-05-10T14:35:28.160014Z",
     "shell.execute_reply": "2022-05-10T14:35:28.159133Z"
    },
    "papermill": {
     "duration": 0.133138,
     "end_time": "2022-05-10T14:35:28.162421",
     "exception": false,
     "start_time": "2022-05-10T14:35:28.029283",
     "status": "completed"
    },
    "tags": []
   },
   "outputs": [
    {
     "data": {
      "text/plain": [
       "array([[12316,   323],\n",
       "       [ 6436,  6203]])"
      ]
     },
     "execution_count": 423,
     "metadata": {},
     "output_type": "execute_result"
    }
   ],
   "source": [
    "confusion_matrix(y_test_sm, pipe.predict(X_test_sm))"
   ]
  },
  {
   "cell_type": "markdown",
   "id": "790db185",
   "metadata": {
    "papermill": {
     "duration": 0.105179,
     "end_time": "2022-05-10T14:35:28.423701",
     "exception": false,
     "start_time": "2022-05-10T14:35:28.318522",
     "status": "completed"
    },
    "tags": []
   },
   "source": [
    "We can see a high amount of type 2 error. Due to class imbalance, the model is clearly trying to predict majority of the cases as class 0. Understanding how to handle class imbalance in classification models might be the key to winning this competition :) (hint!)"
   ]
  },
  {
   "cell_type": "markdown",
   "id": "45346502",
   "metadata": {
    "papermill": {
     "duration": 0.107514,
     "end_time": "2022-05-10T14:35:29.224705",
     "exception": false,
     "start_time": "2022-05-10T14:35:29.117191",
     "status": "completed"
    },
    "tags": []
   },
   "source": [
    "# 7. Creating submission file\n",
    "\n",
    "For submission, we need to make sure that the format is exactly the same as the sample.csv file. It contains 2 columns, id and churn_probability"
   ]
  },
  {
   "cell_type": "code",
   "execution_count": 424,
   "id": "81349abd",
   "metadata": {
    "execution": {
     "iopub.execute_input": "2022-05-10T14:35:29.441255Z",
     "iopub.status.busy": "2022-05-10T14:35:29.440435Z",
     "iopub.status.idle": "2022-05-10T14:35:29.452110Z",
     "shell.execute_reply": "2022-05-10T14:35:29.451104Z"
    },
    "papermill": {
     "duration": 0.123953,
     "end_time": "2022-05-10T14:35:29.454512",
     "exception": false,
     "start_time": "2022-05-10T14:35:29.330559",
     "status": "completed"
    },
    "tags": []
   },
   "outputs": [
    {
     "data": {
      "text/html": [
       "<div>\n",
       "<style scoped>\n",
       "    .dataframe tbody tr th:only-of-type {\n",
       "        vertical-align: middle;\n",
       "    }\n",
       "\n",
       "    .dataframe tbody tr th {\n",
       "        vertical-align: top;\n",
       "    }\n",
       "\n",
       "    .dataframe thead th {\n",
       "        text-align: right;\n",
       "    }\n",
       "</style>\n",
       "<table border=\"1\" class=\"dataframe\">\n",
       "  <thead>\n",
       "    <tr style=\"text-align: right;\">\n",
       "      <th></th>\n",
       "      <th>id</th>\n",
       "      <th>churn_probability</th>\n",
       "    </tr>\n",
       "  </thead>\n",
       "  <tbody>\n",
       "    <tr>\n",
       "      <th>0</th>\n",
       "      <td>69999</td>\n",
       "      <td>0</td>\n",
       "    </tr>\n",
       "    <tr>\n",
       "      <th>1</th>\n",
       "      <td>70000</td>\n",
       "      <td>0</td>\n",
       "    </tr>\n",
       "    <tr>\n",
       "      <th>2</th>\n",
       "      <td>70001</td>\n",
       "      <td>0</td>\n",
       "    </tr>\n",
       "    <tr>\n",
       "      <th>3</th>\n",
       "      <td>70002</td>\n",
       "      <td>0</td>\n",
       "    </tr>\n",
       "    <tr>\n",
       "      <th>4</th>\n",
       "      <td>70003</td>\n",
       "      <td>0</td>\n",
       "    </tr>\n",
       "  </tbody>\n",
       "</table>\n",
       "</div>"
      ],
      "text/plain": [
       "      id  churn_probability\n",
       "0  69999                  0\n",
       "1  70000                  0\n",
       "2  70001                  0\n",
       "3  70002                  0\n",
       "4  70003                  0"
      ]
     },
     "execution_count": 424,
     "metadata": {},
     "output_type": "execute_result"
    }
   ],
   "source": [
    "sample.head()"
   ]
  },
  {
   "cell_type": "code",
   "execution_count": 425,
   "id": "c685cef0",
   "metadata": {
    "execution": {
     "iopub.execute_input": "2022-05-10T14:35:29.672110Z",
     "iopub.status.busy": "2022-05-10T14:35:29.671339Z",
     "iopub.status.idle": "2022-05-10T14:35:29.700767Z",
     "shell.execute_reply": "2022-05-10T14:35:29.699825Z"
    },
    "papermill": {
     "duration": 0.140931,
     "end_time": "2022-05-10T14:35:29.703086",
     "exception": false,
     "start_time": "2022-05-10T14:35:29.562155",
     "status": "completed"
    },
    "tags": []
   },
   "outputs": [
    {
     "data": {
      "text/html": [
       "<div>\n",
       "<style scoped>\n",
       "    .dataframe tbody tr th:only-of-type {\n",
       "        vertical-align: middle;\n",
       "    }\n",
       "\n",
       "    .dataframe tbody tr th {\n",
       "        vertical-align: top;\n",
       "    }\n",
       "\n",
       "    .dataframe thead th {\n",
       "        text-align: right;\n",
       "    }\n",
       "</style>\n",
       "<table border=\"1\" class=\"dataframe\">\n",
       "  <thead>\n",
       "    <tr style=\"text-align: right;\">\n",
       "      <th></th>\n",
       "      <th>id</th>\n",
       "      <th>circle_id</th>\n",
       "      <th>loc_og_t2o_mou</th>\n",
       "      <th>std_og_t2o_mou</th>\n",
       "      <th>loc_ic_t2o_mou</th>\n",
       "      <th>last_date_of_month_6</th>\n",
       "      <th>last_date_of_month_7</th>\n",
       "      <th>last_date_of_month_8</th>\n",
       "      <th>arpu_6</th>\n",
       "      <th>arpu_7</th>\n",
       "      <th>...</th>\n",
       "      <th>sachet_3g_7</th>\n",
       "      <th>sachet_3g_8</th>\n",
       "      <th>fb_user_6</th>\n",
       "      <th>fb_user_7</th>\n",
       "      <th>fb_user_8</th>\n",
       "      <th>aon</th>\n",
       "      <th>aug_vbc_3g</th>\n",
       "      <th>jul_vbc_3g</th>\n",
       "      <th>jun_vbc_3g</th>\n",
       "      <th>churn_probability</th>\n",
       "    </tr>\n",
       "  </thead>\n",
       "  <tbody>\n",
       "    <tr>\n",
       "      <th>0</th>\n",
       "      <td>69999</td>\n",
       "      <td>109</td>\n",
       "      <td>0.0</td>\n",
       "      <td>0.0</td>\n",
       "      <td>0.0</td>\n",
       "      <td>6/30/2014</td>\n",
       "      <td>7/31/2014</td>\n",
       "      <td>8/31/2014</td>\n",
       "      <td>91.882</td>\n",
       "      <td>65.330</td>\n",
       "      <td>...</td>\n",
       "      <td>0</td>\n",
       "      <td>0</td>\n",
       "      <td>NaN</td>\n",
       "      <td>NaN</td>\n",
       "      <td>NaN</td>\n",
       "      <td>1692</td>\n",
       "      <td>0.00</td>\n",
       "      <td>0.00</td>\n",
       "      <td>0.00</td>\n",
       "      <td>0</td>\n",
       "    </tr>\n",
       "    <tr>\n",
       "      <th>1</th>\n",
       "      <td>70000</td>\n",
       "      <td>109</td>\n",
       "      <td>0.0</td>\n",
       "      <td>0.0</td>\n",
       "      <td>0.0</td>\n",
       "      <td>6/30/2014</td>\n",
       "      <td>7/31/2014</td>\n",
       "      <td>8/31/2014</td>\n",
       "      <td>414.168</td>\n",
       "      <td>515.568</td>\n",
       "      <td>...</td>\n",
       "      <td>0</td>\n",
       "      <td>0</td>\n",
       "      <td>NaN</td>\n",
       "      <td>NaN</td>\n",
       "      <td>NaN</td>\n",
       "      <td>2533</td>\n",
       "      <td>0.00</td>\n",
       "      <td>0.00</td>\n",
       "      <td>0.00</td>\n",
       "      <td>0</td>\n",
       "    </tr>\n",
       "    <tr>\n",
       "      <th>2</th>\n",
       "      <td>70001</td>\n",
       "      <td>109</td>\n",
       "      <td>0.0</td>\n",
       "      <td>0.0</td>\n",
       "      <td>0.0</td>\n",
       "      <td>6/30/2014</td>\n",
       "      <td>7/31/2014</td>\n",
       "      <td>8/31/2014</td>\n",
       "      <td>329.844</td>\n",
       "      <td>434.884</td>\n",
       "      <td>...</td>\n",
       "      <td>0</td>\n",
       "      <td>0</td>\n",
       "      <td>NaN</td>\n",
       "      <td>NaN</td>\n",
       "      <td>NaN</td>\n",
       "      <td>277</td>\n",
       "      <td>525.61</td>\n",
       "      <td>758.41</td>\n",
       "      <td>241.84</td>\n",
       "      <td>0</td>\n",
       "    </tr>\n",
       "    <tr>\n",
       "      <th>3</th>\n",
       "      <td>70002</td>\n",
       "      <td>109</td>\n",
       "      <td>0.0</td>\n",
       "      <td>0.0</td>\n",
       "      <td>0.0</td>\n",
       "      <td>6/30/2014</td>\n",
       "      <td>7/31/2014</td>\n",
       "      <td>8/31/2014</td>\n",
       "      <td>43.550</td>\n",
       "      <td>171.390</td>\n",
       "      <td>...</td>\n",
       "      <td>0</td>\n",
       "      <td>0</td>\n",
       "      <td>NaN</td>\n",
       "      <td>NaN</td>\n",
       "      <td>NaN</td>\n",
       "      <td>1244</td>\n",
       "      <td>0.00</td>\n",
       "      <td>0.00</td>\n",
       "      <td>0.00</td>\n",
       "      <td>0</td>\n",
       "    </tr>\n",
       "    <tr>\n",
       "      <th>4</th>\n",
       "      <td>70003</td>\n",
       "      <td>109</td>\n",
       "      <td>0.0</td>\n",
       "      <td>0.0</td>\n",
       "      <td>0.0</td>\n",
       "      <td>6/30/2014</td>\n",
       "      <td>7/31/2014</td>\n",
       "      <td>8/31/2014</td>\n",
       "      <td>306.854</td>\n",
       "      <td>406.289</td>\n",
       "      <td>...</td>\n",
       "      <td>0</td>\n",
       "      <td>0</td>\n",
       "      <td>NaN</td>\n",
       "      <td>NaN</td>\n",
       "      <td>NaN</td>\n",
       "      <td>462</td>\n",
       "      <td>0.00</td>\n",
       "      <td>0.00</td>\n",
       "      <td>0.00</td>\n",
       "      <td>0</td>\n",
       "    </tr>\n",
       "  </tbody>\n",
       "</table>\n",
       "<p>5 rows × 172 columns</p>\n",
       "</div>"
      ],
      "text/plain": [
       "      id  circle_id  loc_og_t2o_mou  std_og_t2o_mou  loc_ic_t2o_mou  \\\n",
       "0  69999        109             0.0             0.0             0.0   \n",
       "1  70000        109             0.0             0.0             0.0   \n",
       "2  70001        109             0.0             0.0             0.0   \n",
       "3  70002        109             0.0             0.0             0.0   \n",
       "4  70003        109             0.0             0.0             0.0   \n",
       "\n",
       "  last_date_of_month_6 last_date_of_month_7 last_date_of_month_8   arpu_6  \\\n",
       "0            6/30/2014            7/31/2014            8/31/2014   91.882   \n",
       "1            6/30/2014            7/31/2014            8/31/2014  414.168   \n",
       "2            6/30/2014            7/31/2014            8/31/2014  329.844   \n",
       "3            6/30/2014            7/31/2014            8/31/2014   43.550   \n",
       "4            6/30/2014            7/31/2014            8/31/2014  306.854   \n",
       "\n",
       "    arpu_7  ...  sachet_3g_7  sachet_3g_8  fb_user_6  fb_user_7  fb_user_8  \\\n",
       "0   65.330  ...            0            0        NaN        NaN        NaN   \n",
       "1  515.568  ...            0            0        NaN        NaN        NaN   \n",
       "2  434.884  ...            0            0        NaN        NaN        NaN   \n",
       "3  171.390  ...            0            0        NaN        NaN        NaN   \n",
       "4  406.289  ...            0            0        NaN        NaN        NaN   \n",
       "\n",
       "    aon  aug_vbc_3g  jul_vbc_3g  jun_vbc_3g  churn_probability  \n",
       "0  1692        0.00        0.00        0.00                  0  \n",
       "1  2533        0.00        0.00        0.00                  0  \n",
       "2   277      525.61      758.41      241.84                  0  \n",
       "3  1244        0.00        0.00        0.00                  0  \n",
       "4   462        0.00        0.00        0.00                  0  \n",
       "\n",
       "[5 rows x 172 columns]"
      ]
     },
     "execution_count": 425,
     "metadata": {},
     "output_type": "execute_result"
    }
   ],
   "source": [
    "unseen.head()"
   ]
  },
  {
   "cell_type": "markdown",
   "id": "caf99ca0",
   "metadata": {
    "papermill": {
     "duration": 0.109346,
     "end_time": "2022-05-10T14:35:29.927431",
     "exception": false,
     "start_time": "2022-05-10T14:35:29.818085",
     "status": "completed"
    },
    "tags": []
   },
   "source": [
    "Lets first select the columns that we want to work with (or create them, if you have done any feature engineering)"
   ]
  },
  {
   "cell_type": "code",
   "execution_count": 426,
   "id": "e3199f9e",
   "metadata": {
    "execution": {
     "iopub.execute_input": "2022-05-10T14:35:30.145644Z",
     "iopub.status.busy": "2022-05-10T14:35:30.145308Z",
     "iopub.status.idle": "2022-05-10T14:35:30.213722Z",
     "shell.execute_reply": "2022-05-10T14:35:30.212643Z"
    },
    "papermill": {
     "duration": 0.180613,
     "end_time": "2022-05-10T14:35:30.216212",
     "exception": false,
     "start_time": "2022-05-10T14:35:30.035599",
     "status": "completed"
    },
    "tags": []
   },
   "outputs": [
    {
     "data": {
      "text/html": [
       "<div>\n",
       "<style scoped>\n",
       "    .dataframe tbody tr th:only-of-type {\n",
       "        vertical-align: middle;\n",
       "    }\n",
       "\n",
       "    .dataframe tbody tr th {\n",
       "        vertical-align: top;\n",
       "    }\n",
       "\n",
       "    .dataframe thead th {\n",
       "        text-align: right;\n",
       "    }\n",
       "</style>\n",
       "<table border=\"1\" class=\"dataframe\">\n",
       "  <thead>\n",
       "    <tr style=\"text-align: right;\">\n",
       "      <th></th>\n",
       "      <th>count</th>\n",
       "      <th>mean</th>\n",
       "      <th>std</th>\n",
       "      <th>min</th>\n",
       "      <th>25%</th>\n",
       "      <th>50%</th>\n",
       "      <th>75%</th>\n",
       "      <th>max</th>\n",
       "    </tr>\n",
       "  </thead>\n",
       "  <tbody>\n",
       "    <tr>\n",
       "      <th>total_rech_amt_6</th>\n",
       "      <td>30000.0</td>\n",
       "      <td>326.055900</td>\n",
       "      <td>383.187192</td>\n",
       "      <td>0.0</td>\n",
       "      <td>104.0000</td>\n",
       "      <td>230.000</td>\n",
       "      <td>436.2500</td>\n",
       "      <td>18500.00</td>\n",
       "    </tr>\n",
       "    <tr>\n",
       "      <th>total_rech_amt_7</th>\n",
       "      <td>30000.0</td>\n",
       "      <td>324.331700</td>\n",
       "      <td>401.136032</td>\n",
       "      <td>0.0</td>\n",
       "      <td>100.0000</td>\n",
       "      <td>220.000</td>\n",
       "      <td>426.0000</td>\n",
       "      <td>19000.00</td>\n",
       "    </tr>\n",
       "    <tr>\n",
       "      <th>total_rech_amt_8</th>\n",
       "      <td>30000.0</td>\n",
       "      <td>324.882233</td>\n",
       "      <td>393.132804</td>\n",
       "      <td>0.0</td>\n",
       "      <td>90.0000</td>\n",
       "      <td>225.000</td>\n",
       "      <td>432.0000</td>\n",
       "      <td>14000.00</td>\n",
       "    </tr>\n",
       "    <tr>\n",
       "      <th>total_og_mou_6</th>\n",
       "      <td>30000.0</td>\n",
       "      <td>302.058108</td>\n",
       "      <td>458.514486</td>\n",
       "      <td>0.0</td>\n",
       "      <td>44.6100</td>\n",
       "      <td>144.860</td>\n",
       "      <td>370.6375</td>\n",
       "      <td>7387.54</td>\n",
       "    </tr>\n",
       "    <tr>\n",
       "      <th>total_og_mou_7</th>\n",
       "      <td>30000.0</td>\n",
       "      <td>309.434356</td>\n",
       "      <td>482.130305</td>\n",
       "      <td>0.0</td>\n",
       "      <td>43.3250</td>\n",
       "      <td>142.180</td>\n",
       "      <td>376.5600</td>\n",
       "      <td>11365.31</td>\n",
       "    </tr>\n",
       "    <tr>\n",
       "      <th>total_og_mou_8</th>\n",
       "      <td>30000.0</td>\n",
       "      <td>303.201238</td>\n",
       "      <td>478.653833</td>\n",
       "      <td>0.0</td>\n",
       "      <td>38.1375</td>\n",
       "      <td>139.470</td>\n",
       "      <td>367.9100</td>\n",
       "      <td>13848.26</td>\n",
       "    </tr>\n",
       "    <tr>\n",
       "      <th>offnet_mou_6</th>\n",
       "      <td>28831.0</td>\n",
       "      <td>195.745473</td>\n",
       "      <td>316.923836</td>\n",
       "      <td>0.0</td>\n",
       "      <td>34.3850</td>\n",
       "      <td>95.830</td>\n",
       "      <td>229.2300</td>\n",
       "      <td>6962.46</td>\n",
       "    </tr>\n",
       "    <tr>\n",
       "      <th>offnet_mou_7</th>\n",
       "      <td>28828.0</td>\n",
       "      <td>196.792375</td>\n",
       "      <td>333.628481</td>\n",
       "      <td>0.0</td>\n",
       "      <td>32.1100</td>\n",
       "      <td>91.435</td>\n",
       "      <td>224.9725</td>\n",
       "      <td>9667.13</td>\n",
       "    </tr>\n",
       "    <tr>\n",
       "      <th>offnet_mou_8</th>\n",
       "      <td>28325.0</td>\n",
       "      <td>196.647889</td>\n",
       "      <td>334.277643</td>\n",
       "      <td>0.0</td>\n",
       "      <td>31.7400</td>\n",
       "      <td>92.810</td>\n",
       "      <td>225.7600</td>\n",
       "      <td>13547.84</td>\n",
       "    </tr>\n",
       "    <tr>\n",
       "      <th>vol_3g_mb_6</th>\n",
       "      <td>30000.0</td>\n",
       "      <td>119.586364</td>\n",
       "      <td>518.620250</td>\n",
       "      <td>0.0</td>\n",
       "      <td>0.0000</td>\n",
       "      <td>0.000</td>\n",
       "      <td>0.0000</td>\n",
       "      <td>26826.13</td>\n",
       "    </tr>\n",
       "    <tr>\n",
       "      <th>vol_3g_mb_7</th>\n",
       "      <td>30000.0</td>\n",
       "      <td>129.139120</td>\n",
       "      <td>510.891130</td>\n",
       "      <td>0.0</td>\n",
       "      <td>0.0000</td>\n",
       "      <td>0.000</td>\n",
       "      <td>0.0000</td>\n",
       "      <td>17030.29</td>\n",
       "    </tr>\n",
       "    <tr>\n",
       "      <th>vol_3g_mb_8</th>\n",
       "      <td>30000.0</td>\n",
       "      <td>135.233704</td>\n",
       "      <td>535.877419</td>\n",
       "      <td>0.0</td>\n",
       "      <td>0.0000</td>\n",
       "      <td>0.000</td>\n",
       "      <td>0.0000</td>\n",
       "      <td>28065.93</td>\n",
       "    </tr>\n",
       "    <tr>\n",
       "      <th>vol_2g_mb_6</th>\n",
       "      <td>30000.0</td>\n",
       "      <td>52.210692</td>\n",
       "      <td>215.312764</td>\n",
       "      <td>0.0</td>\n",
       "      <td>0.0000</td>\n",
       "      <td>0.000</td>\n",
       "      <td>0.0000</td>\n",
       "      <td>7755.23</td>\n",
       "    </tr>\n",
       "    <tr>\n",
       "      <th>vol_2g_mb_7</th>\n",
       "      <td>30000.0</td>\n",
       "      <td>51.205981</td>\n",
       "      <td>215.051169</td>\n",
       "      <td>0.0</td>\n",
       "      <td>0.0000</td>\n",
       "      <td>0.000</td>\n",
       "      <td>0.0000</td>\n",
       "      <td>6756.90</td>\n",
       "    </tr>\n",
       "    <tr>\n",
       "      <th>vol_2g_mb_8</th>\n",
       "      <td>30000.0</td>\n",
       "      <td>50.269665</td>\n",
       "      <td>210.582741</td>\n",
       "      <td>0.0</td>\n",
       "      <td>0.0000</td>\n",
       "      <td>0.000</td>\n",
       "      <td>0.0000</td>\n",
       "      <td>7374.19</td>\n",
       "    </tr>\n",
       "    <tr>\n",
       "      <th>aon</th>\n",
       "      <td>30000.0</td>\n",
       "      <td>1218.023200</td>\n",
       "      <td>960.109844</td>\n",
       "      <td>180.0</td>\n",
       "      <td>466.0000</td>\n",
       "      <td>853.000</td>\n",
       "      <td>1795.0000</td>\n",
       "      <td>4197.00</td>\n",
       "    </tr>\n",
       "  </tbody>\n",
       "</table>\n",
       "</div>"
      ],
      "text/plain": [
       "                    count         mean         std    min       25%      50%  \\\n",
       "total_rech_amt_6  30000.0   326.055900  383.187192    0.0  104.0000  230.000   \n",
       "total_rech_amt_7  30000.0   324.331700  401.136032    0.0  100.0000  220.000   \n",
       "total_rech_amt_8  30000.0   324.882233  393.132804    0.0   90.0000  225.000   \n",
       "total_og_mou_6    30000.0   302.058108  458.514486    0.0   44.6100  144.860   \n",
       "total_og_mou_7    30000.0   309.434356  482.130305    0.0   43.3250  142.180   \n",
       "total_og_mou_8    30000.0   303.201238  478.653833    0.0   38.1375  139.470   \n",
       "offnet_mou_6      28831.0   195.745473  316.923836    0.0   34.3850   95.830   \n",
       "offnet_mou_7      28828.0   196.792375  333.628481    0.0   32.1100   91.435   \n",
       "offnet_mou_8      28325.0   196.647889  334.277643    0.0   31.7400   92.810   \n",
       "vol_3g_mb_6       30000.0   119.586364  518.620250    0.0    0.0000    0.000   \n",
       "vol_3g_mb_7       30000.0   129.139120  510.891130    0.0    0.0000    0.000   \n",
       "vol_3g_mb_8       30000.0   135.233704  535.877419    0.0    0.0000    0.000   \n",
       "vol_2g_mb_6       30000.0    52.210692  215.312764    0.0    0.0000    0.000   \n",
       "vol_2g_mb_7       30000.0    51.205981  215.051169    0.0    0.0000    0.000   \n",
       "vol_2g_mb_8       30000.0    50.269665  210.582741    0.0    0.0000    0.000   \n",
       "aon               30000.0  1218.023200  960.109844  180.0  466.0000  853.000   \n",
       "\n",
       "                        75%       max  \n",
       "total_rech_amt_6   436.2500  18500.00  \n",
       "total_rech_amt_7   426.0000  19000.00  \n",
       "total_rech_amt_8   432.0000  14000.00  \n",
       "total_og_mou_6     370.6375   7387.54  \n",
       "total_og_mou_7     376.5600  11365.31  \n",
       "total_og_mou_8     367.9100  13848.26  \n",
       "offnet_mou_6       229.2300   6962.46  \n",
       "offnet_mou_7       224.9725   9667.13  \n",
       "offnet_mou_8       225.7600  13547.84  \n",
       "vol_3g_mb_6          0.0000  26826.13  \n",
       "vol_3g_mb_7          0.0000  17030.29  \n",
       "vol_3g_mb_8          0.0000  28065.93  \n",
       "vol_2g_mb_6          0.0000   7755.23  \n",
       "vol_2g_mb_7          0.0000   6756.90  \n",
       "vol_2g_mb_8          0.0000   7374.19  \n",
       "aon               1795.0000   4197.00  "
      ]
     },
     "execution_count": 426,
     "metadata": {},
     "output_type": "execute_result"
    }
   ],
   "source": [
    "submission_data = unseen.set_index('id')[new_vars]\n",
    "submission_data.describe().T"
   ]
  },
  {
   "cell_type": "markdown",
   "id": "0efad074",
   "metadata": {
    "papermill": {
     "duration": 0.108695,
     "end_time": "2022-05-10T14:35:30.433018",
     "exception": false,
     "start_time": "2022-05-10T14:35:30.324323",
     "status": "completed"
    },
    "tags": []
   },
   "source": [
    "Next, lets create a new column in the unseen dataset called churn_probability and use the model pipeline to predict the probabilities for this data"
   ]
  },
  {
   "cell_type": "code",
   "execution_count": 427,
   "id": "9abe9a6f",
   "metadata": {
    "execution": {
     "iopub.execute_input": "2022-05-10T14:35:30.654240Z",
     "iopub.status.busy": "2022-05-10T14:35:30.653331Z",
     "iopub.status.idle": "2022-05-10T14:35:30.689919Z",
     "shell.execute_reply": "2022-05-10T14:35:30.688887Z"
    },
    "papermill": {
     "duration": 0.151041,
     "end_time": "2022-05-10T14:35:30.694057",
     "exception": false,
     "start_time": "2022-05-10T14:35:30.543016",
     "status": "completed"
    },
    "tags": []
   },
   "outputs": [
    {
     "data": {
      "text/html": [
       "<div>\n",
       "<style scoped>\n",
       "    .dataframe tbody tr th:only-of-type {\n",
       "        vertical-align: middle;\n",
       "    }\n",
       "\n",
       "    .dataframe tbody tr th {\n",
       "        vertical-align: top;\n",
       "    }\n",
       "\n",
       "    .dataframe thead th {\n",
       "        text-align: right;\n",
       "    }\n",
       "</style>\n",
       "<table border=\"1\" class=\"dataframe\">\n",
       "  <thead>\n",
       "    <tr style=\"text-align: right;\">\n",
       "      <th></th>\n",
       "      <th>id</th>\n",
       "      <th>churn_probability</th>\n",
       "    </tr>\n",
       "  </thead>\n",
       "  <tbody>\n",
       "    <tr>\n",
       "      <th>0</th>\n",
       "      <td>69999</td>\n",
       "      <td>0</td>\n",
       "    </tr>\n",
       "    <tr>\n",
       "      <th>1</th>\n",
       "      <td>70000</td>\n",
       "      <td>0</td>\n",
       "    </tr>\n",
       "    <tr>\n",
       "      <th>2</th>\n",
       "      <td>70001</td>\n",
       "      <td>0</td>\n",
       "    </tr>\n",
       "    <tr>\n",
       "      <th>3</th>\n",
       "      <td>70002</td>\n",
       "      <td>0</td>\n",
       "    </tr>\n",
       "    <tr>\n",
       "      <th>4</th>\n",
       "      <td>70003</td>\n",
       "      <td>0</td>\n",
       "    </tr>\n",
       "  </tbody>\n",
       "</table>\n",
       "</div>"
      ],
      "text/plain": [
       "      id  churn_probability\n",
       "0  69999                  0\n",
       "1  70000                  0\n",
       "2  70001                  0\n",
       "3  70002                  0\n",
       "4  70003                  0"
      ]
     },
     "execution_count": 427,
     "metadata": {},
     "output_type": "execute_result"
    }
   ],
   "source": [
    "unseen['churn_probability'] = pipe.predict(submission_data)\n",
    "output = unseen[['id','churn_probability']]\n",
    "output.head()"
   ]
  },
  {
   "cell_type": "markdown",
   "id": "91d6f550",
   "metadata": {
    "papermill": {
     "duration": 0.111156,
     "end_time": "2022-05-10T14:35:30.962489",
     "exception": false,
     "start_time": "2022-05-10T14:35:30.851333",
     "status": "completed"
    },
    "tags": []
   },
   "source": [
    "Finally, lets create a csv file out of this dataset, ensuring to set index=False to avoid an addition column in the csv."
   ]
  },
  {
   "cell_type": "code",
   "execution_count": 428,
   "id": "c1d4fd67",
   "metadata": {
    "execution": {
     "iopub.execute_input": "2022-05-10T14:35:31.184054Z",
     "iopub.status.busy": "2022-05-10T14:35:31.182917Z",
     "iopub.status.idle": "2022-05-10T14:35:31.239738Z",
     "shell.execute_reply": "2022-05-10T14:35:31.238768Z"
    },
    "papermill": {
     "duration": 0.170456,
     "end_time": "2022-05-10T14:35:31.242506",
     "exception": false,
     "start_time": "2022-05-10T14:35:31.072050",
     "status": "completed"
    },
    "tags": []
   },
   "outputs": [],
   "source": [
    "output.to_csv('GeetaDesai_GeetaDesai.csv',index=False)"
   ]
  },
  {
   "cell_type": "markdown",
   "id": "068c7e4c",
   "metadata": {
    "papermill": {
     "duration": 0.108327,
     "end_time": "2022-05-10T14:35:31.458955",
     "exception": false,
     "start_time": "2022-05-10T14:35:31.350628",
     "status": "completed"
    },
    "tags": []
   },
   "source": [
    "You can now take this file and upload it as a submission on Kaggle."
   ]
  },
  {
   "cell_type": "code",
   "execution_count": null,
   "id": "0b5d0c60",
   "metadata": {},
   "outputs": [],
   "source": []
  }
 ],
 "metadata": {
  "kernelspec": {
   "display_name": "Python 3 (ipykernel)",
   "language": "python",
   "name": "python3"
  },
  "language_info": {
   "codemirror_mode": {
    "name": "ipython",
    "version": 3
   },
   "file_extension": ".py",
   "mimetype": "text/x-python",
   "name": "python",
   "nbconvert_exporter": "python",
   "pygments_lexer": "ipython3",
   "version": "3.9.12"
  },
  "papermill": {
   "default_parameters": {},
   "duration": 69.684743,
   "end_time": "2022-05-10T14:35:32.793170",
   "environment_variables": {},
   "exception": null,
   "input_path": "__notebook__.ipynb",
   "output_path": "__notebook__.ipynb",
   "parameters": {},
   "start_time": "2022-05-10T14:34:23.108427",
   "version": "2.3.4"
  }
 },
 "nbformat": 4,
 "nbformat_minor": 5
}
